{
 "cells": [
  {
   "cell_type": "markdown",
   "metadata": {},
   "source": [
    "## Pandas Series with Python Lists"
   ]
  },
  {
   "cell_type": "code",
   "execution_count": 2,
   "metadata": {},
   "outputs": [],
   "source": [
    "import pandas as pd\n",
    "import numpy as np"
   ]
  },
  {
   "cell_type": "code",
   "execution_count": 3,
   "metadata": {},
   "outputs": [],
   "source": [
    "a = [1, 2, 3, 4, 5, 6]"
   ]
  },
  {
   "cell_type": "code",
   "execution_count": 4,
   "metadata": {},
   "outputs": [
    {
     "name": "stdout",
     "output_type": "stream",
     "text": [
      "Series([], dtype: int64)\n",
      "0    1\n",
      "1    2\n",
      "2    3\n",
      "3    4\n",
      "4    5\n",
      "5    6\n",
      "dtype: int64 <class 'pandas.core.series.Series'>\n"
     ]
    }
   ],
   "source": [
    "series = pd.Series(a)\n",
    "print(series[(series > 2) & (series * series == 2)]) \n",
    "# ! -> | or & required mandatorily not \"and\" or \"or\"\n",
    "print(series, type(series))"
   ]
  },
  {
   "cell_type": "code",
   "execution_count": 5,
   "metadata": {},
   "outputs": [
    {
     "data": {
      "text/plain": [
       "a    1\n",
       "b    2\n",
       "c    3\n",
       "d    4\n",
       "e    5\n",
       "f    6\n",
       "Name: Alphabet, dtype: int64"
      ]
     },
     "execution_count": 5,
     "metadata": {},
     "output_type": "execute_result"
    }
   ],
   "source": [
    "custom_index = pd.Series(a, index=[\"a\", \"b\", \"c\", \"d\", \"e\", \"f\"], name=\"Alphabet\")\n",
    "custom_index"
   ]
  },
  {
   "cell_type": "code",
   "execution_count": 6,
   "metadata": {},
   "outputs": [
    {
     "data": {
      "text/plain": [
       "Series([], dtype: object)"
      ]
     },
     "execution_count": 6,
     "metadata": {},
     "output_type": "execute_result"
    }
   ],
   "source": [
    "empty = pd.Series([])\n",
    "empty"
   ]
  },
  {
   "cell_type": "code",
   "execution_count": 7,
   "metadata": {},
   "outputs": [
    {
     "data": {
      "text/plain": [
       "1    0.5\n",
       "2    0.5\n",
       "3    0.5\n",
       "4    0.5\n",
       "dtype: float64"
      ]
     },
     "execution_count": 7,
     "metadata": {},
     "output_type": "execute_result"
    }
   ],
   "source": [
    "scalar_series = pd.Series(0.5, index= [1, 2, 3, 4])\n",
    "scalar_series # filled with the same value i.e. 0.5"
   ]
  },
  {
   "cell_type": "code",
   "execution_count": 8,
   "metadata": {},
   "outputs": [
    {
     "data": {
      "text/plain": [
       "Gaurav           [1, 2, 3]\n",
       "Prasad                  99\n",
       "Great     [30, 27, 24, 21]\n",
       "dtype: object"
      ]
     },
     "execution_count": 8,
     "metadata": {},
     "output_type": "execute_result"
    }
   ],
   "source": [
    "dict_series = pd.Series({\"Gaurav\": [1, 2, 3], \"Prasad\": 99, \"Great\": np.arange(30, 20, step=-3)})\n",
    "dict_series"
   ]
  },
  {
   "cell_type": "markdown",
   "metadata": {},
   "source": [
    "### Operations on Series"
   ]
  },
  {
   "cell_type": "code",
   "execution_count": 9,
   "metadata": {},
   "outputs": [
    {
     "data": {
      "text/plain": [
       "Gaurav    [1, 2, 3]\n",
       "dtype: object"
      ]
     },
     "execution_count": 9,
     "metadata": {},
     "output_type": "execute_result"
    }
   ],
   "source": [
    "dict_series[0:1] # 0th row"
   ]
  },
  {
   "cell_type": "code",
   "execution_count": 10,
   "metadata": {},
   "outputs": [
    {
     "data": {
      "text/plain": [
       "(0.5, 0.5)"
      ]
     },
     "execution_count": 10,
     "metadata": {},
     "output_type": "execute_result"
    }
   ],
   "source": [
    "max(scalar_series), scalar_series.min()"
   ]
  },
  {
   "cell_type": "markdown",
   "metadata": {},
   "source": [
    "## Using DataFrames"
   ]
  },
  {
   "cell_type": "code",
   "execution_count": 11,
   "metadata": {},
   "outputs": [
    {
     "name": "stdout",
     "output_type": "stream",
     "text": [
      "Empty DataFrame\n",
      "Columns: []\n",
      "Index: []\n"
     ]
    }
   ],
   "source": [
    "df = pd.DataFrame()\n",
    "print(df)"
   ]
  },
  {
   "cell_type": "code",
   "execution_count": 12,
   "metadata": {},
   "outputs": [
    {
     "data": {
      "text/html": [
       "<div>\n",
       "<style scoped>\n",
       "    .dataframe tbody tr th:only-of-type {\n",
       "        vertical-align: middle;\n",
       "    }\n",
       "\n",
       "    .dataframe tbody tr th {\n",
       "        vertical-align: top;\n",
       "    }\n",
       "\n",
       "    .dataframe thead th {\n",
       "        text-align: right;\n",
       "    }\n",
       "</style>\n",
       "<table border=\"1\" class=\"dataframe\">\n",
       "  <thead>\n",
       "    <tr style=\"text-align: right;\">\n",
       "      <th></th>\n",
       "      <th>0</th>\n",
       "    </tr>\n",
       "  </thead>\n",
       "  <tbody>\n",
       "    <tr>\n",
       "      <th>0</th>\n",
       "      <td>1</td>\n",
       "    </tr>\n",
       "    <tr>\n",
       "      <th>1</th>\n",
       "      <td>2</td>\n",
       "    </tr>\n",
       "    <tr>\n",
       "      <th>2</th>\n",
       "      <td>3</td>\n",
       "    </tr>\n",
       "    <tr>\n",
       "      <th>3</th>\n",
       "      <td>4</td>\n",
       "    </tr>\n",
       "    <tr>\n",
       "      <th>4</th>\n",
       "      <td>5</td>\n",
       "    </tr>\n",
       "    <tr>\n",
       "      <th>5</th>\n",
       "      <td>6</td>\n",
       "    </tr>\n",
       "  </tbody>\n",
       "</table>\n",
       "</div>"
      ],
      "text/plain": [
       "   0\n",
       "0  1\n",
       "1  2\n",
       "2  3\n",
       "3  4\n",
       "4  5\n",
       "5  6"
      ]
     },
     "execution_count": 12,
     "metadata": {},
     "output_type": "execute_result"
    }
   ],
   "source": [
    "a = [1, 2, 3, 4, 5, 6]\n",
    "df = pd.DataFrame(a)\n",
    "df"
   ]
  },
  {
   "cell_type": "markdown",
   "metadata": {},
   "source": [
    "### Using Arrays or Numpy Array"
   ]
  },
  {
   "cell_type": "code",
   "execution_count": 13,
   "metadata": {},
   "outputs": [
    {
     "name": "stdout",
     "output_type": "stream",
     "text": [
      "   col1  col2  col3  col4  col5\n",
      "a     0     1     2     3     4\n",
      "b     5     6     7     8     9\n",
      "c    10    11    12    13    14\n",
      "d    15    16    17    18    19\n"
     ]
    }
   ],
   "source": [
    "a = np.arange(20).reshape(4, 5)\n",
    "df = pd.DataFrame(a, index = [\"a\", \"b\", \"c\", \"d\"], columns = [\"col1\", \"col2\", \"col3\", \"col4\", \"col5\"])\n",
    "print(df)"
   ]
  },
  {
   "cell_type": "markdown",
   "metadata": {},
   "source": [
    "### Using Dictionary"
   ]
  },
  {
   "cell_type": "code",
   "execution_count": 14,
   "metadata": {},
   "outputs": [
    {
     "data": {
      "text/html": [
       "<div>\n",
       "<style scoped>\n",
       "    .dataframe tbody tr th:only-of-type {\n",
       "        vertical-align: middle;\n",
       "    }\n",
       "\n",
       "    .dataframe tbody tr th {\n",
       "        vertical-align: top;\n",
       "    }\n",
       "\n",
       "    .dataframe thead th {\n",
       "        text-align: right;\n",
       "    }\n",
       "</style>\n",
       "<table border=\"1\" class=\"dataframe\">\n",
       "  <thead>\n",
       "    <tr style=\"text-align: right;\">\n",
       "      <th></th>\n",
       "      <th>a</th>\n",
       "      <th>b</th>\n",
       "      <th>c</th>\n",
       "    </tr>\n",
       "  </thead>\n",
       "  <tbody>\n",
       "    <tr>\n",
       "      <th>0</th>\n",
       "      <td>5.0</td>\n",
       "      <td>3</td>\n",
       "      <td>14</td>\n",
       "    </tr>\n",
       "    <tr>\n",
       "      <th>1</th>\n",
       "      <td>NaN</td>\n",
       "      <td>15</td>\n",
       "      <td>10</td>\n",
       "    </tr>\n",
       "  </tbody>\n",
       "</table>\n",
       "</div>"
      ],
      "text/plain": [
       "     a   b   c\n",
       "0  5.0   3  14\n",
       "1  NaN  15  10"
      ]
     },
     "execution_count": 14,
     "metadata": {},
     "output_type": "execute_result"
    }
   ],
   "source": [
    "dic = [{\"a\": 5, \"b\": 3, \"c\": 14}, {\"c\": 10, \"b\": 15}]\n",
    "df = pd.DataFrame(dic)\n",
    "df"
   ]
  },
  {
   "cell_type": "markdown",
   "metadata": {},
   "source": [
    "### Using Series"
   ]
  },
  {
   "cell_type": "code",
   "execution_count": 15,
   "metadata": {},
   "outputs": [
    {
     "data": {
      "text/html": [
       "<div>\n",
       "<style scoped>\n",
       "    .dataframe tbody tr th:only-of-type {\n",
       "        vertical-align: middle;\n",
       "    }\n",
       "\n",
       "    .dataframe tbody tr th {\n",
       "        vertical-align: top;\n",
       "    }\n",
       "\n",
       "    .dataframe thead th {\n",
       "        text-align: right;\n",
       "    }\n",
       "</style>\n",
       "<table border=\"1\" class=\"dataframe\">\n",
       "  <thead>\n",
       "    <tr style=\"text-align: right;\">\n",
       "      <th></th>\n",
       "      <th>RollNo</th>\n",
       "      <th>Age</th>\n",
       "    </tr>\n",
       "  </thead>\n",
       "  <tbody>\n",
       "    <tr>\n",
       "      <th>0</th>\n",
       "      <td>1</td>\n",
       "      <td>20</td>\n",
       "    </tr>\n",
       "    <tr>\n",
       "      <th>1</th>\n",
       "      <td>2</td>\n",
       "      <td>13</td>\n",
       "    </tr>\n",
       "    <tr>\n",
       "      <th>2</th>\n",
       "      <td>3</td>\n",
       "      <td>13</td>\n",
       "    </tr>\n",
       "    <tr>\n",
       "      <th>3</th>\n",
       "      <td>4</td>\n",
       "      <td>18</td>\n",
       "    </tr>\n",
       "    <tr>\n",
       "      <th>4</th>\n",
       "      <td>5</td>\n",
       "      <td>41</td>\n",
       "    </tr>\n",
       "  </tbody>\n",
       "</table>\n",
       "</div>"
      ],
      "text/plain": [
       "   RollNo  Age\n",
       "0       1   20\n",
       "1       2   13\n",
       "2       3   13\n",
       "3       4   18\n",
       "4       5   41"
      ]
     },
     "execution_count": 15,
     "metadata": {},
     "output_type": "execute_result"
    }
   ],
   "source": [
    "b = {\"RollNo\": pd.Series([1, 2, 3, 4, 5]),  \"Age\": pd.Series([20, 13, 13, 18, 41])}\n",
    "\n",
    "df = pd.DataFrame(b)\n",
    "df"
   ]
  },
  {
   "cell_type": "markdown",
   "metadata": {},
   "source": [
    "### Reading CSV"
   ]
  },
  {
   "cell_type": "code",
   "execution_count": null,
   "metadata": {},
   "outputs": [
    {
     "data": {
      "text/html": [
       "<div>\n",
       "<style scoped>\n",
       "    .dataframe tbody tr th:only-of-type {\n",
       "        vertical-align: middle;\n",
       "    }\n",
       "\n",
       "    .dataframe tbody tr th {\n",
       "        vertical-align: top;\n",
       "    }\n",
       "\n",
       "    .dataframe thead th {\n",
       "        text-align: right;\n",
       "    }\n",
       "</style>\n",
       "<table border=\"1\" class=\"dataframe\">\n",
       "  <thead>\n",
       "    <tr style=\"text-align: right;\">\n",
       "      <th></th>\n",
       "      <th>Company Names</th>\n",
       "      <th>Cars Names</th>\n",
       "      <th>Engines</th>\n",
       "      <th>CC/Battery Capacity</th>\n",
       "      <th>HorsePower</th>\n",
       "      <th>Total Speed</th>\n",
       "      <th>Performance(0 - 100 )KM/H</th>\n",
       "      <th>Cars Prices</th>\n",
       "      <th>Fuel Types</th>\n",
       "      <th>Seats</th>\n",
       "      <th>Torque</th>\n",
       "    </tr>\n",
       "  </thead>\n",
       "  <tbody>\n",
       "    <tr>\n",
       "      <th>0</th>\n",
       "      <td>FERRARI</td>\n",
       "      <td>SF90 STRADALE</td>\n",
       "      <td>V8</td>\n",
       "      <td>3990 cc</td>\n",
       "      <td>963 hp</td>\n",
       "      <td>340 km/h</td>\n",
       "      <td>2.5 sec</td>\n",
       "      <td>$1,100,000</td>\n",
       "      <td>plug in hyrbrid</td>\n",
       "      <td>2</td>\n",
       "      <td>800 Nm</td>\n",
       "    </tr>\n",
       "    <tr>\n",
       "      <th>1</th>\n",
       "      <td>ROLLS ROYCE</td>\n",
       "      <td>PHANTOM</td>\n",
       "      <td>V12</td>\n",
       "      <td>6749 cc</td>\n",
       "      <td>563 hp</td>\n",
       "      <td>250 km/h</td>\n",
       "      <td>5.3 sec</td>\n",
       "      <td>$460,000</td>\n",
       "      <td>Petrol</td>\n",
       "      <td>5</td>\n",
       "      <td>900 Nm</td>\n",
       "    </tr>\n",
       "    <tr>\n",
       "      <th>2</th>\n",
       "      <td>Ford</td>\n",
       "      <td>KA+</td>\n",
       "      <td>1.2L Petrol</td>\n",
       "      <td>1,200 cc</td>\n",
       "      <td>70-85 hp</td>\n",
       "      <td>165 km/h</td>\n",
       "      <td>10.5 sec</td>\n",
       "      <td>$12,000-$15,000</td>\n",
       "      <td>Petrol</td>\n",
       "      <td>5</td>\n",
       "      <td>100 - 140 Nm</td>\n",
       "    </tr>\n",
       "    <tr>\n",
       "      <th>3</th>\n",
       "      <td>MERCEDES</td>\n",
       "      <td>GT 63 S</td>\n",
       "      <td>V8</td>\n",
       "      <td>3,982 cc</td>\n",
       "      <td>630 hp</td>\n",
       "      <td>250 km/h</td>\n",
       "      <td>3.2 sec</td>\n",
       "      <td>$161,000</td>\n",
       "      <td>Petrol</td>\n",
       "      <td>4</td>\n",
       "      <td>900 Nm</td>\n",
       "    </tr>\n",
       "    <tr>\n",
       "      <th>4</th>\n",
       "      <td>AUDI</td>\n",
       "      <td>AUDI R8 Gt</td>\n",
       "      <td>V10</td>\n",
       "      <td>5,204 cc</td>\n",
       "      <td>602 hp</td>\n",
       "      <td>320 km/h</td>\n",
       "      <td>3.6 sec</td>\n",
       "      <td>$253,290</td>\n",
       "      <td>Petrol</td>\n",
       "      <td>2</td>\n",
       "      <td>560 Nm</td>\n",
       "    </tr>\n",
       "  </tbody>\n",
       "</table>\n",
       "</div>"
      ],
      "text/plain": [
       "  Company Names     Cars Names      Engines CC/Battery Capacity HorsePower  \\\n",
       "0       FERRARI  SF90 STRADALE           V8             3990 cc     963 hp   \n",
       "1   ROLLS ROYCE        PHANTOM          V12             6749 cc     563 hp   \n",
       "2          Ford            KA+  1.2L Petrol            1,200 cc   70-85 hp   \n",
       "3      MERCEDES        GT 63 S           V8            3,982 cc     630 hp   \n",
       "4          AUDI     AUDI R8 Gt          V10            5,204 cc     602 hp   \n",
       "\n",
       "  Total Speed Performance(0 - 100 )KM/H      Cars Prices       Fuel Types  \\\n",
       "0    340 km/h                   2.5 sec      $1,100,000   plug in hyrbrid   \n",
       "1    250 km/h                   5.3 sec        $460,000            Petrol   \n",
       "2    165 km/h                  10.5 sec  $12,000-$15,000           Petrol   \n",
       "3    250 km/h                   3.2 sec        $161,000            Petrol   \n",
       "4    320 km/h                   3.6 sec        $253,290            Petrol   \n",
       "\n",
       "  Seats        Torque  \n",
       "0     2        800 Nm  \n",
       "1     5        900 Nm  \n",
       "2     5  100 - 140 Nm  \n",
       "3     4        900 Nm  \n",
       "4     2        560 Nm  "
      ]
     },
     "execution_count": 16,
     "metadata": {},
     "output_type": "execute_result"
    }
   ],
   "source": [
    "df = pd.read_csv(\"./DataSet.csv\")\n",
    "# We can specify the index column as well like \"Roll No\" or \"Reg No\"\n",
    "df.head()"
   ]
  },
  {
   "cell_type": "markdown",
   "metadata": {},
   "source": [
    "### Operations on DataFrame"
   ]
  },
  {
   "cell_type": "code",
   "execution_count": 17,
   "metadata": {},
   "outputs": [
    {
     "data": {
      "text/plain": [
       "Index(['Company Names', 'Cars Names', 'Engines', 'CC/Battery Capacity',\n",
       "       'HorsePower', 'Total Speed', 'Performance(0 - 100 )KM/H', 'Cars Prices',\n",
       "       'Fuel Types', 'Seats', 'Torque'],\n",
       "      dtype='object')"
      ]
     },
     "execution_count": 17,
     "metadata": {},
     "output_type": "execute_result"
    }
   ],
   "source": [
    "df.columns # all columns"
   ]
  },
  {
   "cell_type": "code",
   "execution_count": 18,
   "metadata": {},
   "outputs": [
    {
     "name": "stdout",
     "output_type": "stream",
     "text": [
      "(1213, 11)\n",
      "13343\n"
     ]
    }
   ],
   "source": [
    "print(df.shape) # shape of DataFrame\n",
    "print(df.size) # rows * cols -> total cells"
   ]
  },
  {
   "cell_type": "code",
   "execution_count": 19,
   "metadata": {},
   "outputs": [
    {
     "data": {
      "text/html": [
       "<div>\n",
       "<style scoped>\n",
       "    .dataframe tbody tr th:only-of-type {\n",
       "        vertical-align: middle;\n",
       "    }\n",
       "\n",
       "    .dataframe tbody tr th {\n",
       "        vertical-align: top;\n",
       "    }\n",
       "\n",
       "    .dataframe thead th {\n",
       "        text-align: right;\n",
       "    }\n",
       "</style>\n",
       "<table border=\"1\" class=\"dataframe\">\n",
       "  <thead>\n",
       "    <tr style=\"text-align: right;\">\n",
       "      <th></th>\n",
       "      <th>Company Names</th>\n",
       "      <th>Cars Names</th>\n",
       "      <th>Engines</th>\n",
       "      <th>CC/Battery Capacity</th>\n",
       "      <th>HorsePower</th>\n",
       "      <th>Total Speed</th>\n",
       "      <th>Performance(0 - 100 )KM/H</th>\n",
       "      <th>Cars Prices</th>\n",
       "      <th>Fuel Types</th>\n",
       "      <th>Seats</th>\n",
       "      <th>Torque</th>\n",
       "    </tr>\n",
       "  </thead>\n",
       "  <tbody>\n",
       "    <tr>\n",
       "      <th>count</th>\n",
       "      <td>1213</td>\n",
       "      <td>1213</td>\n",
       "      <td>1213</td>\n",
       "      <td>1210</td>\n",
       "      <td>1213</td>\n",
       "      <td>1213</td>\n",
       "      <td>1207</td>\n",
       "      <td>1213</td>\n",
       "      <td>1213</td>\n",
       "      <td>1213</td>\n",
       "      <td>1212</td>\n",
       "    </tr>\n",
       "    <tr>\n",
       "      <th>unique</th>\n",
       "      <td>36</td>\n",
       "      <td>1196</td>\n",
       "      <td>351</td>\n",
       "      <td>306</td>\n",
       "      <td>452</td>\n",
       "      <td>114</td>\n",
       "      <td>177</td>\n",
       "      <td>531</td>\n",
       "      <td>20</td>\n",
       "      <td>19</td>\n",
       "      <td>259</td>\n",
       "    </tr>\n",
       "    <tr>\n",
       "      <th>top</th>\n",
       "      <td>Nissan</td>\n",
       "      <td>Panamera Platinum Edition</td>\n",
       "      <td>I4</td>\n",
       "      <td>1984 cc</td>\n",
       "      <td>355 hp</td>\n",
       "      <td>250 km/h</td>\n",
       "      <td>6.5 sec</td>\n",
       "      <td>$35,000</td>\n",
       "      <td>Petrol</td>\n",
       "      <td>5</td>\n",
       "      <td>400 Nm</td>\n",
       "    </tr>\n",
       "    <tr>\n",
       "      <th>freq</th>\n",
       "      <td>149</td>\n",
       "      <td>2</td>\n",
       "      <td>64</td>\n",
       "      <td>31</td>\n",
       "      <td>23</td>\n",
       "      <td>145</td>\n",
       "      <td>45</td>\n",
       "      <td>36</td>\n",
       "      <td>871</td>\n",
       "      <td>688</td>\n",
       "      <td>72</td>\n",
       "    </tr>\n",
       "  </tbody>\n",
       "</table>\n",
       "</div>"
      ],
      "text/plain": [
       "       Company Names                 Cars Names Engines CC/Battery Capacity  \\\n",
       "count           1213                       1213    1213                1210   \n",
       "unique            36                       1196     351                 306   \n",
       "top           Nissan  Panamera Platinum Edition      I4             1984 cc   \n",
       "freq             149                          2      64                  31   \n",
       "\n",
       "       HorsePower Total Speed Performance(0 - 100 )KM/H Cars Prices  \\\n",
       "count        1213        1213                      1207        1213   \n",
       "unique        452         114                       177         531   \n",
       "top        355 hp    250 km/h                   6.5 sec    $35,000    \n",
       "freq           23         145                        45          36   \n",
       "\n",
       "       Fuel Types Seats  Torque  \n",
       "count        1213  1213    1212  \n",
       "unique         20    19     259  \n",
       "top        Petrol     5  400 Nm  \n",
       "freq          871   688      72  "
      ]
     },
     "execution_count": 19,
     "metadata": {},
     "output_type": "execute_result"
    }
   ],
   "source": [
    "df.head() # Gives first 5 rows\n",
    "df.tail(6) # Gives last 6 rows\n",
    "df.describe()"
   ]
  },
  {
   "cell_type": "code",
   "execution_count": 20,
   "metadata": {},
   "outputs": [
    {
     "data": {
      "text/plain": [
       "10"
      ]
     },
     "execution_count": 20,
     "metadata": {},
     "output_type": "execute_result"
    }
   ],
   "source": [
    "df.isnull() # -> tell if we have null values in DataFrame\n",
    "df.isnull().sum() # Tells us how many null values are there in each column\n",
    "df.isnull().sum().sum() # Tells us how many null values are total"
   ]
  },
  {
   "cell_type": "code",
   "execution_count": 21,
   "metadata": {},
   "outputs": [
    {
     "data": {
      "text/plain": [
       "Company Names                0\n",
       "Cars Names                   0\n",
       "Engines                      0\n",
       "CC/Battery Capacity          0\n",
       "HorsePower                   0\n",
       "Total Speed                  0\n",
       "Performance(0 - 100 )KM/H    0\n",
       "Cars Prices                  0\n",
       "Fuel Types                   0\n",
       "Seats                        0\n",
       "Torque                       0\n",
       "dtype: int64"
      ]
     },
     "execution_count": 21,
     "metadata": {},
     "output_type": "execute_result"
    }
   ],
   "source": [
    "#  To drop all the not null rows in a DataFrame ->\n",
    "notNullDA = df.dropna(inplace=False) # default axis 0 # Inplace can be \"True\"\n",
    "notNullDA.isnull().sum()"
   ]
  },
  {
   "cell_type": "code",
   "execution_count": 22,
   "metadata": {},
   "outputs": [
    {
     "data": {
      "text/html": [
       "<div>\n",
       "<style scoped>\n",
       "    .dataframe tbody tr th:only-of-type {\n",
       "        vertical-align: middle;\n",
       "    }\n",
       "\n",
       "    .dataframe tbody tr th {\n",
       "        vertical-align: top;\n",
       "    }\n",
       "\n",
       "    .dataframe thead th {\n",
       "        text-align: right;\n",
       "    }\n",
       "</style>\n",
       "<table border=\"1\" class=\"dataframe\">\n",
       "  <thead>\n",
       "    <tr style=\"text-align: right;\">\n",
       "      <th></th>\n",
       "      <th>Company Names</th>\n",
       "      <th>Cars Names</th>\n",
       "      <th>Engines</th>\n",
       "      <th>CC/Battery Capacity</th>\n",
       "      <th>HorsePower</th>\n",
       "      <th>Total Speed</th>\n",
       "      <th>Performance(0 - 100 )KM/H</th>\n",
       "      <th>Cars Prices</th>\n",
       "      <th>Fuel Types</th>\n",
       "      <th>Seats</th>\n",
       "      <th>Torque</th>\n",
       "    </tr>\n",
       "  </thead>\n",
       "  <tbody>\n",
       "    <tr>\n",
       "      <th>0</th>\n",
       "      <td>FERRARI</td>\n",
       "      <td>SF90 STRADALE</td>\n",
       "      <td>V8</td>\n",
       "      <td>3990 cc</td>\n",
       "      <td>963 hp</td>\n",
       "      <td>340 km/h</td>\n",
       "      <td>2.5 sec</td>\n",
       "      <td>$1,100,000</td>\n",
       "      <td>plug in hyrbrid</td>\n",
       "      <td>2</td>\n",
       "      <td>800 Nm</td>\n",
       "    </tr>\n",
       "    <tr>\n",
       "      <th>1</th>\n",
       "      <td>ROLLS ROYCE</td>\n",
       "      <td>PHANTOM</td>\n",
       "      <td>V12</td>\n",
       "      <td>6749 cc</td>\n",
       "      <td>563 hp</td>\n",
       "      <td>250 km/h</td>\n",
       "      <td>5.3 sec</td>\n",
       "      <td>$460,000</td>\n",
       "      <td>Petrol</td>\n",
       "      <td>5</td>\n",
       "      <td>900 Nm</td>\n",
       "    </tr>\n",
       "    <tr>\n",
       "      <th>2</th>\n",
       "      <td>Ford</td>\n",
       "      <td>KA+</td>\n",
       "      <td>1.2L Petrol</td>\n",
       "      <td>1,200 cc</td>\n",
       "      <td>70-85 hp</td>\n",
       "      <td>165 km/h</td>\n",
       "      <td>10.5 sec</td>\n",
       "      <td>$12,000-$15,000</td>\n",
       "      <td>Petrol</td>\n",
       "      <td>5</td>\n",
       "      <td>100 - 140 Nm</td>\n",
       "    </tr>\n",
       "    <tr>\n",
       "      <th>3</th>\n",
       "      <td>MERCEDES</td>\n",
       "      <td>GT 63 S</td>\n",
       "      <td>V8</td>\n",
       "      <td>3,982 cc</td>\n",
       "      <td>630 hp</td>\n",
       "      <td>250 km/h</td>\n",
       "      <td>3.2 sec</td>\n",
       "      <td>$161,000</td>\n",
       "      <td>Petrol</td>\n",
       "      <td>4</td>\n",
       "      <td>900 Nm</td>\n",
       "    </tr>\n",
       "    <tr>\n",
       "      <th>4</th>\n",
       "      <td>AUDI</td>\n",
       "      <td>AUDI R8 Gt</td>\n",
       "      <td>V10</td>\n",
       "      <td>5,204 cc</td>\n",
       "      <td>602 hp</td>\n",
       "      <td>320 km/h</td>\n",
       "      <td>3.6 sec</td>\n",
       "      <td>$253,290</td>\n",
       "      <td>Petrol</td>\n",
       "      <td>2</td>\n",
       "      <td>560 Nm</td>\n",
       "    </tr>\n",
       "    <tr>\n",
       "      <th>...</th>\n",
       "      <td>...</td>\n",
       "      <td>...</td>\n",
       "      <td>...</td>\n",
       "      <td>...</td>\n",
       "      <td>...</td>\n",
       "      <td>...</td>\n",
       "      <td>...</td>\n",
       "      <td>...</td>\n",
       "      <td>...</td>\n",
       "      <td>...</td>\n",
       "      <td>...</td>\n",
       "    </tr>\n",
       "    <tr>\n",
       "      <th>1208</th>\n",
       "      <td>Mazda</td>\n",
       "      <td>Bongo Truck</td>\n",
       "      <td>2.0L Inline-4</td>\n",
       "      <td>1,998 cc</td>\n",
       "      <td>120 hp</td>\n",
       "      <td>130 km/h</td>\n",
       "      <td>15.0 sec</td>\n",
       "      <td>$15,000 - $18,000</td>\n",
       "      <td>Petrol</td>\n",
       "      <td>2</td>\n",
       "      <td>150 Nm</td>\n",
       "    </tr>\n",
       "    <tr>\n",
       "      <th>1209</th>\n",
       "      <td>Mazda</td>\n",
       "      <td>Rotary Pickup</td>\n",
       "      <td>1.3L Wankel Rotary Engine</td>\n",
       "      <td>1,308 cc</td>\n",
       "      <td>130 hp</td>\n",
       "      <td>150 km/h</td>\n",
       "      <td>14.5 sec</td>\n",
       "      <td>$18,000 - $22,000</td>\n",
       "      <td>Petrol</td>\n",
       "      <td>2</td>\n",
       "      <td>160 Nm</td>\n",
       "    </tr>\n",
       "    <tr>\n",
       "      <th>1210</th>\n",
       "      <td>Mazda</td>\n",
       "      <td>Luce Rotary Coupe</td>\n",
       "      <td>1.3L Wankel Rotary Engine</td>\n",
       "      <td>1,308 cc</td>\n",
       "      <td>135 hp</td>\n",
       "      <td>175 km/h</td>\n",
       "      <td>12.0 sec</td>\n",
       "      <td>$25,000 - $30,000</td>\n",
       "      <td>Petrol</td>\n",
       "      <td>4</td>\n",
       "      <td>180 Nm</td>\n",
       "    </tr>\n",
       "    <tr>\n",
       "      <th>1211</th>\n",
       "      <td>Mazda</td>\n",
       "      <td>Millenia S</td>\n",
       "      <td>2.5L V6</td>\n",
       "      <td>2,500 cc</td>\n",
       "      <td>200 hp</td>\n",
       "      <td>220 km/h</td>\n",
       "      <td>8.0 sec</td>\n",
       "      <td>$30,000 - $35,000</td>\n",
       "      <td>Petrol</td>\n",
       "      <td>5</td>\n",
       "      <td>250 Nm</td>\n",
       "    </tr>\n",
       "    <tr>\n",
       "      <th>1212</th>\n",
       "      <td>Mazda</td>\n",
       "      <td>787B (Race Car)</td>\n",
       "      <td>2.6L Wankel Rotary Engine</td>\n",
       "      <td>2,620 cc</td>\n",
       "      <td>700 hp</td>\n",
       "      <td>320 km/h</td>\n",
       "      <td>3.5 sec</td>\n",
       "      <td>$5,000,000 - $7,000,000</td>\n",
       "      <td>Petrol</td>\n",
       "      <td>1</td>\n",
       "      <td>500 Nm</td>\n",
       "    </tr>\n",
       "  </tbody>\n",
       "</table>\n",
       "<p>1213 rows × 11 columns</p>\n",
       "</div>"
      ],
      "text/plain": [
       "     Company Names         Cars Names                    Engines  \\\n",
       "0          FERRARI      SF90 STRADALE                         V8   \n",
       "1      ROLLS ROYCE            PHANTOM                        V12   \n",
       "2             Ford                KA+                1.2L Petrol   \n",
       "3         MERCEDES            GT 63 S                         V8   \n",
       "4             AUDI         AUDI R8 Gt                        V10   \n",
       "...            ...                ...                        ...   \n",
       "1208         Mazda        Bongo Truck              2.0L Inline-4   \n",
       "1209         Mazda      Rotary Pickup  1.3L Wankel Rotary Engine   \n",
       "1210         Mazda  Luce Rotary Coupe  1.3L Wankel Rotary Engine   \n",
       "1211         Mazda         Millenia S                    2.5L V6   \n",
       "1212         Mazda    787B (Race Car)  2.6L Wankel Rotary Engine   \n",
       "\n",
       "     CC/Battery Capacity HorsePower Total Speed Performance(0 - 100 )KM/H  \\\n",
       "0                3990 cc     963 hp    340 km/h                   2.5 sec   \n",
       "1                6749 cc     563 hp    250 km/h                   5.3 sec   \n",
       "2               1,200 cc   70-85 hp    165 km/h                  10.5 sec   \n",
       "3               3,982 cc     630 hp    250 km/h                   3.2 sec   \n",
       "4               5,204 cc     602 hp    320 km/h                   3.6 sec   \n",
       "...                  ...        ...         ...                       ...   \n",
       "1208            1,998 cc     120 hp    130 km/h                  15.0 sec   \n",
       "1209            1,308 cc     130 hp    150 km/h                  14.5 sec   \n",
       "1210            1,308 cc     135 hp    175 km/h                  12.0 sec   \n",
       "1211            2,500 cc     200 hp    220 km/h                   8.0 sec   \n",
       "1212            2,620 cc     700 hp    320 km/h                   3.5 sec   \n",
       "\n",
       "                  Cars Prices       Fuel Types Seats        Torque  \n",
       "0                 $1,100,000   plug in hyrbrid     2        800 Nm  \n",
       "1                   $460,000            Petrol     5        900 Nm  \n",
       "2             $12,000-$15,000           Petrol     5  100 - 140 Nm  \n",
       "3                   $161,000            Petrol     4        900 Nm  \n",
       "4                   $253,290            Petrol     2        560 Nm  \n",
       "...                       ...              ...   ...           ...  \n",
       "1208        $15,000 - $18,000           Petrol     2        150 Nm  \n",
       "1209        $18,000 - $22,000           Petrol     2        160 Nm  \n",
       "1210        $25,000 - $30,000           Petrol     4        180 Nm  \n",
       "1211        $30,000 - $35,000           Petrol     5        250 Nm  \n",
       "1212  $5,000,000 - $7,000,000           Petrol     1        500 Nm  \n",
       "\n",
       "[1213 rows x 11 columns]"
      ]
     },
     "execution_count": 22,
     "metadata": {},
     "output_type": "execute_result"
    }
   ],
   "source": [
    "df.fillna({\"Company Names\" : \"Unknown\", \"Engine\": \"Something\"})"
   ]
  },
  {
   "cell_type": "code",
   "execution_count": 23,
   "metadata": {},
   "outputs": [
    {
     "data": {
      "text/html": [
       "<div>\n",
       "<style scoped>\n",
       "    .dataframe tbody tr th:only-of-type {\n",
       "        vertical-align: middle;\n",
       "    }\n",
       "\n",
       "    .dataframe tbody tr th {\n",
       "        vertical-align: top;\n",
       "    }\n",
       "\n",
       "    .dataframe thead th {\n",
       "        text-align: right;\n",
       "    }\n",
       "</style>\n",
       "<table border=\"1\" class=\"dataframe\">\n",
       "  <thead>\n",
       "    <tr style=\"text-align: right;\">\n",
       "      <th></th>\n",
       "      <th>Company Names</th>\n",
       "      <th>Cars Names</th>\n",
       "      <th>Engines</th>\n",
       "      <th>CC/Battery Capacity</th>\n",
       "      <th>HorsePower</th>\n",
       "      <th>Total Speed</th>\n",
       "      <th>Performance(0 - 100 )KM/H</th>\n",
       "      <th>Cars Prices</th>\n",
       "      <th>Fuel Types</th>\n",
       "      <th>Seats</th>\n",
       "      <th>Torque</th>\n",
       "    </tr>\n",
       "  </thead>\n",
       "  <tbody>\n",
       "    <tr>\n",
       "      <th>0</th>\n",
       "      <td>FERRARI</td>\n",
       "      <td>SF90 STRADALE</td>\n",
       "      <td>V8</td>\n",
       "      <td>3990 cc</td>\n",
       "      <td>963 hp</td>\n",
       "      <td>340 km/h</td>\n",
       "      <td>2.5 sec</td>\n",
       "      <td>$1,100,000</td>\n",
       "      <td>plug in hyrbrid</td>\n",
       "      <td>2</td>\n",
       "      <td>800 Nm</td>\n",
       "    </tr>\n",
       "    <tr>\n",
       "      <th>1</th>\n",
       "      <td>ROLLS ROYCE</td>\n",
       "      <td>PHANTOM</td>\n",
       "      <td>V12</td>\n",
       "      <td>6749 cc</td>\n",
       "      <td>563 hp</td>\n",
       "      <td>250 km/h</td>\n",
       "      <td>5.3 sec</td>\n",
       "      <td>$460,000</td>\n",
       "      <td>Petrol</td>\n",
       "      <td>5</td>\n",
       "      <td>900 Nm</td>\n",
       "    </tr>\n",
       "    <tr>\n",
       "      <th>2</th>\n",
       "      <td>Ford</td>\n",
       "      <td>KA+</td>\n",
       "      <td>1.2L Petrol</td>\n",
       "      <td>1,200 cc</td>\n",
       "      <td>70-85 hp</td>\n",
       "      <td>165 km/h</td>\n",
       "      <td>10.5 sec</td>\n",
       "      <td>$12,000-$15,000</td>\n",
       "      <td>Petrol</td>\n",
       "      <td>5</td>\n",
       "      <td>100 - 140 Nm</td>\n",
       "    </tr>\n",
       "    <tr>\n",
       "      <th>3</th>\n",
       "      <td>MERCEDES</td>\n",
       "      <td>GT 63 S</td>\n",
       "      <td>V8</td>\n",
       "      <td>3,982 cc</td>\n",
       "      <td>630 hp</td>\n",
       "      <td>250 km/h</td>\n",
       "      <td>3.2 sec</td>\n",
       "      <td>$161,000</td>\n",
       "      <td>Petrol</td>\n",
       "      <td>4</td>\n",
       "      <td>900 Nm</td>\n",
       "    </tr>\n",
       "    <tr>\n",
       "      <th>4</th>\n",
       "      <td>AUDI</td>\n",
       "      <td>AUDI R8 Gt</td>\n",
       "      <td>V10</td>\n",
       "      <td>5,204 cc</td>\n",
       "      <td>602 hp</td>\n",
       "      <td>320 km/h</td>\n",
       "      <td>3.6 sec</td>\n",
       "      <td>$253,290</td>\n",
       "      <td>Petrol</td>\n",
       "      <td>2</td>\n",
       "      <td>560 Nm</td>\n",
       "    </tr>\n",
       "    <tr>\n",
       "      <th>...</th>\n",
       "      <td>...</td>\n",
       "      <td>...</td>\n",
       "      <td>...</td>\n",
       "      <td>...</td>\n",
       "      <td>...</td>\n",
       "      <td>...</td>\n",
       "      <td>...</td>\n",
       "      <td>...</td>\n",
       "      <td>...</td>\n",
       "      <td>...</td>\n",
       "      <td>...</td>\n",
       "    </tr>\n",
       "    <tr>\n",
       "      <th>1208</th>\n",
       "      <td>Mazda</td>\n",
       "      <td>Bongo Truck</td>\n",
       "      <td>2.0L Inline-4</td>\n",
       "      <td>1,998 cc</td>\n",
       "      <td>120 hp</td>\n",
       "      <td>130 km/h</td>\n",
       "      <td>15.0 sec</td>\n",
       "      <td>$15,000 - $18,000</td>\n",
       "      <td>Petrol</td>\n",
       "      <td>2</td>\n",
       "      <td>150 Nm</td>\n",
       "    </tr>\n",
       "    <tr>\n",
       "      <th>1209</th>\n",
       "      <td>Mazda</td>\n",
       "      <td>Rotary Pickup</td>\n",
       "      <td>1.3L Wankel Rotary Engine</td>\n",
       "      <td>1,308 cc</td>\n",
       "      <td>130 hp</td>\n",
       "      <td>150 km/h</td>\n",
       "      <td>14.5 sec</td>\n",
       "      <td>$18,000 - $22,000</td>\n",
       "      <td>Petrol</td>\n",
       "      <td>2</td>\n",
       "      <td>160 Nm</td>\n",
       "    </tr>\n",
       "    <tr>\n",
       "      <th>1210</th>\n",
       "      <td>Mazda</td>\n",
       "      <td>Luce Rotary Coupe</td>\n",
       "      <td>1.3L Wankel Rotary Engine</td>\n",
       "      <td>1,308 cc</td>\n",
       "      <td>135 hp</td>\n",
       "      <td>175 km/h</td>\n",
       "      <td>12.0 sec</td>\n",
       "      <td>$25,000 - $30,000</td>\n",
       "      <td>Petrol</td>\n",
       "      <td>4</td>\n",
       "      <td>180 Nm</td>\n",
       "    </tr>\n",
       "    <tr>\n",
       "      <th>1211</th>\n",
       "      <td>Mazda</td>\n",
       "      <td>Millenia S</td>\n",
       "      <td>2.5L V6</td>\n",
       "      <td>2,500 cc</td>\n",
       "      <td>200 hp</td>\n",
       "      <td>220 km/h</td>\n",
       "      <td>8.0 sec</td>\n",
       "      <td>$30,000 - $35,000</td>\n",
       "      <td>Petrol</td>\n",
       "      <td>5</td>\n",
       "      <td>250 Nm</td>\n",
       "    </tr>\n",
       "    <tr>\n",
       "      <th>1212</th>\n",
       "      <td>Mazda</td>\n",
       "      <td>787B (Race Car)</td>\n",
       "      <td>2.6L Wankel Rotary Engine</td>\n",
       "      <td>2,620 cc</td>\n",
       "      <td>700 hp</td>\n",
       "      <td>320 km/h</td>\n",
       "      <td>3.5 sec</td>\n",
       "      <td>$5,000,000 - $7,000,000</td>\n",
       "      <td>Petrol</td>\n",
       "      <td>1</td>\n",
       "      <td>500 Nm</td>\n",
       "    </tr>\n",
       "  </tbody>\n",
       "</table>\n",
       "<p>1213 rows × 11 columns</p>\n",
       "</div>"
      ],
      "text/plain": [
       "     Company Names         Cars Names                    Engines  \\\n",
       "0          FERRARI      SF90 STRADALE                         V8   \n",
       "1      ROLLS ROYCE            PHANTOM                        V12   \n",
       "2             Ford                KA+                1.2L Petrol   \n",
       "3         MERCEDES            GT 63 S                         V8   \n",
       "4             AUDI         AUDI R8 Gt                        V10   \n",
       "...            ...                ...                        ...   \n",
       "1208         Mazda        Bongo Truck              2.0L Inline-4   \n",
       "1209         Mazda      Rotary Pickup  1.3L Wankel Rotary Engine   \n",
       "1210         Mazda  Luce Rotary Coupe  1.3L Wankel Rotary Engine   \n",
       "1211         Mazda         Millenia S                    2.5L V6   \n",
       "1212         Mazda    787B (Race Car)  2.6L Wankel Rotary Engine   \n",
       "\n",
       "     CC/Battery Capacity HorsePower Total Speed Performance(0 - 100 )KM/H  \\\n",
       "0                3990 cc     963 hp    340 km/h                   2.5 sec   \n",
       "1                6749 cc     563 hp    250 km/h                   5.3 sec   \n",
       "2               1,200 cc   70-85 hp    165 km/h                  10.5 sec   \n",
       "3               3,982 cc     630 hp    250 km/h                   3.2 sec   \n",
       "4               5,204 cc     602 hp    320 km/h                   3.6 sec   \n",
       "...                  ...        ...         ...                       ...   \n",
       "1208            1,998 cc     120 hp    130 km/h                  15.0 sec   \n",
       "1209            1,308 cc     130 hp    150 km/h                  14.5 sec   \n",
       "1210            1,308 cc     135 hp    175 km/h                  12.0 sec   \n",
       "1211            2,500 cc     200 hp    220 km/h                   8.0 sec   \n",
       "1212            2,620 cc     700 hp    320 km/h                   3.5 sec   \n",
       "\n",
       "                  Cars Prices       Fuel Types Seats        Torque  \n",
       "0                 $1,100,000   plug in hyrbrid     2        800 Nm  \n",
       "1                   $460,000            Petrol     5        900 Nm  \n",
       "2             $12,000-$15,000           Petrol     5  100 - 140 Nm  \n",
       "3                   $161,000            Petrol     4        900 Nm  \n",
       "4                   $253,290            Petrol     2        560 Nm  \n",
       "...                       ...              ...   ...           ...  \n",
       "1208        $15,000 - $18,000           Petrol     2        150 Nm  \n",
       "1209        $18,000 - $22,000           Petrol     2        160 Nm  \n",
       "1210        $25,000 - $30,000           Petrol     4        180 Nm  \n",
       "1211        $30,000 - $35,000           Petrol     5        250 Nm  \n",
       "1212  $5,000,000 - $7,000,000           Petrol     1        500 Nm  \n",
       "\n",
       "[1213 rows x 11 columns]"
      ]
     },
     "execution_count": 23,
     "metadata": {},
     "output_type": "execute_result"
    }
   ],
   "source": [
    "df.fillna({\"Company Names\" : df[\"Company Names\"].mode()[0]}) # filling with the most frequent value"
   ]
  },
  {
   "cell_type": "code",
   "execution_count": 24,
   "metadata": {},
   "outputs": [
    {
     "data": {
      "text/plain": [
       "<bound method NDFrame.replace of 0        3990 cc\n",
       "1        6749 cc\n",
       "2       1,200 cc\n",
       "3       3,982 cc\n",
       "4       5,204 cc\n",
       "          ...   \n",
       "1208    1,998 cc\n",
       "1209    1,308 cc\n",
       "1210    1,308 cc\n",
       "1211    2,500 cc\n",
       "1212    2,620 cc\n",
       "Name: CC/Battery Capacity, Length: 1213, dtype: object>"
      ]
     },
     "execution_count": 24,
     "metadata": {},
     "output_type": "execute_result"
    }
   ],
   "source": [
    "df.replace(to_replace=\"MERCEDES\", value=\"MERCEDES Benz\") # replaces all values in the DataFrame\n",
    "# ? You can give to_replace as a [...] which replaces all the items with value \n",
    "# ? to_replace = [...] and value = [...] it will replace in order\n",
    "\n",
    "df[\"CC/Battery Capacity\"].replace # replace in a col"
   ]
  },
  {
   "cell_type": "markdown",
   "metadata": {},
   "source": [
    "### loc"
   ]
  },
  {
   "cell_type": "code",
   "execution_count": 25,
   "metadata": {},
   "outputs": [
    {
     "data": {
      "text/html": [
       "<div>\n",
       "<style scoped>\n",
       "    .dataframe tbody tr th:only-of-type {\n",
       "        vertical-align: middle;\n",
       "    }\n",
       "\n",
       "    .dataframe tbody tr th {\n",
       "        vertical-align: top;\n",
       "    }\n",
       "\n",
       "    .dataframe thead th {\n",
       "        text-align: right;\n",
       "    }\n",
       "</style>\n",
       "<table border=\"1\" class=\"dataframe\">\n",
       "  <thead>\n",
       "    <tr style=\"text-align: right;\">\n",
       "      <th></th>\n",
       "      <th>Company Names</th>\n",
       "      <th>Torque</th>\n",
       "    </tr>\n",
       "  </thead>\n",
       "  <tbody>\n",
       "    <tr>\n",
       "      <th>0</th>\n",
       "      <td>FERRARI</td>\n",
       "      <td>800 Nm</td>\n",
       "    </tr>\n",
       "    <tr>\n",
       "      <th>1</th>\n",
       "      <td>ROLLS ROYCE</td>\n",
       "      <td>900 Nm</td>\n",
       "    </tr>\n",
       "    <tr>\n",
       "      <th>2</th>\n",
       "      <td>Ford</td>\n",
       "      <td>100 - 140 Nm</td>\n",
       "    </tr>\n",
       "    <tr>\n",
       "      <th>3</th>\n",
       "      <td>MERCEDES</td>\n",
       "      <td>900 Nm</td>\n",
       "    </tr>\n",
       "    <tr>\n",
       "      <th>4</th>\n",
       "      <td>AUDI</td>\n",
       "      <td>560 Nm</td>\n",
       "    </tr>\n",
       "    <tr>\n",
       "      <th>...</th>\n",
       "      <td>...</td>\n",
       "      <td>...</td>\n",
       "    </tr>\n",
       "    <tr>\n",
       "      <th>1208</th>\n",
       "      <td>Mazda</td>\n",
       "      <td>150 Nm</td>\n",
       "    </tr>\n",
       "    <tr>\n",
       "      <th>1209</th>\n",
       "      <td>Mazda</td>\n",
       "      <td>160 Nm</td>\n",
       "    </tr>\n",
       "    <tr>\n",
       "      <th>1210</th>\n",
       "      <td>Mazda</td>\n",
       "      <td>180 Nm</td>\n",
       "    </tr>\n",
       "    <tr>\n",
       "      <th>1211</th>\n",
       "      <td>Mazda</td>\n",
       "      <td>250 Nm</td>\n",
       "    </tr>\n",
       "    <tr>\n",
       "      <th>1212</th>\n",
       "      <td>Mazda</td>\n",
       "      <td>500 Nm</td>\n",
       "    </tr>\n",
       "  </tbody>\n",
       "</table>\n",
       "<p>1193 rows × 2 columns</p>\n",
       "</div>"
      ],
      "text/plain": [
       "     Company Names        Torque\n",
       "0          FERRARI        800 Nm\n",
       "1      ROLLS ROYCE        900 Nm\n",
       "2             Ford  100 - 140 Nm\n",
       "3         MERCEDES        900 Nm\n",
       "4             AUDI        560 Nm\n",
       "...            ...           ...\n",
       "1208         Mazda        150 Nm\n",
       "1209         Mazda        160 Nm\n",
       "1210         Mazda        180 Nm\n",
       "1211         Mazda        250 Nm\n",
       "1212         Mazda        500 Nm\n",
       "\n",
       "[1193 rows x 2 columns]"
      ]
     },
     "execution_count": 25,
     "metadata": {},
     "output_type": "execute_result"
    }
   ],
   "source": [
    "df.loc[0] # to get a row of index value\n",
    "df.loc[3:8]\n",
    "df.loc[[1, 3, 9, 100]]\n",
    "df.loc[30:40, \"CC/Battery Capacity\"] # gives row number and then col\n",
    "df.loc[df[\"CC/Battery Capacity\"].str.len() < 30] # expression also works\n",
    "df.loc[df[\"CC/Battery Capacity\"].str.len() < 30, [\"Company Names\", \"Torque\"]] # Gives me company names and torque of those whose len < 30"
   ]
  },
  {
   "cell_type": "markdown",
   "metadata": {
    "vscode": {
     "languageId": "sql"
    }
   },
   "source": [
    "## iloc / loc\n",
    "* in loc function we had to select by using the index rows it can be by roll number or id but in iloc it's always by index"
   ]
  },
  {
   "cell_type": "code",
   "execution_count": 26,
   "metadata": {},
   "outputs": [
    {
     "data": {
      "text/html": [
       "<div>\n",
       "<style scoped>\n",
       "    .dataframe tbody tr th:only-of-type {\n",
       "        vertical-align: middle;\n",
       "    }\n",
       "\n",
       "    .dataframe tbody tr th {\n",
       "        vertical-align: top;\n",
       "    }\n",
       "\n",
       "    .dataframe thead th {\n",
       "        text-align: right;\n",
       "    }\n",
       "</style>\n",
       "<table border=\"1\" class=\"dataframe\">\n",
       "  <thead>\n",
       "    <tr style=\"text-align: right;\">\n",
       "      <th></th>\n",
       "      <th>Cars Names</th>\n",
       "      <th>Engines</th>\n",
       "      <th>CC/Battery Capacity</th>\n",
       "      <th>HorsePower</th>\n",
       "    </tr>\n",
       "  </thead>\n",
       "  <tbody>\n",
       "    <tr>\n",
       "      <th>0</th>\n",
       "      <td>SF90 STRADALE</td>\n",
       "      <td>V8</td>\n",
       "      <td>3990 cc</td>\n",
       "      <td>963 hp</td>\n",
       "    </tr>\n",
       "    <tr>\n",
       "      <th>1</th>\n",
       "      <td>PHANTOM</td>\n",
       "      <td>V12</td>\n",
       "      <td>6749 cc</td>\n",
       "      <td>563 hp</td>\n",
       "    </tr>\n",
       "    <tr>\n",
       "      <th>2</th>\n",
       "      <td>KA+</td>\n",
       "      <td>1.2L Petrol</td>\n",
       "      <td>1,200 cc</td>\n",
       "      <td>70-85 hp</td>\n",
       "    </tr>\n",
       "    <tr>\n",
       "      <th>3</th>\n",
       "      <td>GT 63 S</td>\n",
       "      <td>V8</td>\n",
       "      <td>3,982 cc</td>\n",
       "      <td>630 hp</td>\n",
       "    </tr>\n",
       "    <tr>\n",
       "      <th>4</th>\n",
       "      <td>AUDI R8 Gt</td>\n",
       "      <td>V10</td>\n",
       "      <td>5,204 cc</td>\n",
       "      <td>602 hp</td>\n",
       "    </tr>\n",
       "  </tbody>\n",
       "</table>\n",
       "</div>"
      ],
      "text/plain": [
       "      Cars Names      Engines CC/Battery Capacity HorsePower\n",
       "0  SF90 STRADALE           V8             3990 cc     963 hp\n",
       "1        PHANTOM          V12             6749 cc     563 hp\n",
       "2            KA+  1.2L Petrol            1,200 cc   70-85 hp\n",
       "3        GT 63 S           V8            3,982 cc     630 hp\n",
       "4     AUDI R8 Gt          V10            5,204 cc     602 hp"
      ]
     },
     "execution_count": 26,
     "metadata": {},
     "output_type": "execute_result"
    }
   ],
   "source": [
    "df.iloc[3] # 3rd index row\n",
    "df.iloc[[1, 39, 69]] #gives all the rows at the given indexes\n",
    "df.iloc[0:5, 1:5] # row 0 to 4 and column 1 to 4"
   ]
  },
  {
   "cell_type": "markdown",
   "metadata": {},
   "source": [
    "## GroupBy"
   ]
  },
  {
   "cell_type": "code",
   "execution_count": 33,
   "metadata": {},
   "outputs": [
    {
     "name": "stdout",
     "output_type": "stream",
     "text": [
      "<pandas.core.groupby.generic.DataFrameGroupBy object at 0x0000019DB5483770>\n"
     ]
    }
   ],
   "source": [
    "branch_gp = df.groupby(by=\"Company Names\")\n",
    "print(branch_gp) # Group object\n",
    "print(branch_gp.groups) # all the groups"
   ]
  },
  {
   "cell_type": "code",
   "execution_count": 57,
   "metadata": {},
   "outputs": [
    {
     "data": {
      "text/html": [
       "<div>\n",
       "<style scoped>\n",
       "    .dataframe tbody tr th:only-of-type {\n",
       "        vertical-align: middle;\n",
       "    }\n",
       "\n",
       "    .dataframe tbody tr th {\n",
       "        vertical-align: top;\n",
       "    }\n",
       "\n",
       "    .dataframe thead th {\n",
       "        text-align: right;\n",
       "    }\n",
       "</style>\n",
       "<table border=\"1\" class=\"dataframe\">\n",
       "  <thead>\n",
       "    <tr style=\"text-align: right;\">\n",
       "      <th></th>\n",
       "      <th>Company Names</th>\n",
       "      <th>Cars Names</th>\n",
       "      <th>Engines</th>\n",
       "      <th>CC/Battery Capacity</th>\n",
       "      <th>HorsePower</th>\n",
       "      <th>Total Speed</th>\n",
       "      <th>Performance(0 - 100 )KM/H</th>\n",
       "      <th>Cars Prices</th>\n",
       "      <th>Fuel Types</th>\n",
       "      <th>Seats</th>\n",
       "      <th>Torque</th>\n",
       "    </tr>\n",
       "  </thead>\n",
       "  <tbody>\n",
       "    <tr>\n",
       "      <th>4</th>\n",
       "      <td>AUDI</td>\n",
       "      <td>AUDI R8 Gt</td>\n",
       "      <td>V10</td>\n",
       "      <td>5,204 cc</td>\n",
       "      <td>602 hp</td>\n",
       "      <td>320 km/h</td>\n",
       "      <td>3.6 sec</td>\n",
       "      <td>$253,290</td>\n",
       "      <td>Petrol</td>\n",
       "      <td>2</td>\n",
       "      <td>560 Nm</td>\n",
       "    </tr>\n",
       "    <tr>\n",
       "      <th>122</th>\n",
       "      <td>AUDI</td>\n",
       "      <td>R8 V10 PLUS</td>\n",
       "      <td>V10</td>\n",
       "      <td>5,204 cc</td>\n",
       "      <td>610 hp</td>\n",
       "      <td>330 km/h</td>\n",
       "      <td>3.2 sec</td>\n",
       "      <td>$194,000</td>\n",
       "      <td>Petrol</td>\n",
       "      <td>2</td>\n",
       "      <td>560 Nm</td>\n",
       "    </tr>\n",
       "    <tr>\n",
       "      <th>123</th>\n",
       "      <td>AUDI</td>\n",
       "      <td>RS7 SPORTBACK</td>\n",
       "      <td>V8</td>\n",
       "      <td>3,993 cc</td>\n",
       "      <td>591 hp</td>\n",
       "      <td>305 km/h</td>\n",
       "      <td>3.6 sec</td>\n",
       "      <td>$114,000</td>\n",
       "      <td>Petrol</td>\n",
       "      <td>5</td>\n",
       "      <td>800 Nm</td>\n",
       "    </tr>\n",
       "    <tr>\n",
       "      <th>124</th>\n",
       "      <td>AUDI</td>\n",
       "      <td>S8</td>\n",
       "      <td>V8</td>\n",
       "      <td>3,993 cc</td>\n",
       "      <td>563 hp</td>\n",
       "      <td>305 km/h</td>\n",
       "      <td>4.3 sec</td>\n",
       "      <td>$101,000</td>\n",
       "      <td>Petrol</td>\n",
       "      <td>5</td>\n",
       "      <td>800 Nm</td>\n",
       "    </tr>\n",
       "    <tr>\n",
       "      <th>125</th>\n",
       "      <td>AUDI</td>\n",
       "      <td>RS6 AVANT</td>\n",
       "      <td>V8</td>\n",
       "      <td>3,993 cc</td>\n",
       "      <td>591 hp</td>\n",
       "      <td>305 km/h</td>\n",
       "      <td>3.6 sec</td>\n",
       "      <td>$109,000</td>\n",
       "      <td>Petrol</td>\n",
       "      <td>5</td>\n",
       "      <td>800 Nm</td>\n",
       "    </tr>\n",
       "  </tbody>\n",
       "</table>\n",
       "</div>"
      ],
      "text/plain": [
       "    Company Names     Cars Names Engines CC/Battery Capacity HorsePower  \\\n",
       "4            AUDI     AUDI R8 Gt     V10            5,204 cc     602 hp   \n",
       "122          AUDI    R8 V10 PLUS     V10            5,204 cc     610 hp   \n",
       "123          AUDI  RS7 SPORTBACK      V8            3,993 cc     591 hp   \n",
       "124          AUDI             S8      V8            3,993 cc     563 hp   \n",
       "125          AUDI      RS6 AVANT      V8            3,993 cc     591 hp   \n",
       "\n",
       "    Total Speed Performance(0 - 100 )KM/H Cars Prices Fuel Types Seats  Torque  \n",
       "4      320 km/h                   3.6 sec   $253,290      Petrol     2  560 Nm  \n",
       "122    330 km/h                   3.2 sec   $194,000      Petrol     2  560 Nm  \n",
       "123    305 km/h                   3.6 sec   $114,000      Petrol     5  800 Nm  \n",
       "124    305 km/h                   4.3 sec   $101,000      Petrol     5  800 Nm  \n",
       "125    305 km/h                   3.6 sec   $109,000      Petrol     5  800 Nm  "
      ]
     },
     "execution_count": 57,
     "metadata": {},
     "output_type": "execute_result"
    }
   ],
   "source": [
    "branch_gp.get_group(\"AUDI\").head()"
   ]
  },
  {
   "cell_type": "code",
   "execution_count": 59,
   "metadata": {},
   "outputs": [
    {
     "data": {
      "text/html": [
       "<div>\n",
       "<style scoped>\n",
       "    .dataframe tbody tr th:only-of-type {\n",
       "        vertical-align: middle;\n",
       "    }\n",
       "\n",
       "    .dataframe tbody tr th {\n",
       "        vertical-align: top;\n",
       "    }\n",
       "\n",
       "    .dataframe thead th {\n",
       "        text-align: right;\n",
       "    }\n",
       "</style>\n",
       "<table border=\"1\" class=\"dataframe\">\n",
       "  <thead>\n",
       "    <tr style=\"text-align: right;\">\n",
       "      <th></th>\n",
       "      <th>Company Names</th>\n",
       "      <th>Cars Names</th>\n",
       "      <th>Engines</th>\n",
       "      <th>CC/Battery Capacity</th>\n",
       "      <th>HorsePower</th>\n",
       "      <th>Total Speed</th>\n",
       "      <th>Performance(0 - 100 )KM/H</th>\n",
       "      <th>Cars Prices</th>\n",
       "      <th>Fuel Types</th>\n",
       "      <th>Seats</th>\n",
       "      <th>Torque</th>\n",
       "    </tr>\n",
       "  </thead>\n",
       "  <tbody>\n",
       "    <tr>\n",
       "      <th>132</th>\n",
       "      <td>AUDI</td>\n",
       "      <td>Q7</td>\n",
       "      <td>V6</td>\n",
       "      <td>2,995 cc</td>\n",
       "      <td>335 hp</td>\n",
       "      <td>250 km/h</td>\n",
       "      <td>6.3 sec</td>\n",
       "      <td>$60,000</td>\n",
       "      <td>Petrol</td>\n",
       "      <td>7</td>\n",
       "      <td>600 Nm</td>\n",
       "    </tr>\n",
       "  </tbody>\n",
       "</table>\n",
       "</div>"
      ],
      "text/plain": [
       "    Company Names Cars Names Engines CC/Battery Capacity HorsePower  \\\n",
       "132          AUDI         Q7      V6            2,995 cc     335 hp   \n",
       "\n",
       "    Total Speed Performance(0 - 100 )KM/H Cars Prices Fuel Types Seats  Torque  \n",
       "132    250 km/h                   6.3 sec    $60,000      Petrol     7  600 Nm  "
      ]
     },
     "execution_count": 59,
     "metadata": {},
     "output_type": "execute_result"
    }
   ],
   "source": [
    "audi = branch_gp.get_group(\"AUDI\")\n",
    "audi[audi.Seats == audi.Seats.max()] # max seats"
   ]
  },
  {
   "cell_type": "code",
   "execution_count": null,
   "metadata": {},
   "outputs": [],
   "source": [
    "max_seats = df.loc[branch_gp[\"Seats\"].idxmax()].head()\n",
    "max_seats"
   ]
  },
  {
   "cell_type": "code",
   "execution_count": 83,
   "metadata": {},
   "outputs": [
    {
     "name": "stdout",
     "output_type": "stream",
     "text": [
      "   Company Names Cars Names Seats\n",
      "37  ASTON MARTIN        DBX     5 \n",
      "\n",
      "    Company Names Cars Names Seats\n",
      "132          AUDI         Q7     7 \n",
      "\n",
      "    Company Names   Cars Names Seats\n",
      "941         Acura  MDX Advance     7 \n",
      "\n",
      "  Company Names            Cars Names Seats\n",
      "7       BENTLEY  Continental GT Azure     4 \n",
      "\n",
      "   Company Names Cars Names Seats\n",
      "99           BMW      M5 CS     5 \n",
      "\n",
      "    Company Names Cars Names Seats\n",
      "880       Bugatti     Chiron     2 \n",
      "\n",
      "    Company Names Cars Names Seats\n",
      "642      Cadillac   Escalade     7 \n",
      "\n",
      "    Company Names Cars Names Seats\n",
      "712     Chevrolet   Suburban     8 \n",
      "\n",
      "   Company Names Cars Names Seats\n",
      "11       FERRARI  PORTOFINO   2+2 \n",
      "\n",
      "     Company Names  Cars Names Seats\n",
      "1023          Ford  Expedition     8 \n",
      "\n",
      "    Company Names Cars Names Seats\n",
      "763           GMC      Yukon     8 \n",
      "\n",
      "    Company Names Cars Names Seats\n",
      "197         HONDA      PILOT     8 \n",
      "\n",
      "    Company Names Cars Names Seats\n",
      "250       HYUNDAI   SANTA FE     7 \n",
      "\n",
      "         Company Names Cars Names Seats\n",
      "900  Jaguar Land Rover  Jaguar XE     5 \n",
      "\n",
      "    Company Names Cars Names Seats\n",
      "677          Jeep   Wagoneer     8 \n",
      "\n",
      "    Company Names   Cars Names Seats\n",
      "177           KIA  SPORTAGE LX     5 \n",
      "\n",
      "    Company Names               Cars Names Seats\n",
      "195         KIA    SPORTAGE 2024(BASE FWD)     5 \n",
      "\n",
      "    Company Names   Cars Names Seats\n",
      "834           Kia  Carnival EX     8 \n",
      "\n",
      "   Company Names Cars Names Seats\n",
      "47   LAMBORGHINI      URUS      5 \n",
      "\n",
      "    Company Names Cars Names Seats\n",
      "225      MAHINDRA     XUV500     7 \n",
      "\n",
      "     Company Names Cars Names Seats\n",
      "228  MARUTI SUZUKI      SWIFT     5 \n",
      "\n",
      "   Company Names          Cars Names Seats\n",
      "79      MERCEDES  BENZ S-CLASS S 580     5 \n",
      "\n",
      "     Company Names Cars Names Seats\n",
      "1134         Mazda       CX-8     7 \n",
      "\n",
      "     Company Names Cars Names Seats\n",
      "1069    Mitsubishi  Outlander     7 \n",
      "\n",
      "   Company Names  Cars Names Seats\n",
      "29        NISSAN  PATHFINDER     7 \n",
      "\n",
      "    Company Names Cars Names Seats\n",
      "387        Nissan     Armada     8 \n",
      "\n",
      "    Company Names Cars Names Seats\n",
      "971       Peugeot       5008     7 \n",
      "\n",
      "    Company Names Cars Names Seats\n",
      "538       Porsche    Cayenne     5 \n",
      "\n",
      "  Company Names Cars Names Seats\n",
      "1   ROLLS ROYCE    PHANTOM     5 \n",
      "\n",
      "   Company Names Cars Names Seats\n",
      "65  ROLLS ROYCE       GHOST     5 \n",
      "\n",
      "   Company Names           Cars Names Seats\n",
      "20        TOYOTA  TOYOTA LAND CRUISER     7 \n",
      "\n",
      "    Company Names Cars Names Seats\n",
      "651   Tata Motors     Safari     7 \n",
      "\n",
      "    Company Names Cars Names Seats\n",
      "663         Tesla    Model X     7 \n",
      "\n",
      "    Company Names Cars Names Seats\n",
      "174         VOLVO       XC90     7 \n",
      "\n",
      "    Company Names   Cars Names Seats\n",
      "327    Volkswagen  Transporter     9 \n",
      "\n",
      "    Company Names Cars Names Seats\n",
      "890         Volvo   Volvo FH     2 \n",
      "\n"
     ]
    }
   ],
   "source": [
    "# # ? Iterating over groups\n",
    "for group_name, dataframe in branch_gp:\n",
    "    temp = branch_gp.get_group(group_name)\n",
    "    max_seats_in_each_group = temp.loc[temp.Seats == temp.Seats.max(), [\"Company Names\", \"Cars Names\", \"Seats\"]].head(1)\n",
    "    print(max_seats_in_each_group, \"\\n\")"
   ]
  },
  {
   "cell_type": "code",
   "execution_count": null,
   "metadata": {},
   "outputs": [],
   "source": [
    "gp = df.loc[0:10, :].groupby(by=[\"Company Names\", \"Engines\"])\n",
    "print(gp.groups) # it will give all permutations of groups formed by company name and engines"
   ]
  },
  {
   "cell_type": "markdown",
   "metadata": {},
   "source": [
    "### Map And apply"
   ]
  },
  {
   "cell_type": "code",
   "execution_count": 93,
   "metadata": {},
   "outputs": [
    {
     "name": "stdout",
     "output_type": "stream",
     "text": [
      "0     1\n",
      "1     4\n",
      "2     9\n",
      "3    16\n",
      "4    25\n",
      "dtype: int64\n"
     ]
    }
   ],
   "source": [
    "data = pd.Series([1, 2, 3, 4, 5])\n",
    "result = data.map(lambda x: x**2)\n",
    "print(result)"
   ]
  },
  {
   "cell_type": "code",
   "execution_count": 100,
   "metadata": {},
   "outputs": [
    {
     "name": "stdout",
     "output_type": "stream",
     "text": [
      "A     6\n",
      "B    15\n",
      "dtype: int64\n",
      "0    5\n",
      "1    7\n",
      "2    9\n",
      "dtype: int64\n"
     ]
    },
    {
     "data": {
      "text/plain": [
       "type"
      ]
     },
     "execution_count": 100,
     "metadata": {},
     "output_type": "execute_result"
    }
   ],
   "source": [
    "data = pd.DataFrame({'A': [1, 2, 3], 'B': [4, 5, 6]})\n",
    "\n",
    "# Apply function column-wise (default `axis=0`)\n",
    "result = data.apply(lambda x: x.sum(), axis=0)\n",
    "print(result)\n",
    "\n",
    "# Apply function row-wise (`axis=1`)\n",
    "result = data.apply(lambda x: x.sum(), axis=1)\n",
    "print(result)"
   ]
  }
 ],
 "metadata": {
  "kernelspec": {
   "display_name": "Python 3",
   "language": "python",
   "name": "python3"
  },
  "language_info": {
   "codemirror_mode": {
    "name": "ipython",
    "version": 3
   },
   "file_extension": ".py",
   "mimetype": "text/x-python",
   "name": "python",
   "nbconvert_exporter": "python",
   "pygments_lexer": "ipython3",
   "version": "3.12.2"
  }
 },
 "nbformat": 4,
 "nbformat_minor": 2
}
