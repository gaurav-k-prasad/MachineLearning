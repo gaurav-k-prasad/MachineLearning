{
 "cells": [
  {
   "cell_type": "markdown",
   "metadata": {},
   "source": [
    "# Decorators"
   ]
  },
  {
   "cell_type": "markdown",
   "metadata": {},
   "source": [
    "* Decorators -> functions \n",
    "-> takes function as argument \n",
    "-> Adds some functionality\n",
    "-> returns a function with altering source code of function"
   ]
  },
  {
   "cell_type": "code",
   "execution_count": 14,
   "metadata": {},
   "outputs": [
    {
     "name": "stdout",
     "output_type": "stream",
     "text": [
      "Wrapper executed this before -> display\n",
      "Displaying\n"
     ]
    }
   ],
   "source": [
    "def decorator_function(orig_func):\n",
    "  def wrapper_func():\n",
    "    print(f\"Wrapper executed this before -> {orig_func.__name__}\")\n",
    "    return orig_func()\n",
    "  \n",
    "  return wrapper_func\n",
    "\n",
    "@decorator_function\n",
    "def display():\n",
    "  print(\"Displaying\")\n",
    "\n",
    "# display = decorator_function(display) \n",
    "# ? same as writing @decorator_function on top\n",
    "display()\n"
   ]
  },
  {
   "cell_type": "code",
   "execution_count": null,
   "metadata": {},
   "outputs": [
    {
     "name": "stdout",
     "output_type": "stream",
     "text": [
      "Inside wrapper function\n",
      "69 | {'wtf': 'bruh'}\n"
     ]
    },
    {
     "data": {
      "text/plain": [
       "'This is return value'"
      ]
     },
     "execution_count": 41,
     "metadata": {},
     "output_type": "execute_result"
    }
   ],
   "source": [
    "def dec2(func):\n",
    "  # ! Passing in *args, **kwargs in the wrapper function\n",
    "  def wrapper_func(*args, **kwargs):\n",
    "    print(\"Inside wrapper function\")\n",
    "    # ! Same args and kwargs being passed in the actual function\n",
    "    return func(*args, **kwargs)\n",
    "  \n",
    "  return wrapper_func\n",
    "\n",
    "@dec2\n",
    "def displaySomething(val: int, **kwargs):\n",
    "  print(val, kwargs, sep=\" | \")\n",
    "  return \"This is return value\"\n",
    "\n",
    "displaySomething(69, wtf=\"bruh\")"
   ]
  },
  {
   "cell_type": "code",
   "execution_count": null,
   "metadata": {},
   "outputs": [
    {
     "name": "stdout",
     "output_type": "stream",
     "text": [
      "wtf\n"
     ]
    }
   ],
   "source": []
  }
 ],
 "metadata": {
  "kernelspec": {
   "display_name": "Python 3",
   "language": "python",
   "name": "python3"
  },
  "language_info": {
   "codemirror_mode": {
    "name": "ipython",
    "version": 3
   },
   "file_extension": ".py",
   "mimetype": "text/x-python",
   "name": "python",
   "nbconvert_exporter": "python",
   "pygments_lexer": "ipython3",
   "version": "3.12.2"
  }
 },
 "nbformat": 4,
 "nbformat_minor": 2
}
