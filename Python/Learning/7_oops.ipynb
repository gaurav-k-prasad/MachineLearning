{
	"cells": [
		{
			"cell_type": "code",
			"execution_count": 2,
			"metadata": {},
			"outputs": [],
			"source": [
				"class Computer:\n",
				"    company: str = \"Lenovo\" # Class variable -> Shared among every object\n",
				"    \n",
				"    def __init__(self, cpu: str, ram: str) -> None:\n",
				"        self.cpu: str = cpu # Instance variables as defined inside __init__\n",
				"        self.ram: str = ram\n",
				"    \n",
				"    def config(self):\n",
				"        print(self.cpu)\n",
				"        print(self.ram)"
			]
		},
		{
			"cell_type": "code",
			"execution_count": 4,
			"metadata": {},
			"outputs": [
				{
					"name": "stdout",
					"output_type": "stream",
					"text": [
						"i5\n",
						"16gb\n",
						"True\n",
						"Before Updating -  Some other\n",
						"After Updating -  Some other\n"
					]
				}
			],
			"source": [
				"comp1 = Computer(\"i5\", \"16gb\")\n",
				"comp2 = Computer('i3', '32gb')\n",
				"\n",
				"comp1.config()\n",
				"\n",
				"print(id(comp1.config) == id(comp2.config))\n",
				"\n",
				"\n",
				"print(\"Before Updating - \", Computer.company)\n",
				"\n",
				"Computer.company = \"Some other\"\n",
				"print(\"After Updating - \", comp1.company)"
			]
		}
	],
	"metadata": {
		"kernelspec": {
			"display_name": "Python 3",
			"language": "python",
			"name": "python3"
		},
		"language_info": {
			"codemirror_mode": {
				"name": "ipython",
				"version": 3
			},
			"file_extension": ".py",
			"mimetype": "text/x-python",
			"name": "python",
			"nbconvert_exporter": "python",
			"pygments_lexer": "ipython3",
			"version": "3.12.2"
		}
	},
	"nbformat": 4,
	"nbformat_minor": 2
}
