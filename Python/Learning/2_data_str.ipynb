{
 "cells": [
  {
   "cell_type": "markdown",
   "metadata": {},
   "source": [
    "## Lists"
   ]
  },
  {
   "cell_type": "code",
   "execution_count": 34,
   "metadata": {},
   "outputs": [
    {
     "name": "stdout",
     "output_type": "stream",
     "text": [
      "6\n",
      "0\n",
      "[3, 2, 1, 59, 50, 33, 10]\n",
      "3 2 [1, 59, 50, 33, 10]\n",
      "3 2 1 59 50 33 10\n"
     ]
    }
   ],
   "source": [
    "import functools\n",
    "\n",
    "\n",
    "a = [1, 2, 50, 33, 10, 59]\n",
    "a.extend({3, 5})\n",
    "a.remove(5)\n",
    "\n",
    "print(a.index(3, 0, 100))\n",
    "print(a.count(32))\n",
    "a.reverse() # In place reversing\n",
    "\n",
    "def comparator(a, b) -> int:\n",
    "    diff = len(str(a)) - len(str(b))\n",
    "\n",
    "    if (diff == 0):\n",
    "        return b - a\n",
    "\n",
    "    return diff\n",
    "\n",
    "a.sort(key=functools.cmp_to_key(comparator))\n",
    "print(a) # [3, 2, 1, 59, 50, 33, 10]\n",
    "\n",
    "val1, val2, *val3 = a\n",
    "print(val1, val2, val3) # 3 2 [1, 59, 50, 33, 10]\n",
    "\n",
    "print(*a) # Spread operator"
   ]
  },
  {
   "cell_type": "markdown",
   "metadata": {},
   "source": [
    "## Tuples"
   ]
  },
  {
   "cell_type": "code",
   "execution_count": 36,
   "metadata": {},
   "outputs": [
    {
     "data": {
      "text/plain": [
       "1"
      ]
     },
     "execution_count": 36,
     "metadata": {},
     "output_type": "execute_result"
    }
   ],
   "source": [
    "a: tuple[int] = (1, 2, 3)\n",
    "a.count(3)\n",
    "a.index(2)"
   ]
  },
  {
   "cell_type": "markdown",
   "metadata": {},
   "source": [
    "## Dictionary"
   ]
  },
  {
   "cell_type": "code",
   "execution_count": 47,
   "metadata": {},
   "outputs": [
    {
     "name": "stdout",
     "output_type": "stream",
     "text": [
      "dict_items([('3', 3), ('4', 4)])\n"
     ]
    }
   ],
   "source": [
    "d: dict[str, int] = {\"3\": 3, \"4\": 4}\n",
    "d.get(\"4\", None)\n",
    "keys = d.keys()\n",
    "values = d.values()\n",
    "items = d.items()\n",
    "\n",
    "print(items)"
   ]
  },
  {
   "cell_type": "code",
   "execution_count": 51,
   "metadata": {},
   "outputs": [
    {
     "name": "stdout",
     "output_type": "stream",
     "text": [
      "{0: 0, 1: 1, 2: 4, 3: 9, 4: 16, 5: 25, 6: 36, 7: 49, 8: 64, 9: 81, 10: 1000, 11: 1331, 12: 1728, 13: 2197, 14: 2744}\n"
     ]
    }
   ],
   "source": [
    "## Dictionary Comprehension\n",
    "\n",
    "squares = {i : i * i for i in range(10)}\n",
    "cubes = {i : i * i * i for i in range(10, 15)}\n",
    "\n",
    "print(squares | cubes) # union of dictionary"
   ]
  },
  {
   "cell_type": "code",
   "execution_count": 52,
   "metadata": {},
   "outputs": [
    {
     "name": "stdout",
     "output_type": "stream",
     "text": [
      "0\n"
     ]
    }
   ],
   "source": [
    "## Default dict\n",
    "\n",
    "from collections import defaultdict\n",
    "\n",
    "\n",
    "d = defaultdict(int)\n",
    "print(d[5])"
   ]
  },
  {
   "cell_type": "markdown",
   "metadata": {},
   "source": [
    "## Sets"
   ]
  },
  {
   "cell_type": "code",
   "execution_count": 71,
   "metadata": {},
   "outputs": [
    {
     "name": "stdout",
     "output_type": "stream",
     "text": [
      "{'hello', 3, 4}\n",
      "False\n",
      "True\n",
      "{'hello', 4}\n"
     ]
    }
   ],
   "source": [
    "d: set = set()\n",
    "d.add(\"hello\")\n",
    "# d.remove(\"hello\")\n",
    "\n",
    "d.discard(\"hell\") # no exception when removed not found\n",
    "\n",
    "d = d.union({3, 4})\n",
    "d = d.intersection(d)\n",
    "print(d)\n",
    "\n",
    "print(d.issubset({}))\n",
    "print(d.issuperset({}))\n",
    "\n",
    "d = d - {3}\n",
    "print(d)"
   ]
  },
  {
   "cell_type": "code",
   "execution_count": 70,
   "metadata": {},
   "outputs": [
    {
     "name": "stdout",
     "output_type": "stream",
     "text": [
      "Counter({'apple': 3, 'banana': 1, 'orange': 1})\n"
     ]
    }
   ],
   "source": [
    "import collections\n",
    "\n",
    "input_data = [\"apple\", \"banana\", \"apple\", \"apple\", \"orange\"]\n",
    "\n",
    "print(collections.Counter(input_data))"
   ]
  }
 ],
 "metadata": {
  "kernelspec": {
   "display_name": "Python 3",
   "language": "python",
   "name": "python3"
  },
  "language_info": {
   "codemirror_mode": {
    "name": "ipython",
    "version": 3
   },
   "file_extension": ".py",
   "mimetype": "text/x-python",
   "name": "python",
   "nbconvert_exporter": "python",
   "pygments_lexer": "ipython3",
   "version": "3.12.2"
  }
 },
 "nbformat": 4,
 "nbformat_minor": 2
}
