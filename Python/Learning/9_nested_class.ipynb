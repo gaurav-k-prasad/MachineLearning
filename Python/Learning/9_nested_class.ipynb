{
 "cells": [
  {
   "cell_type": "code",
   "execution_count": 8,
   "metadata": {},
   "outputs": [
    {
     "name": "stdout",
     "output_type": "stream",
     "text": [
      "gaurav 32\n",
      "i5\n",
      "new Laptop\n"
     ]
    }
   ],
   "source": [
    "class Student:\n",
    "    def __init__(self, name, roll, config):\n",
    "        self.name = name\n",
    "        self.roll = roll\n",
    "        self.laptop = self.Laptop(config)\n",
    "\n",
    "    def show(self):\n",
    "        print(self.name, self.roll)\n",
    "        self.laptop.show()\n",
    "\n",
    "    class Laptop:\n",
    "        def __init__(self, config):\n",
    "            self.config = config\n",
    "\n",
    "        def show(self):\n",
    "            print(self.config)\n",
    "\n",
    "\n",
    "student = Student(\"gaurav\", 32, \"i5\")\n",
    "student.show()\n",
    "\n",
    "# ! imp\n",
    "outerLaptop = Student.Laptop(\"new Laptop\")\n",
    "outerLaptop.show()"
   ]
  }
 ],
 "metadata": {
  "kernelspec": {
   "display_name": "Python 3",
   "language": "python",
   "name": "python3"
  },
  "language_info": {
   "codemirror_mode": {
    "name": "ipython",
    "version": 3
   },
   "file_extension": ".py",
   "mimetype": "text/x-python",
   "name": "python",
   "nbconvert_exporter": "python",
   "pygments_lexer": "ipython3",
   "version": "3.12.2"
  }
 },
 "nbformat": 4,
 "nbformat_minor": 2
}
