{
 "cells": [
  {
   "cell_type": "code",
   "execution_count": 4,
   "metadata": {},
   "outputs": [
    {
     "name": "stdout",
     "output_type": "stream",
     "text": [
      "hello*world||"
     ]
    }
   ],
   "source": [
    "print(\"hello\", \"world\", sep=\"*\", end=\"||\")"
   ]
  },
  {
   "cell_type": "markdown",
   "metadata": {},
   "source": [
    "## Map function"
   ]
  },
  {
   "cell_type": "code",
   "execution_count": 14,
   "metadata": {},
   "outputs": [
    {
     "name": "stdout",
     "output_type": "stream",
     "text": [
      "['gauravPro', 'abPro', 'goodPro']\n"
     ]
    }
   ],
   "source": [
    "arr = [\"gaurav\", \"ab\", \"good\"]\n",
    "a2 = map(lambda x: x + \"Pro\", arr)\n",
    "print(list(a2))"
   ]
  },
  {
   "cell_type": "markdown",
   "metadata": {},
   "source": [
    "## Filter Function"
   ]
  },
  {
   "cell_type": "code",
   "execution_count": 21,
   "metadata": {},
   "outputs": [
    {
     "name": "stdout",
     "output_type": "stream",
     "text": [
      "['ab', 'good']\n"
     ]
    }
   ],
   "source": [
    "a3 = filter(lambda x: len(x) < 5, arr)\n",
    "print(list(a3))"
   ]
  },
  {
   "cell_type": "markdown",
   "metadata": {},
   "source": [
    "## Sum Function"
   ]
  },
  {
   "cell_type": "code",
   "execution_count": 22,
   "metadata": {},
   "outputs": [
    {
     "data": {
      "text/plain": [
       "9"
      ]
     },
     "execution_count": 22,
     "metadata": {},
     "output_type": "execute_result"
    }
   ],
   "source": [
    "sum(range(5), start=-1)"
   ]
  },
  {
   "cell_type": "markdown",
   "metadata": {},
   "source": [
    "## Sorting"
   ]
  },
  {
   "cell_type": "code",
   "execution_count": 23,
   "metadata": {},
   "outputs": [
    {
     "name": "stdout",
     "output_type": "stream",
     "text": [
      "[{'name': 'Dipu', 'age': 69}, {'name': 'gaurav', 'age': 32}, {'name': 'prasad', 'age': -1}]\n"
     ]
    }
   ],
   "source": [
    "data = [\n",
    "  {\"name\": \"gaurav\", \"age\": 32},\n",
    "  {\"name\": \"Dipu\", \"age\": 69},\n",
    "  {\"name\": \"prasad\", \"age\": -1},\n",
    "]\n",
    "\n",
    "print(list(sorted(data, reverse=True, key= lambda x: x[\"age\"])))"
   ]
  },
  {
   "cell_type": "markdown",
   "metadata": {},
   "source": [
    "## Zip"
   ]
  },
  {
   "cell_type": "code",
   "execution_count": 33,
   "metadata": {},
   "outputs": [
    {
     "name": "stdout",
     "output_type": "stream",
     "text": [
      "('Gaurav', 1, 't') ('prasad', 2, 'h') ('Age', 69, 'i') ('Bruh', 3, 's')\n"
     ]
    }
   ],
   "source": [
    "names = [\"Gaurav\", \"prasad\", \"Age\", \"Bruh\"]\n",
    "ages = [1, 2, 69, 3, 7]\n",
    "\n",
    "print(*zip(names, ages, \"thisIsAString\"))"
   ]
  }
 ],
 "metadata": {
  "kernelspec": {
   "display_name": "Python 3",
   "language": "python",
   "name": "python3"
  },
  "language_info": {
   "codemirror_mode": {
    "name": "ipython",
    "version": 3
   },
   "file_extension": ".py",
   "mimetype": "text/x-python",
   "name": "python",
   "nbconvert_exporter": "python",
   "pygments_lexer": "ipython3",
   "version": "3.12.2"
  }
 },
 "nbformat": 4,
 "nbformat_minor": 2
}
