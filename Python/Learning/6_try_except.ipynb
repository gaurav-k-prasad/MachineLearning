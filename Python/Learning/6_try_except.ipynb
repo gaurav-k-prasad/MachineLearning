{
 "cells": [
  {
   "cell_type": "markdown",
   "metadata": {},
   "source": [
    "### Try and Except blocks"
   ]
  },
  {
   "cell_type": "code",
   "execution_count": 19,
   "metadata": {},
   "outputs": [
    {
     "name": "stdout",
     "output_type": "stream",
     "text": [
      "Not supported invalid literal for int() with base 10: ''\n",
      "always works\n"
     ]
    }
   ],
   "source": [
    "try:\n",
    "    a = int(\"\")\n",
    "    print(a)\n",
    "except (ValueError, TypeError) as e:\n",
    "    print(\"Not supported\", e)\n",
    "else:\n",
    "    print(\"Works properly\")\n",
    "finally:\n",
    "    print(\"always works\")"
   ]
  },
  {
   "cell_type": "markdown",
   "metadata": {},
   "source": [
    "## Errors"
   ]
  },
  {
   "cell_type": "code",
   "execution_count": 27,
   "metadata": {},
   "outputs": [
    {
     "name": "stdout",
     "output_type": "stream",
     "text": [
      "Raising from inside function...\n",
      "division by zero\n"
     ]
    }
   ],
   "source": [
    "def checkAge(age: int):\n",
    "    try:\n",
    "        age = age / 0\n",
    "    except ZeroDivisionError:\n",
    "        print(\"Raising from inside function...\")\n",
    "        raise # used to propagate to next error handler\n",
    "\n",
    "try:\n",
    "    checkAge(10)\n",
    "except ZeroDivisionError as e:\n",
    "    print(e)"
   ]
  },
  {
   "cell_type": "markdown",
   "metadata": {},
   "source": [
    "## Logging Errors"
   ]
  },
  {
   "cell_type": "code",
   "execution_count": 32,
   "metadata": {},
   "outputs": [],
   "source": [
    "import logging\n",
    "\n",
    "logging.basicConfig(filename=\"logger.txt\", level=logging.ERROR)\n",
    "\n",
    "try:\n",
    "    x = 5 / 0\n",
    "except ZeroDivisionError as e:\n",
    "    logging.error(\"An error occurred: %s\", e)"
   ]
  },
  {
   "cell_type": "markdown",
   "metadata": {},
   "source": [
    "## Custom Errors"
   ]
  },
  {
   "cell_type": "code",
   "execution_count": 41,
   "metadata": {},
   "outputs": [
    {
     "name": "stdout",
     "output_type": "stream",
     "text": [
      "What the fuck\n"
     ]
    }
   ],
   "source": [
    "class NegativeValueError(Exception):\n",
    "    pass\n",
    "\n",
    "try:\n",
    "    raise NegativeValueError(\"What the fuck\")\n",
    "except NegativeValueError as e:\n",
    "    print(e)"
   ]
  },
  {
   "cell_type": "markdown",
   "metadata": {},
   "source": [
    "## Error Suppression"
   ]
  },
  {
   "cell_type": "code",
   "execution_count": null,
   "metadata": {},
   "outputs": [],
   "source": [
    "from contextlib import suppress\n",
    "\n",
    "# Suppress the error\n",
    "with suppress(ZeroDivisionError):\n",
    "    x = 10 / 0"
   ]
  }
 ],
 "metadata": {
  "kernelspec": {
   "display_name": "Python 3",
   "language": "python",
   "name": "python3"
  },
  "language_info": {
   "codemirror_mode": {
    "name": "ipython",
    "version": 3
   },
   "file_extension": ".py",
   "mimetype": "text/x-python",
   "name": "python",
   "nbconvert_exporter": "python",
   "pygments_lexer": "ipython3",
   "version": "3.12.2"
  }
 },
 "nbformat": 4,
 "nbformat_minor": 2
}
