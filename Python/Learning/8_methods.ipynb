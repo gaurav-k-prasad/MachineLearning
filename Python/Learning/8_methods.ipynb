{
 "cells": [
  {
   "cell_type": "code",
   "execution_count": 45,
   "metadata": {},
   "outputs": [
    {
     "name": "stdout",
     "output_type": "stream",
     "text": [
      "44.0\n",
      "New School\n",
      "This is Student class..., in abc module\n",
      "None\n"
     ]
    }
   ],
   "source": [
    "class Student:\n",
    "    school: str = \"My School\"\n",
    "    \n",
    "    def __init__(self, m1: int, m2: int, m3: int):\n",
    "        self.m1: int = m1\n",
    "        self.m2: int = m2\n",
    "        self.m3: int = m3\n",
    "\n",
    "\n",
    "    def avg(self) -> float: # Instance method coz it has \"self\"\n",
    "        return (self.m1 + self.m2 + self.m3) / 3\n",
    "\n",
    "    \n",
    "\n",
    "    @classmethod # use a decorator to make it a class method\n",
    "    # use \"cls\" for class method\n",
    "    def changeSchool(cls, newName: str): # class method\n",
    "        cls.school = newName\n",
    "        return cls.school\n",
    "\n",
    "\n",
    "\n",
    "    \"\"\"\n",
    "    When a method does not modify instance/class variables.\n",
    "    When a function logically belongs to a class but is independent of its attributes.\n",
    "    When you need utility functions, conversion functions, or validation checks.\n",
    "    \"\"\"\n",
    "    @staticmethod\n",
    "    def info(): # static method. Not related to class, not related to object\n",
    "        print(\"This is Student class..., in abc module\")\n",
    "\n",
    "\n",
    "\n",
    "\n",
    "s1 = Student(34, 67, 32)\n",
    "s2 = Student(89, 31, 12)\n",
    "\n",
    "print(s2.avg())\n",
    "print(Student.changeSchool(\"New School\"))\n",
    "print(Student.info())"
   ]
  }
 ],
 "metadata": {
  "kernelspec": {
   "display_name": "Python 3",
   "language": "python",
   "name": "python3"
  },
  "language_info": {
   "codemirror_mode": {
    "name": "ipython",
    "version": 3
   },
   "file_extension": ".py",
   "mimetype": "text/x-python",
   "name": "python",
   "nbconvert_exporter": "python",
   "pygments_lexer": "ipython3",
   "version": "3.12.2"
  }
 },
 "nbformat": 4,
 "nbformat_minor": 2
}
