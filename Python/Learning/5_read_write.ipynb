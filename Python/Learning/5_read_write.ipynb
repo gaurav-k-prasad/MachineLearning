{
 "cells": [
  {
   "cell_type": "markdown",
   "metadata": {},
   "source": [
    "## Reading from file"
   ]
  },
  {
   "cell_type": "markdown",
   "metadata": {},
   "source": [
    "### Using Open()"
   ]
  },
  {
   "cell_type": "code",
   "execution_count": 22,
   "metadata": {},
   "outputs": [
    {
     "name": "stdout",
     "output_type": "stream",
     "text": [
      "b'The sun was setting behind the mountains, casting a golden glow over the valley. \\r\\nBirds chirped their evening songs as the sky turned shades of pink and orange. \\r\\nIt was a peaceful end to a busy day, and the villagers began to gather in the town square for the nightly festivities.\\r\\n\\r\\nIn the heart of the city, the hustle and bustle never seemed to stop. \\r\\nCars honked, people hurried along the sidewalks, and the lights of the skyscrapers twinkled like stars. \\r\\nAmidst the chaos, a street performer played a soulful tune on his saxophone, bringing a moment of calm to those who stopped to listen.\\r\\n\\r\\nThe forest was alive with the sounds of nature. \\r\\nLeaves rustled in the gentle breeze, and the distant call of an owl echoed through the trees. \\r\\nA family of deer grazed quietly in a clearing, unaware of the hiker watching them from a distance. \\r\\nIt was a perfect moment of serenity in the wilderness.\\r\\n'\n"
     ]
    }
   ],
   "source": [
    "try:\n",
    "    file = open(\"../Data/read.txt\", \"rb\")\n",
    "    print(file.read())\n",
    "except FileNotFoundError:\n",
    "    print(\"File not found\")\n",
    "finally:\n",
    "    file.close()"
   ]
  },
  {
   "cell_type": "code",
   "execution_count": 34,
   "metadata": {},
   "outputs": [
    {
     "name": "stdout",
     "output_type": "stream",
     "text": [
      "The sun was setting behind the mountains, casting a golden glow over the valley.\n",
      "Birds chirped their evening songs as the sky turned shades of pink and orange.\n",
      "It was a peaceful end to a busy day, and the villagers began to gather in the town square for the nightly festivities.\n",
      "\n",
      "In the heart of the city, the hustle and bustle never seemed to stop.\n",
      "Cars honked, people hurried along the sidewalks, and the lights of the skyscrapers twinkled like stars.\n",
      "Amidst the chaos, a street performer played a soulful tune on his saxophone, bringing a moment of calm to those who stopped to listen.\n",
      "\n",
      "The forest was alive with the sounds of nature.\n",
      "Leaves rustled in the gentle breeze, and the distant call of an owl echoed through the trees.\n",
      "A family of deer grazed quietly in a clearing, unaware of the hiker watching them from a distance.\n",
      "It was a perfect moment of serenity in the wilderness.\n"
     ]
    }
   ],
   "source": [
    "with open(\"../Data/read.txt\", \"r\") as file:\n",
    "    for line in file:\n",
    "        print(line.strip())"
   ]
  },
  {
   "cell_type": "code",
   "execution_count": 42,
   "metadata": {},
   "outputs": [],
   "source": [
    "with open(\"../Data/write.txt\", \"w\") as file:\n",
    "    content = {\"bruh\", \"hello\", \"\\n\"}\n",
    "\n",
    "    file.writelines(content)\n",
    "    \n",
    "    for item in content:\n",
    "        file.writelines(item)"
   ]
  }
 ],
 "metadata": {
  "kernelspec": {
   "display_name": "Python 3",
   "language": "python",
   "name": "python3"
  },
  "language_info": {
   "codemirror_mode": {
    "name": "ipython",
    "version": 3
   },
   "file_extension": ".py",
   "mimetype": "text/x-python",
   "name": "python",
   "nbconvert_exporter": "python",
   "pygments_lexer": "ipython3",
   "version": "3.12.2"
  }
 },
 "nbformat": 4,
 "nbformat_minor": 2
}
