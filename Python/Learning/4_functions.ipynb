{
	"cells": [
		{
			"cell_type": "markdown",
			"metadata": {},
			"source": [
				"## Functions"
			]
		},
		{
			"cell_type": "code",
			"execution_count": 12,
			"metadata": {},
			"outputs": [
				{
					"data": {
						"text/plain": [
							"'Good Morning Gaurav'"
						]
					},
					"execution_count": 12,
					"metadata": {},
					"output_type": "execute_result"
				}
			],
			"source": [
				"def func(name: str, greet: str = \"Good Morning\"):\n",
				"    return f\"{greet} {name}\"\n",
				"\n",
				"func(\"Gaurav\")"
			]
		},
		{
			"cell_type": "code",
			"execution_count": 13,
			"metadata": {},
			"outputs": [
				{
					"name": "stdout",
					"output_type": "stream",
					"text": [
						"(4, 5)\n"
					]
				}
			],
			"source": [
				"def _args(ele, *args):\n",
				"    print(args)\n",
				"\n",
				"_args(3, 4, 5)"
			]
		},
		{
			"cell_type": "code",
			"execution_count": 14,
			"metadata": {},
			"outputs": [
				{
					"name": "stdout",
					"output_type": "stream",
					"text": [
						"(3, 4, 5)\n",
						"{'a': 5, 'b': 10}\n"
					]
				}
			],
			"source": [
				"def _kwargs(*args, **kwargs):\n",
				"    print(args)\n",
				"    print(kwargs)\n",
				"\n",
				"_kwargs(3, 4, 5, a = 5, b = 10)"
			]
		},
		{
			"cell_type": "code",
			"execution_count": 2,
			"metadata": {},
			"outputs": [
				{
					"name": "stdout",
					"output_type": "stream",
					"text": [
						"7\n"
					]
				}
			],
			"source": [
				"import typing\n",
				"\n",
				"def applyFunction(func: typing.Callable, x: typing.Iterable[int]) -> typing.Any:\n",
				"    return func(x)\n",
				"\n",
				"def f(a):\n",
				"    return sum(a)\n",
				"\n",
				"print(applyFunction(f, [3, 4]))"
			]
		},
		{
			"cell_type": "code",
			"execution_count": 16,
			"metadata": {},
			"outputs": [
				{
					"name": "stdout",
					"output_type": "stream",
					"text": [
						"odd\n"
					]
				}
			],
			"source": [
				"def higherOrder(num: int):\n",
				"    def odd() -> None:\n",
				"        print(\"odd\")\n",
				"\n",
				"    def even() -> None:\n",
				"        print(\"even\")\n",
				"\n",
				"    return odd if num % 2 else even\n",
				"\n",
				"function_ = higherOrder(3)\n",
				"function_()"
			]
		},
		{
			"cell_type": "code",
			"execution_count": 3,
			"metadata": {},
			"outputs": [
				{
					"name": "stdout",
					"output_type": "stream",
					"text": [
						"15\n"
					]
				},
				{
					"data": {
						"text/plain": [
							"64"
						]
					},
					"execution_count": 3,
					"metadata": {},
					"output_type": "execute_result"
				}
			],
			"source": [
				"def multiplier(factor: int):\n",
				"    return lambda x : x * factor\n",
				"\n",
				"threeTimes: typing.Callable = multiplier(3)\n",
				"\n",
				"print(threeTimes(5))\n",
				"\n",
				"for i in range(5):\n",
				"    globals()[f\"mul_{i}\"] = multiplier(i)\n",
				"\n",
				"mul_2(32)"
			]
		},
		{
			"cell_type": "markdown",
			"metadata": {},
			"source": [
				"## Closures"
			]
		},
		{
			"cell_type": "code",
			"execution_count": 4,
			"metadata": {},
			"outputs": [],
			"source": [
				"def outer(x: int):\n",
				"    # Preserves the values of dictionary even if lost scope\n",
				"    hashMap= {3: 5}\n",
				"    hashMap.setdefault(0)\n",
				"\n",
				"    def inner(y: int) -> int:\n",
				"        return hashMap.get(y)\n",
				"    \n",
				"    return inner\n",
				"\n",
				"inner = outer(12)\n",
				"\n",
				"inner(5)"
			]
		},
		{
			"cell_type": "code",
			"execution_count": 19,
			"metadata": {},
			"outputs": [
				{
					"name": "stdout",
					"output_type": "stream",
					"text": [
						"2\n",
						"4\n",
						"6\n"
					]
				}
			],
			"source": [
				"def counterGen(increment: int):\n",
				"    count: int = 0\n",
				"\n",
				"    def inc():\n",
				"        nonlocal count\n",
				"        count += increment\n",
				"\n",
				"        return count\n",
				"    \n",
				"    return inc\n",
				"\n",
				"counter = counterGen(2)\n",
				"\n",
				"print(counter())\n",
				"print(counter())\n",
				"print(counter())"
			]
		},
		{
			"cell_type": "markdown",
			"metadata": {},
			"source": [
				"## Lambda"
			]
		},
		{
			"cell_type": "code",
			"execution_count": 20,
			"metadata": {},
			"outputs": [
				{
					"name": "stdout",
					"output_type": "stream",
					"text": [
						"hello\n"
					]
				}
			],
			"source": [
				"# No args\n",
				"(lambda: print(\"hello\"))()"
			]
		},
		{
			"cell_type": "code",
			"execution_count": 21,
			"metadata": {},
			"outputs": [
				{
					"data": {
						"text/plain": [
							"(5+6j)"
						]
					},
					"execution_count": 21,
					"metadata": {},
					"output_type": "execute_result"
				}
			],
			"source": [
				"# more args\n",
				"(lambda x, y: x + y)(3j, 5 + 3j)"
			]
		}
	],
	"metadata": {
		"kernelspec": {
			"display_name": "Python 3",
			"language": "python",
			"name": "python3"
		},
		"language_info": {
			"codemirror_mode": {
				"name": "ipython",
				"version": 3
			},
			"file_extension": ".py",
			"mimetype": "text/x-python",
			"name": "python",
			"nbconvert_exporter": "python",
			"pygments_lexer": "ipython3",
			"version": "3.12.2"
		}
	},
	"nbformat": 4,
	"nbformat_minor": 2
}
