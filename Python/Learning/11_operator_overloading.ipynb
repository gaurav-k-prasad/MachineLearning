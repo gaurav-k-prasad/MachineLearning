{
 "cells": [
  {
   "cell_type": "code",
   "execution_count": 1,
   "metadata": {},
   "outputs": [
    {
     "name": "stdout",
     "output_type": "stream",
     "text": [
      "4 + 4i\n"
     ]
    }
   ],
   "source": [
    "class Complex:\n",
    "    def __init__(self, real, im):\n",
    "        self.real = real\n",
    "        self.im = im\n",
    "\n",
    "    def __add__(self, other: 'Complex'):\n",
    "        return Complex(self.real + other.real, self.im + other.im)\n",
    "    \n",
    "    def __str__(self):\n",
    "        return f\"{self.real} + {self.im}i\"\n",
    "    \n",
    "com1 = Complex(1, 2)\n",
    "com2 = Complex(3, 2)\n",
    "\n",
    "print(com1 + com2)"
   ]
  }
 ],
 "metadata": {
  "kernelspec": {
   "display_name": "Python 3",
   "language": "python",
   "name": "python3"
  },
  "language_info": {
   "codemirror_mode": {
    "name": "ipython",
    "version": 3
   },
   "file_extension": ".py",
   "mimetype": "text/x-python",
   "name": "python",
   "nbconvert_exporter": "python",
   "pygments_lexer": "ipython3",
   "version": "3.12.2"
  }
 },
 "nbformat": 4,
 "nbformat_minor": 2
}
