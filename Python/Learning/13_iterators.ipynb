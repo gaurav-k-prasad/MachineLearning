{
 "cells": [
  {
   "cell_type": "code",
   "execution_count": 25,
   "metadata": {},
   "outputs": [
    {
     "name": "stdout",
     "output_type": "stream",
     "text": [
      "-1\n",
      "0\n",
      "1\n"
     ]
    }
   ],
   "source": [
    "class A:\n",
    "  def __init__(self, start: int, end: int) -> None:\n",
    "    self.counter: int = start - 1\n",
    "    self.start: int = start\n",
    "    self.end: int = end\n",
    "\n",
    "  def __iter__(self):\n",
    "    return self\n",
    "\n",
    "  def __next__(self):\n",
    "    if (self.counter == self.end):\n",
    "      raise StopIteration\n",
    "    else:\n",
    "      self.counter += 1\n",
    "      return self.counter\n",
    "\n",
    "a: A = A(-1, 1)\n",
    "\n",
    "for i in a:\n",
    "  print(i)"
   ]
  }
 ],
 "metadata": {
  "kernelspec": {
   "display_name": "Python 3",
   "language": "python",
   "name": "python3"
  },
  "language_info": {
   "codemirror_mode": {
    "name": "ipython",
    "version": 3
   },
   "file_extension": ".py",
   "mimetype": "text/x-python",
   "name": "python",
   "nbconvert_exporter": "python",
   "pygments_lexer": "ipython3",
   "version": "3.12.2"
  }
 },
 "nbformat": 4,
 "nbformat_minor": 2
}
