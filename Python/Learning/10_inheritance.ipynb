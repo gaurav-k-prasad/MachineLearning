{
 "cells": [
  {
   "cell_type": "code",
   "execution_count": 5,
   "metadata": {},
   "outputs": [
    {
     "name": "stdout",
     "output_type": "stream",
     "text": [
      "[<class '__main__.D'>, <class '__main__.B'>, <class '__main__.C'>, <class '__main__.A'>, <class 'object'>]\n",
      "D's constructor\n",
      "B's constructor\n",
      "C's constructor\n",
      "A's constructor\n",
      "C's constructor\n",
      "B's constructor\n",
      "D's constructor\n"
     ]
    },
    {
     "ename": "TypeError",
     "evalue": "D.bruh() missing 1 required positional argument: 'a'",
     "output_type": "error",
     "traceback": [
      "\u001b[1;31m---------------------------------------------------------------------------\u001b[0m",
      "\u001b[1;31mTypeError\u001b[0m                                 Traceback (most recent call last)",
      "Cell \u001b[1;32mIn[5], line 43\u001b[0m\n\u001b[0;32m     41\u001b[0m \u001b[38;5;28mprint\u001b[39m(D\u001b[38;5;241m.\u001b[39mmro())\n\u001b[0;32m     42\u001b[0m d \u001b[38;5;241m=\u001b[39m D()\n\u001b[1;32m---> 43\u001b[0m \u001b[43md\u001b[49m\u001b[38;5;241;43m.\u001b[39;49m\u001b[43mbruh\u001b[49m\u001b[43m(\u001b[49m\u001b[43m)\u001b[49m\n",
      "\u001b[1;31mTypeError\u001b[0m: D.bruh() missing 1 required positional argument: 'a'"
     ]
    }
   ],
   "source": [
    "class A:\n",
    "    def __init__(self):\n",
    "        print(\"A's constructor\")\n",
    "\n",
    "class B(A):\n",
    "    def __init__(self):\n",
    "        print(\"B's constructor\")\n",
    "        super().__init__()  # Calls A's constructor\n",
    "        print(\"B's constructor\")\n",
    "\n",
    "    def a(self):\n",
    "        pass\n",
    "\n",
    "class C(A):\n",
    "    def __init__(self):\n",
    "        print(\"C's constructor\")\n",
    "        super().__init__()  # Calls A's constructor\n",
    "        print(\"C's constructor\")\n",
    "\n",
    "    def b(self):\n",
    "        pass\n",
    "\n",
    "class D(B, C):\n",
    "    def __init__(self):\n",
    "        print(\"D's constructor\")\n",
    "        super().__init__()  # Calls B -> C -> A\n",
    "        # super().\n",
    "        print(\"D's constructor\")\n",
    "\n",
    "        super().a()\n",
    "        super().b()\n",
    "\n",
    "# ! DIAMOND INHERITANCE -> SOLVED MY METHOD RESOLUTION ORDER(mro)\n",
    "# ! any method will be searched in the MRO order -> in D => (B first, C second) coz inheritance order\n",
    "print(D.mro())\n",
    "d = D()"
   ]
  }
 ],
 "metadata": {
  "kernelspec": {
   "display_name": "Python 3",
   "language": "python",
   "name": "python3"
  },
  "language_info": {
   "codemirror_mode": {
    "name": "ipython",
    "version": 3
   },
   "file_extension": ".py",
   "mimetype": "text/x-python",
   "name": "python",
   "nbconvert_exporter": "python",
   "pygments_lexer": "ipython3",
   "version": "3.12.2"
  }
 },
 "nbformat": 4,
 "nbformat_minor": 2
}
