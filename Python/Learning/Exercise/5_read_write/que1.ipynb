{
 "cells": [
  {
   "cell_type": "code",
   "execution_count": 48,
   "metadata": {},
   "outputs": [],
   "source": [
    "from collections import Counter\n",
    "\n",
    "def logger(inputFile: str, outputFile: str):\n",
    "    try:\n",
    "        with open(inputFile, \"r\") as file:\n",
    "            data: list[str]= file.read().split(\"\\n\")\n",
    "            freq_count = Counter(map(lambda x: x.split()[0], data))\n",
    "            # print(sorted(freq_count, key=lambda))\n",
    "            freq_count = freq_count.most_common()\n",
    "    except FileNotFoundError:\n",
    "        print(\"File not found\")\n",
    "\n",
    "    try:\n",
    "        with open(outputFile, mode=\"a\") as file:\n",
    "            for ip, freq in freq_count:\n",
    "                file.write(f\"{ip} - {freq}\\n\")\n",
    "    except FileNotFoundError:\n",
    "        print(\"File not found\")  \n",
    "\n",
    "logger(\"./data.txt\", \"./log.txt\")"
   ]
  },
  {
   "cell_type": "code",
   "execution_count": 105,
   "metadata": {},
   "outputs": [
    {
     "data": {
      "text/plain": [
       "0"
      ]
     },
     "execution_count": 105,
     "metadata": {},
     "output_type": "execute_result"
    }
   ],
   "source": [
    "import csv\n",
    "\n",
    "def findAverage(inputFile: str) -> float:\n",
    "    try:\n",
    "        with open(inputFile, \"r\") as file:\n",
    "            reader = csv.DictReader(file)\n",
    "\n",
    "            add: float = 0\n",
    "            count: int = 0\n",
    "\n",
    "            for data in reader:\n",
    "                add += float(data[\"Salary\"])\n",
    "                count += 1\n",
    "\n",
    "            return 0 if not count else add / count\n",
    "                \n",
    "    except FileNotFoundError:\n",
    "        print(\"File not found\")\n",
    "\n",
    "findAverage(\"average.csv\")"
   ]
  },
  {
   "cell_type": "code",
   "execution_count": 106,
   "metadata": {},
   "outputs": [
    {
     "name": "stdout",
     "output_type": "stream",
     "text": [
      "typing.Any\n"
     ]
    }
   ],
   "source": []
  }
 ],
 "metadata": {
  "kernelspec": {
   "display_name": "Python 3",
   "language": "python",
   "name": "python3"
  },
  "language_info": {
   "codemirror_mode": {
    "name": "ipython",
    "version": 3
   },
   "file_extension": ".py",
   "mimetype": "text/x-python",
   "name": "python",
   "nbconvert_exporter": "python",
   "pygments_lexer": "ipython3",
   "version": "3.12.2"
  }
 },
 "nbformat": 4,
 "nbformat_minor": 2
}
