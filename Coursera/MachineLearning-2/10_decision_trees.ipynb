{
 "cells": [
  {
   "cell_type": "code",
   "execution_count": 1,
   "metadata": {},
   "outputs": [],
   "source": [
    "import numpy as np\n",
    "import matplotlib.pyplot as plt"
   ]
  },
  {
   "cell_type": "code",
   "execution_count": 2,
   "metadata": {},
   "outputs": [],
   "source": [
    "# X_train = (Ear Shape = (1 if Pointy, 0 if floppy),    Face Shape = (1 if round, 0 if not round),      Whiskers = (1 if Present, 0 if Absent))\n",
    "\n",
    "features = [\"Ear Shape\", \"Face Shape\", \"Whiskers\"]\n",
    "\n",
    "X_train = np.array(\n",
    "    [\n",
    "        [1, 1, 1],\n",
    "        [0, 0, 1],\n",
    "        [0, 1, 0],\n",
    "        [1, 0, 1],\n",
    "        [1, 1, 1],\n",
    "        [1, 1, 0],\n",
    "        [0, 0, 0],\n",
    "        [1, 1, 0],\n",
    "        [0, 1, 0],\n",
    "        [0, 1, 0],\n",
    "    ]\n",
    ")\n",
    "\n",
    "y_train = np.array([1, 1, 0, 0, 1, 1, 0, 1, 0, 0])"
   ]
  },
  {
   "cell_type": "code",
   "execution_count": 3,
   "metadata": {},
   "outputs": [
    {
     "data": {
      "text/plain": [
       "array([1, 1, 1])"
      ]
     },
     "execution_count": 3,
     "metadata": {},
     "output_type": "execute_result"
    }
   ],
   "source": [
    "X_train[0]"
   ]
  },
  {
   "cell_type": "code",
   "execution_count": 4,
   "metadata": {},
   "outputs": [
    {
     "name": "stdout",
     "output_type": "stream",
     "text": [
      "1.0\n"
     ]
    }
   ],
   "source": [
    "# Entropy\n",
    "\n",
    "def entropy(p) -> float:\n",
    "    if (p == 0 or p == 1):\n",
    "        return 0\n",
    "    \n",
    "    return - (p * np.log2(p) + (1 - p) * np.log2(1 - p))\n",
    "\n",
    "print(entropy(0.5))"
   ]
  },
  {
   "cell_type": "code",
   "execution_count": 5,
   "metadata": {},
   "outputs": [],
   "source": [
    "def split_indices(X, feature_index: int):\n",
    "    \"\"\"For a given feature (index of the training set (one hot encoded)) returns the indices of features that satisfy the criteria and vice versa\n",
    "\n",
    "    Args:\n",
    "        X (Numpy Array) : Dataset\n",
    "        feature_index (int): Index of feature\n",
    "\n",
    "    Returns:\n",
    "        tuple: left tree values and right tree values\n",
    "    \"\"\"\n",
    "    \n",
    "    left_tree = []\n",
    "    right_tree = []\n",
    "\n",
    "    for i, x in enumerate(X):\n",
    "        if (x[feature_index] == 1):\n",
    "            left_tree.append(i)\n",
    "        else:\n",
    "            right_tree.append(i)\n",
    "\n",
    "    return left_tree, right_tree\n"
   ]
  },
  {
   "cell_type": "code",
   "execution_count": 6,
   "metadata": {},
   "outputs": [
    {
     "data": {
      "text/plain": [
       "([0, 3, 4, 5, 7], [1, 2, 6, 8, 9])"
      ]
     },
     "execution_count": 6,
     "metadata": {},
     "output_type": "execute_result"
    }
   ],
   "source": [
    "split_indices(X_train, 0)"
   ]
  },
  {
   "cell_type": "code",
   "execution_count": null,
   "metadata": {},
   "outputs": [
    {
     "ename": "",
     "evalue": "",
     "output_type": "error",
     "traceback": [
      "\u001b[1;31mThe Kernel crashed while executing code in the current cell or a previous cell. \n",
      "\u001b[1;31mPlease review the code in the cell(s) to identify a possible cause of the failure. \n",
      "\u001b[1;31mClick <a href='https://aka.ms/vscodeJupyterKernelCrash'>here</a> for more info. \n",
      "\u001b[1;31mView Jupyter <a href='command:jupyter.viewOutput'>log</a> for further details."
     ]
    }
   ],
   "source": [
    "def weighted_entropy(X, y, left_tree, right_tree) -> float:\n",
    "    \"\"\"\n",
    "    This function takes the splitted dataset, the indices we chose to split and returns the weighted entropy.\n",
    "    \"\"\"\n",
    "    prob_left = 0\n",
    "    w_left = len(left_tree) / len(X)\n",
    "    if (len(left_tree) > 0):\n",
    "        prob_left = sum(y[left_tree]) / len(left_tree)\n",
    "\n",
    "    prob_right  = 0\n",
    "    w_right = len(right_tree) / len(X)\n",
    "    if (len(right_tree) > 0):\n",
    "        prob_right = sum(y[right_tree]) / len(right_tree)\n",
    "\n",
    "    weighted_entropy = w_left * entropy(prob_left) + w_right * entropy(prob_right)\n",
    "    return weighted_entropy"
   ]
  },
  {
   "cell_type": "code",
   "execution_count": 107,
   "metadata": {},
   "outputs": [
    {
     "data": {
      "text/plain": [
       "0.7219280948873623"
      ]
     },
     "execution_count": 107,
     "metadata": {},
     "output_type": "execute_result"
    }
   ],
   "source": [
    "left_tree, right_tree = split_indices(X_train, 0)\n",
    "weighted_entropy(X_train, y_train, left_tree, right_tree)"
   ]
  },
  {
   "cell_type": "code",
   "execution_count": 108,
   "metadata": {},
   "outputs": [],
   "source": [
    "def information_gain(X, y, left_tree, right_tree) -> float:\n",
    "    p_node = sum(y) / len(y)\n",
    "    p_node_entropy = entropy(p_node)\n",
    "    c_entropy = weighted_entropy(X, y, left_tree, right_tree)\n",
    "\n",
    "    return p_node_entropy - c_entropy"
   ]
  },
  {
   "cell_type": "code",
   "execution_count": 109,
   "metadata": {},
   "outputs": [
    {
     "data": {
      "text/plain": [
       "0.2780719051126377"
      ]
     },
     "execution_count": 109,
     "metadata": {},
     "output_type": "execute_result"
    }
   ],
   "source": [
    "information_gain(X_train, y_train, left_tree, right_tree)"
   ]
  },
  {
   "cell_type": "code",
   "execution_count": 110,
   "metadata": {},
   "outputs": [],
   "source": [
    "def split(X, y) -> tuple[int, float, list[int], list[int]]:\n",
    "    if len(X) == 0 or len(y) == 0:\n",
    "        return -1, 0, [], []\n",
    "    \n",
    "    max_info_gain: float = 0\n",
    "    split_index = 0\n",
    "    max_left_tree = max_right_tree = []\n",
    "\n",
    "    for i in range(X.shape[1]): # columns\n",
    "        left_tree, right_tree = split_indices(X, i)\n",
    "        info_gain = information_gain(X, y, left_tree, right_tree)\n",
    "        if (info_gain > max_info_gain):\n",
    "            split_index = i\n",
    "            max_info_gain = info_gain\n",
    "            max_left_tree = left_tree\n",
    "            max_right_tree = right_tree\n",
    "\n",
    "    return split_index, max_info_gain, max_left_tree, max_right_tree"
   ]
  },
  {
   "cell_type": "code",
   "execution_count": 118,
   "metadata": {},
   "outputs": [
    {
     "name": "stdout",
     "output_type": "stream",
     "text": [
      "splitting on :  Ear Shape\n",
      "[0 3 4 5 7] [1 2 6 8 9]\n",
      "splitting on :  Face Shape\n",
      "[0 4 5 7] [3]\n",
      "splitting on :  Whiskers\n",
      "[1] [2 6 8 9]\n",
      "None\n"
     ]
    }
   ],
   "source": [
    "def build_tree(X, y, i, max_depth: int):\n",
    "    if (max_depth == 0):\n",
    "        return\n",
    "    \n",
    "    split_index, info_gain, left_tree, right_tree = split(X, y)\n",
    "    if (info_gain < 1e-3):\n",
    "        return\n",
    "    \n",
    "    left_indices = i[left_tree]\n",
    "    right_indices = i[right_tree]\n",
    "    print(\"splitting on : \", features[split_index])\n",
    "    print(left_indices, right_indices)\n",
    "\n",
    "    build_tree(X[left_tree], y[left_tree], left_indices, max_depth - 1)\n",
    "    build_tree(X[right_tree], y[right_tree], right_indices, max_depth - 1)\n",
    "\n",
    "print(build_tree(X_train, y_train, np.arange(X_train.shape[0]), 2))"
   ]
  }
 ],
 "metadata": {
  "kernelspec": {
   "display_name": "Python 3",
   "language": "python",
   "name": "python3"
  },
  "language_info": {
   "codemirror_mode": {
    "name": "ipython",
    "version": 3
   },
   "file_extension": ".py",
   "mimetype": "text/x-python",
   "name": "python",
   "nbconvert_exporter": "python",
   "pygments_lexer": "ipython3",
   "version": "3.12.2"
  }
 },
 "nbformat": 4,
 "nbformat_minor": 2
}
