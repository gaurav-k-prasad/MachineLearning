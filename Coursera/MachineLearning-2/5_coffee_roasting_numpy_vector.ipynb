{
 "cells": [
  {
   "cell_type": "code",
   "execution_count": 1,
   "metadata": {},
   "outputs": [],
   "source": [
    "import numpy as np\n",
    "import tensorflow as tf\n",
    "from tensorflow.keras.layers import Normalization"
   ]
  },
  {
   "cell_type": "code",
   "execution_count": 2,
   "metadata": {},
   "outputs": [],
   "source": [
    "def load_coffee_data(seed = 2):\n",
    "    \"\"\"Creates a coffee roasting data set.\n",
    "    roasting duration: 12-15 minutes is best\n",
    "    temperature range: 175-260C is best\n",
    "    \"\"\"\n",
    "    rng = np.random.default_rng(seed)\n",
    "    X = rng.random(400).reshape(-1, 2)\n",
    "    X[:, 1] = X[:, 1] * 4 + 11.5  # 12-15 min is best\n",
    "    X[:, 0] = X[:, 0] * (285 - 150) + 150  # 350-500 F (175-260 C) is best\n",
    "    Y = np.zeros(len(X))\n",
    "\n",
    "    i = 0\n",
    "    for t, d in X:\n",
    "        y = -3 / (260 - 175) * t + 21\n",
    "        if t > 175 and t < 260 and d > 12 and d < 15 and d <= y:\n",
    "            Y[i] = 1\n",
    "        else:\n",
    "            Y[i] = 0\n",
    "        i += 1\n",
    "\n",
    "    return (X, Y.reshape(-1, 1))\n"
   ]
  },
  {
   "cell_type": "code",
   "execution_count": 3,
   "metadata": {},
   "outputs": [
    {
     "name": "stdout",
     "output_type": "stream",
     "text": [
      "Before normalization: Temperature: min(151.32372212128612), max(284.99434167453603)\n",
      "Before normalization: Duration: min(11.512747082472469), max(15.454206928801511)\n",
      "After normalization: Temperature: min(-1.6996712684631348), max(1.793238878250122)\n",
      "After normalization: Duration: min(-1.6996712684631348), max(1.793238878250122)\n"
     ]
    }
   ],
   "source": [
    "X, y = load_coffee_data()\n",
    "print(\n",
    "    f\"Before normalization: Temperature: min({np.min(X[:, 0])}), max({np.max(X[:, 0])})\"\n",
    ")\n",
    "print(f\"Before normalization: Duration: min({np.min(X[:, 1])}), max({np.max(X[:, 1])})\")\n",
    "\n",
    "normal = Normalization(axis=1)\n",
    "normal.adapt(X)\n",
    "Xn = normal(X)\n",
    "\n",
    "print(\n",
    "    f\"After normalization: Temperature: min({np.min(Xn[:, 1])}), max({np.max(Xn[:, 1])})\"\n",
    ")\n",
    "print(\n",
    "    f\"After normalization: Duration: min({np.min(Xn[:, 1])}), max({np.max(Xn[:, 1])})\"\n",
    ")"
   ]
  },
  {
   "cell_type": "code",
   "execution_count": 4,
   "metadata": {},
   "outputs": [],
   "source": [
    "def sigmoid(z):\n",
    "  return 1 / (1 + np.exp(-z))"
   ]
  },
  {
   "cell_type": "code",
   "execution_count": 33,
   "metadata": {},
   "outputs": [],
   "source": [
    "def dense(x, W, b):  \n",
    "  return sigmoid(np.matmul(x, W) + b)"
   ]
  },
  {
   "cell_type": "code",
   "execution_count": 6,
   "metadata": {},
   "outputs": [],
   "source": [
    "def sequential(x, W1, b1, W2, b2):\n",
    "  a1 = dense(x, W1, b1)\n",
    "  a2 = dense(a1, W2, b2)\n",
    "  \n",
    "  return a2"
   ]
  },
  {
   "cell_type": "code",
   "execution_count": 7,
   "metadata": {},
   "outputs": [],
   "source": [
    "def predict(X, W1, b1, W2, b2):\n",
    "  m: int = X.shape[0]\n",
    "  p = np.empty((m, 1))\n",
    "\n",
    "  for i in range(m):\n",
    "    res = sequential(X[i], W1, b1, W2, b2)\n",
    "    p[i, 0] = res\n",
    "\n",
    "  return p"
   ]
  },
  {
   "cell_type": "code",
   "execution_count": 8,
   "metadata": {},
   "outputs": [],
   "source": [
    "W1_tmp = np.array([[-8.93, 0.29, 12.9], [-0.1, -7.32, 10.81]])\n",
    "b1_tmp = np.array([-9.82, -9.28, 0.96])\n",
    "W2_tmp = np.array([[-31.18], [-27.59], [-32.56]])\n",
    "b2_tmp = np.array([15.41])"
   ]
  },
  {
   "cell_type": "code",
   "execution_count": null,
   "metadata": {},
   "outputs": [
    {
     "name": "stdout",
     "output_type": "stream",
     "text": [
      "[[9.71931351e-01]\n",
      " [3.28978710e-08]]\n",
      "[[1]\n",
      " [0]]\n"
     ]
    },
    {
     "name": "stderr",
     "output_type": "stream",
     "text": [
      "C:\\Users\\Gaurav\\AppData\\Local\\Temp\\ipykernel_3440\\3632828689.py:7: DeprecationWarning: Conversion of an array with ndim > 0 to a scalar is deprecated, and will error in future. Ensure you extract a single element from your array before performing this operation. (Deprecated NumPy 1.25.)\n",
      "  p[i, 0] = res\n"
     ]
    },
    {
     "ename": "",
     "evalue": "",
     "output_type": "error",
     "traceback": [
      "\u001b[1;31mThe Kernel crashed while executing code in the current cell or a previous cell. \n",
      "\u001b[1;31mPlease review the code in the cell(s) to identify a possible cause of the failure. \n",
      "\u001b[1;31mClick <a href='https://aka.ms/vscodeJupyterKernelCrash'>here</a> for more info. \n",
      "\u001b[1;31mView Jupyter <a href='command:jupyter.viewOutput'>log</a> for further details."
     ]
    }
   ],
   "source": [
    "X_tst = np.array([[200, 13.9], [200, 17]])  # positive example  # negative example\n",
    "X_test_normal = normal(X_tst).numpy()  # remember to normalize\n",
    "\n",
    "predictions = predict(X_test_normal, W1_tmp, b1_tmp, W2_tmp, b2_tmp)\n",
    "res = (predictions >= 0.5).astype(int)\n",
    "\n",
    "print(predictions)\n",
    "print(res)"
   ]
  }
 ],
 "metadata": {
  "kernelspec": {
   "display_name": "Python 3",
   "language": "python",
   "name": "python3"
  },
  "language_info": {
   "codemirror_mode": {
    "name": "ipython",
    "version": 3
   },
   "file_extension": ".py",
   "mimetype": "text/x-python",
   "name": "python",
   "nbconvert_exporter": "python",
   "pygments_lexer": "ipython3",
   "version": "3.12.2"
  }
 },
 "nbformat": 4,
 "nbformat_minor": 2
}
