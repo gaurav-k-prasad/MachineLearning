{
 "cells": [
  {
   "cell_type": "code",
   "execution_count": 10,
   "metadata": {},
   "outputs": [],
   "source": [
    "import numpy as np\n",
    "import matplotlib.pyplot as plt\n",
    "import tensorflow as tf\n",
    "from tensorflow.keras.layers import Normalization"
   ]
  },
  {
   "cell_type": "code",
   "execution_count": 3,
   "metadata": {},
   "outputs": [],
   "source": [
    "def load_coffee_data(seed = 2):\n",
    "    \"\"\"Creates a coffee roasting data set.\n",
    "    roasting duration: 12-15 minutes is best\n",
    "    temperature range: 175-260C is best\n",
    "    \"\"\"\n",
    "    rng = np.random.default_rng(seed)\n",
    "    X = rng.random(400).reshape(-1, 2)\n",
    "    X[:, 1] = X[:, 1] * 4 + 11.5  # 12-15 min is best\n",
    "    X[:, 0] = X[:, 0] * (285 - 150) + 150  # 350-500 F (175-260 C) is best\n",
    "    Y = np.zeros(len(X))\n",
    "\n",
    "    i = 0\n",
    "    for t, d in X:\n",
    "        y = -3 / (260 - 175) * t + 21\n",
    "        if t > 175 and t < 260 and d > 12 and d < 15 and d <= y:\n",
    "            Y[i] = 1\n",
    "        else:\n",
    "            Y[i] = 0\n",
    "        i += 1\n",
    "\n",
    "    return (X, Y.reshape(-1, 1))\n"
   ]
  },
  {
   "cell_type": "code",
   "execution_count": 4,
   "metadata": {},
   "outputs": [],
   "source": [
    "def sigmoid(x):\n",
    "  return 1 / (1 + np.exp(-x))"
   ]
  },
  {
   "cell_type": "code",
   "execution_count": 5,
   "metadata": {},
   "outputs": [],
   "source": [
    "def dense(a_in, W, b):\n",
    "  units = W.shape[1]\n",
    "  a_out = np.empty(units)\n",
    "  for i in range(units):\n",
    "    w = W[:, i]\n",
    "    f_wb = np.dot(a_in, w) + b[i]\n",
    "    z = sigmoid(f_wb)\n",
    "    \n",
    "    a_out[i] = z\n",
    "\n",
    "  return a_out"
   ]
  },
  {
   "cell_type": "code",
   "execution_count": 6,
   "metadata": {},
   "outputs": [],
   "source": [
    "def sequential(x, W1, b1, W2, b2):\n",
    "  a1 = dense(x, W1, b1)\n",
    "  a2 = dense(a1, W2, b2)\n",
    "\n",
    "  return a2"
   ]
  },
  {
   "cell_type": "code",
   "execution_count": 7,
   "metadata": {},
   "outputs": [],
   "source": [
    "W1_tmp = np.array([[-8.93, 0.29, 12.9], [-0.1, -7.32, 10.81]])\n",
    "b1_tmp = np.array([-9.82, -9.28, 0.96])\n",
    "W2_tmp = np.array([[-31.18], [-27.59], [-32.56]])\n",
    "b2_tmp = np.array([15.41])\n",
    "\n",
    "X, y = load_coffee_data()\n",
    "normal = Normalization(axis=-1)\n",
    "normal.adapt(X)\n",
    "Xn = normal(X)"
   ]
  },
  {
   "cell_type": "code",
   "execution_count": 8,
   "metadata": {},
   "outputs": [],
   "source": [
    "def my_predict(X, W1, b1, W2, b2):\n",
    "  m = X.shape[0]\n",
    "  p = np.zeros((m, 1))\n",
    "  \n",
    "  for i in range(m):\n",
    "    p[i, 0] = sequential(X[i], W1, b1, W2, b2)\n",
    "\n",
    "  return p"
   ]
  },
  {
   "cell_type": "code",
   "execution_count": 9,
   "metadata": {},
   "outputs": [
    {
     "name": "stdout",
     "output_type": "stream",
     "text": [
      "[[9.71931351e-01]\n",
      " [3.28978710e-08]]\n"
     ]
    },
    {
     "name": "stderr",
     "output_type": "stream",
     "text": [
      "C:\\Users\\Gaurav\\AppData\\Local\\Temp\\ipykernel_20404\\2845698076.py:6: DeprecationWarning: Conversion of an array with ndim > 0 to a scalar is deprecated, and will error in future. Ensure you extract a single element from your array before performing this operation. (Deprecated NumPy 1.25.)\n",
      "  p[i, 0] = sequential(X[i], W1, b1, W2, b2)\n"
     ]
    }
   ],
   "source": [
    "X_tst = np.array([[200, 13.9], [200, 17]])  # positive example  # negative example\n",
    "X_test_normal = normal(X_tst)  # remember to normalize\n",
    "\n",
    "predictions = my_predict(X_test_normal, W1_tmp, b1_tmp, W2_tmp, b2_tmp)\n",
    "res = (predictions >= 0.5).astype(int)\n",
    "\n",
    "print(predictions)"
   ]
  }
 ],
 "metadata": {
  "kernelspec": {
   "display_name": "Python 3",
   "language": "python",
   "name": "python3"
  },
  "language_info": {
   "codemirror_mode": {
    "name": "ipython",
    "version": 3
   },
   "file_extension": ".py",
   "mimetype": "text/x-python",
   "name": "python",
   "nbconvert_exporter": "python",
   "pygments_lexer": "ipython3",
   "version": "3.12.2"
  }
 },
 "nbformat": 4,
 "nbformat_minor": 2
}
