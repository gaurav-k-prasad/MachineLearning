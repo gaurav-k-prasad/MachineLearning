{
 "cells": [
  {
   "cell_type": "markdown",
   "metadata": {
    "vscode": {
     "languageId": "plaintext"
    }
   },
   "source": [
    "# Using decision trees"
   ]
  },
  {
   "cell_type": "code",
   "execution_count": 1,
   "metadata": {},
   "outputs": [],
   "source": [
    "import numpy as np\n",
    "import pandas as pd\n",
    "import matplotlib.pyplot as plt\n",
    "from sklearn.metrics import accuracy_score\n",
    "from sklearn.model_selection import train_test_split\n",
    "from sklearn.tree import DecisionTreeClassifier\n",
    "\n",
    "RANDOM_STATE = 55"
   ]
  },
  {
   "cell_type": "code",
   "execution_count": 2,
   "metadata": {},
   "outputs": [
    {
     "data": {
      "application/vnd.microsoft.datawrangler.viewer.v0+json": {
       "columns": [
        {
         "name": "index",
         "rawType": "int64",
         "type": "integer"
        },
        {
         "name": "Age",
         "rawType": "int64",
         "type": "integer"
        },
        {
         "name": "Sex",
         "rawType": "object",
         "type": "string"
        },
        {
         "name": "ChestPainType",
         "rawType": "object",
         "type": "string"
        },
        {
         "name": "RestingBP",
         "rawType": "int64",
         "type": "integer"
        },
        {
         "name": "Cholesterol",
         "rawType": "int64",
         "type": "integer"
        },
        {
         "name": "FastingBS",
         "rawType": "int64",
         "type": "integer"
        },
        {
         "name": "RestingECG",
         "rawType": "object",
         "type": "string"
        },
        {
         "name": "MaxHR",
         "rawType": "int64",
         "type": "integer"
        },
        {
         "name": "ExerciseAngina",
         "rawType": "object",
         "type": "string"
        },
        {
         "name": "Oldpeak",
         "rawType": "float64",
         "type": "float"
        },
        {
         "name": "ST_Slope",
         "rawType": "object",
         "type": "string"
        },
        {
         "name": "HeartDisease",
         "rawType": "int64",
         "type": "integer"
        }
       ],
       "conversionMethod": "pd.DataFrame",
       "ref": "da22d13d-ca3a-45a8-be28-71709cb46149",
       "rows": [
        [
         "0",
         "40",
         "M",
         "ATA",
         "140",
         "289",
         "0",
         "Normal",
         "172",
         "N",
         "0.0",
         "Up",
         "0"
        ],
        [
         "1",
         "49",
         "F",
         "NAP",
         "160",
         "180",
         "0",
         "Normal",
         "156",
         "N",
         "1.0",
         "Flat",
         "1"
        ],
        [
         "2",
         "37",
         "M",
         "ATA",
         "130",
         "283",
         "0",
         "ST",
         "98",
         "N",
         "0.0",
         "Up",
         "0"
        ],
        [
         "3",
         "48",
         "F",
         "ASY",
         "138",
         "214",
         "0",
         "Normal",
         "108",
         "Y",
         "1.5",
         "Flat",
         "1"
        ],
        [
         "4",
         "54",
         "M",
         "NAP",
         "150",
         "195",
         "0",
         "Normal",
         "122",
         "N",
         "0.0",
         "Up",
         "0"
        ]
       ],
       "shape": {
        "columns": 12,
        "rows": 5
       }
      },
      "text/html": [
       "<div>\n",
       "<style scoped>\n",
       "    .dataframe tbody tr th:only-of-type {\n",
       "        vertical-align: middle;\n",
       "    }\n",
       "\n",
       "    .dataframe tbody tr th {\n",
       "        vertical-align: top;\n",
       "    }\n",
       "\n",
       "    .dataframe thead th {\n",
       "        text-align: right;\n",
       "    }\n",
       "</style>\n",
       "<table border=\"1\" class=\"dataframe\">\n",
       "  <thead>\n",
       "    <tr style=\"text-align: right;\">\n",
       "      <th></th>\n",
       "      <th>Age</th>\n",
       "      <th>Sex</th>\n",
       "      <th>ChestPainType</th>\n",
       "      <th>RestingBP</th>\n",
       "      <th>Cholesterol</th>\n",
       "      <th>FastingBS</th>\n",
       "      <th>RestingECG</th>\n",
       "      <th>MaxHR</th>\n",
       "      <th>ExerciseAngina</th>\n",
       "      <th>Oldpeak</th>\n",
       "      <th>ST_Slope</th>\n",
       "      <th>HeartDisease</th>\n",
       "    </tr>\n",
       "  </thead>\n",
       "  <tbody>\n",
       "    <tr>\n",
       "      <th>0</th>\n",
       "      <td>40</td>\n",
       "      <td>M</td>\n",
       "      <td>ATA</td>\n",
       "      <td>140</td>\n",
       "      <td>289</td>\n",
       "      <td>0</td>\n",
       "      <td>Normal</td>\n",
       "      <td>172</td>\n",
       "      <td>N</td>\n",
       "      <td>0.0</td>\n",
       "      <td>Up</td>\n",
       "      <td>0</td>\n",
       "    </tr>\n",
       "    <tr>\n",
       "      <th>1</th>\n",
       "      <td>49</td>\n",
       "      <td>F</td>\n",
       "      <td>NAP</td>\n",
       "      <td>160</td>\n",
       "      <td>180</td>\n",
       "      <td>0</td>\n",
       "      <td>Normal</td>\n",
       "      <td>156</td>\n",
       "      <td>N</td>\n",
       "      <td>1.0</td>\n",
       "      <td>Flat</td>\n",
       "      <td>1</td>\n",
       "    </tr>\n",
       "    <tr>\n",
       "      <th>2</th>\n",
       "      <td>37</td>\n",
       "      <td>M</td>\n",
       "      <td>ATA</td>\n",
       "      <td>130</td>\n",
       "      <td>283</td>\n",
       "      <td>0</td>\n",
       "      <td>ST</td>\n",
       "      <td>98</td>\n",
       "      <td>N</td>\n",
       "      <td>0.0</td>\n",
       "      <td>Up</td>\n",
       "      <td>0</td>\n",
       "    </tr>\n",
       "    <tr>\n",
       "      <th>3</th>\n",
       "      <td>48</td>\n",
       "      <td>F</td>\n",
       "      <td>ASY</td>\n",
       "      <td>138</td>\n",
       "      <td>214</td>\n",
       "      <td>0</td>\n",
       "      <td>Normal</td>\n",
       "      <td>108</td>\n",
       "      <td>Y</td>\n",
       "      <td>1.5</td>\n",
       "      <td>Flat</td>\n",
       "      <td>1</td>\n",
       "    </tr>\n",
       "    <tr>\n",
       "      <th>4</th>\n",
       "      <td>54</td>\n",
       "      <td>M</td>\n",
       "      <td>NAP</td>\n",
       "      <td>150</td>\n",
       "      <td>195</td>\n",
       "      <td>0</td>\n",
       "      <td>Normal</td>\n",
       "      <td>122</td>\n",
       "      <td>N</td>\n",
       "      <td>0.0</td>\n",
       "      <td>Up</td>\n",
       "      <td>0</td>\n",
       "    </tr>\n",
       "  </tbody>\n",
       "</table>\n",
       "</div>"
      ],
      "text/plain": [
       "   Age Sex ChestPainType  RestingBP  Cholesterol  FastingBS RestingECG  MaxHR  \\\n",
       "0   40   M           ATA        140          289          0     Normal    172   \n",
       "1   49   F           NAP        160          180          0     Normal    156   \n",
       "2   37   M           ATA        130          283          0         ST     98   \n",
       "3   48   F           ASY        138          214          0     Normal    108   \n",
       "4   54   M           NAP        150          195          0     Normal    122   \n",
       "\n",
       "  ExerciseAngina  Oldpeak ST_Slope  HeartDisease  \n",
       "0              N      0.0       Up             0  \n",
       "1              N      1.0     Flat             1  \n",
       "2              N      0.0       Up             0  \n",
       "3              Y      1.5     Flat             1  \n",
       "4              N      0.0       Up             0  "
      ]
     },
     "execution_count": 2,
     "metadata": {},
     "output_type": "execute_result"
    }
   ],
   "source": [
    "df: pd.DataFrame = pd.read_csv(\"./data/heart.csv\")\n",
    "df.head()"
   ]
  },
  {
   "cell_type": "code",
   "execution_count": 3,
   "metadata": {},
   "outputs": [
    {
     "data": {
      "text/plain": [
       "0"
      ]
     },
     "execution_count": 3,
     "metadata": {},
     "output_type": "execute_result"
    }
   ],
   "source": [
    "df.isnull().sum().sum()"
   ]
  },
  {
   "cell_type": "code",
   "execution_count": 4,
   "metadata": {},
   "outputs": [],
   "source": [
    "# One hot encoding\n",
    "# cols for one hot encoding\n",
    "cols = [\"Sex\", \"ChestPainType\", \"RestingECG\", \"ST_Slope\", \"ExerciseAngina\"] # Convert everything to 0 or 1 or True or False\n",
    "df= pd.get_dummies(df, columns=cols)"
   ]
  },
  {
   "cell_type": "code",
   "execution_count": 5,
   "metadata": {},
   "outputs": [
    {
     "data": {
      "text/plain": [
       "(918, 21)"
      ]
     },
     "execution_count": 5,
     "metadata": {},
     "output_type": "execute_result"
    }
   ],
   "source": [
    "df.shape"
   ]
  },
  {
   "cell_type": "code",
   "execution_count": 6,
   "metadata": {},
   "outputs": [
    {
     "data": {
      "text/plain": [
       "['Age',\n",
       " 'RestingBP',\n",
       " 'Cholesterol',\n",
       " 'FastingBS',\n",
       " 'MaxHR',\n",
       " 'Oldpeak',\n",
       " 'Sex_F',\n",
       " 'Sex_M',\n",
       " 'ChestPainType_ASY',\n",
       " 'ChestPainType_ATA',\n",
       " 'ChestPainType_NAP',\n",
       " 'ChestPainType_TA',\n",
       " 'RestingECG_LVH',\n",
       " 'RestingECG_Normal',\n",
       " 'RestingECG_ST',\n",
       " 'ST_Slope_Down',\n",
       " 'ST_Slope_Flat',\n",
       " 'ST_Slope_Up',\n",
       " 'ExerciseAngina_N',\n",
       " 'ExerciseAngina_Y']"
      ]
     },
     "execution_count": 6,
     "metadata": {},
     "output_type": "execute_result"
    }
   ],
   "source": [
    "features = [x for x in df.columns if x != \"HeartDisease\"]\n",
    "features"
   ]
  },
  {
   "cell_type": "code",
   "execution_count": 7,
   "metadata": {},
   "outputs": [],
   "source": [
    "X_train, X_cv, y_train, y_cv = train_test_split(df[features], df[\"HeartDisease\"], train_size=0.8, random_state=RANDOM_STATE)"
   ]
  },
  {
   "cell_type": "code",
   "execution_count": 8,
   "metadata": {},
   "outputs": [],
   "source": [
    "min_samples_split_list: list[int] = [\n",
    "    2,\n",
    "    10,\n",
    "    30,\n",
    "    50,\n",
    "    100,\n",
    "    200,\n",
    "    300,\n",
    "    700,\n",
    "]  # minimum number of examples in each node for it to split\n",
    "max_depth_list: list[int | None] = [\n",
    "    1,\n",
    "    2,\n",
    "    3,\n",
    "    4,\n",
    "    8,\n",
    "    16,\n",
    "    32,\n",
    "    64,\n",
    "    None,\n",
    "]  # None means that there is no depth limit."
   ]
  },
  {
   "cell_type": "code",
   "execution_count": 49,
   "metadata": {},
   "outputs": [
    {
     "data": {
      "image/png": "[encoded data removed]",
      "text/plain": [
       "<Figure size 640x480 with 1 Axes>"
      ]
     },
     "metadata": {},
     "output_type": "display_data"
    }
   ],
   "source": [
    "n: int = len(min_samples_split_list)\n",
    "\n",
    "train_accuracy: list[float] = []\n",
    "cv_accuracy: list[float] = []\n",
    "\n",
    "for i in range(n):\n",
    "    tree = DecisionTreeClassifier(min_samples_split=min_samples_split_list[i])\n",
    "    model = tree.fit(X_train, y_train)\n",
    "    train = model.predict(X_train)\n",
    "    cv = model.predict(X_cv)\n",
    "    train_accuracy.append(float(accuracy_score(y_train, train)))\n",
    "    cv_accuracy.append(float(accuracy_score(y_cv, cv)))\n",
    "\n",
    "    \n",
    "plt.title('Train x Validation metrics')\n",
    "plt.xlabel('min_samples_split')\n",
    "plt.ylabel('accuracy')\n",
    "plt.xticks(ticks = range(len(min_samples_split_list )),labels=min_samples_split_list)\n",
    "plt.plot(train_accuracy)\n",
    "plt.plot(cv_accuracy)\n",
    "plt.legend(['Train','Validation'])\n",
    "plt.show()\n",
    "# Reduction in over fitting"
   ]
  },
  {
   "cell_type": "code",
   "execution_count": 10,
   "metadata": {},
   "outputs": [
    {
     "data": {
      "image/png": "[encoded data removed]",
      "text/plain": [
       "<Figure size 640x480 with 1 Axes>"
      ]
     },
     "metadata": {},
     "output_type": "display_data"
    }
   ],
   "source": [
    "train_accuracy: list[float] = []\n",
    "cv_accuracy: list[float] = []\n",
    "\n",
    "for i in range(n):\n",
    "    tree = DecisionTreeClassifier(max_depth=max_depth_list[i])\n",
    "    model = tree.fit(X_train, y_train)\n",
    "    train = model.predict(X_train)\n",
    "    cv = model.predict(X_cv)\n",
    "    train_accuracy.append(float(accuracy_score(y_train, train)))\n",
    "    cv_accuracy.append(float(accuracy_score(y_cv, cv)))\n",
    "\n",
    "    \n",
    "plt.title('Train x Validation metrics')\n",
    "plt.xlabel('max depth')\n",
    "plt.ylabel('accuracy')\n",
    "plt.xticks(ticks = range(len(max_depth_list)),labels=max_depth_list)\n",
    "plt.plot(train_accuracy)\n",
    "plt.plot(cv_accuracy)\n",
    "plt.legend(['Train','Validation'])\n",
    "plt.show()\n",
    "# Increment in over fitting as depth increases"
   ]
  },
  {
   "cell_type": "code",
   "execution_count": 11,
   "metadata": {},
   "outputs": [
    {
     "data": {
      "text/plain": [
       "0.8695652173913043"
      ]
     },
     "execution_count": 11,
     "metadata": {},
     "output_type": "execute_result"
    }
   ],
   "source": [
    "tree = DecisionTreeClassifier(max_depth=4, min_samples_split=50)\n",
    "tree.fit(X_train, y_train)\n",
    "pred = tree.predict(X_cv)\n",
    "accuracy_score(y_cv, pred)"
   ]
  },
  {
   "cell_type": "markdown",
   "metadata": {},
   "source": [
    "## Random Forest"
   ]
  },
  {
   "cell_type": "code",
   "execution_count": 12,
   "metadata": {},
   "outputs": [],
   "source": [
    "from sklearn.ensemble import RandomForestClassifier"
   ]
  },
  {
   "cell_type": "code",
   "execution_count": 13,
   "metadata": {},
   "outputs": [],
   "source": [
    "min_samples_split_list = [2,10, 30, 50, 100, 200, 300, 700]\n",
    "max_depth_list = [2, 4, 8, 16, 32, 64, None]\n",
    "n_estimators_list = [10,50,100,500]"
   ]
  },
  {
   "cell_type": "code",
   "execution_count": 14,
   "metadata": {},
   "outputs": [
    {
     "data": {
      "image/png": "[encoded data removed]",
      "text/plain": [
       "<Figure size 640x480 with 1 Axes>"
      ]
     },
     "metadata": {},
     "output_type": "display_data"
    }
   ],
   "source": [
    "train_accuracy = []\n",
    "cv_accuracy = []\n",
    "\n",
    "for min_sample_split in min_samples_split_list:\n",
    "    model = RandomForestClassifier(\n",
    "        min_samples_split=min_sample_split, random_state=RANDOM_STATE\n",
    "    ).fit(X_train, y_train)\n",
    "    train = model.predict(X_train)\n",
    "    cv = model.predict(X_cv)\n",
    "    train_accuracy.append(accuracy_score(y_train, train))\n",
    "    cv_accuracy.append(accuracy_score(y_cv, cv))\n",
    "\n",
    "\n",
    "plt.title('Train x Validation metrics')\n",
    "plt.xlabel('min_samples_split')\n",
    "plt.ylabel('accuracy')\n",
    "plt.xticks(ticks = range(len(min_samples_split_list )),labels=min_samples_split_list) \n",
    "plt.plot(train_accuracy)\n",
    "plt.plot(cv_accuracy)\n",
    "plt.legend(['Train','Validation'])\n",
    "plt.show()"
   ]
  },
  {
   "cell_type": "code",
   "execution_count": 15,
   "metadata": {},
   "outputs": [
    {
     "data": {
      "image/png": "[encoded data removed]",
      "text/plain": [
       "<Figure size 640x480 with 1 Axes>"
      ]
     },
     "metadata": {},
     "output_type": "display_data"
    }
   ],
   "source": [
    "train_accuracy = []\n",
    "cv_accuracy = []\n",
    "\n",
    "for max_depth in max_depth_list:\n",
    "    model = RandomForestClassifier(\n",
    "        max_depth=max_depth, random_state=RANDOM_STATE\n",
    "    ).fit(X_train, y_train)\n",
    "    train = model.predict(X_train)\n",
    "    cv = model.predict(X_cv)\n",
    "    train_accuracy.append(accuracy_score(y_train, train))\n",
    "    cv_accuracy.append(accuracy_score(y_cv, cv))\n",
    "\n",
    "\n",
    "plt.title('Train x Validation metrics')\n",
    "plt.xlabel('max_depth')\n",
    "plt.ylabel('accuracy')\n",
    "plt.xticks(ticks = range(len(max_depth_list)),labels=max_depth_list) \n",
    "plt.plot(train_accuracy)\n",
    "plt.plot(cv_accuracy)\n",
    "plt.legend(['Train','Validation'])\n",
    "plt.show()"
   ]
  },
  {
   "cell_type": "code",
   "execution_count": 16,
   "metadata": {},
   "outputs": [
    {
     "data": {
      "image/png": "[encoded data removed]",
      "text/plain": [
       "<Figure size 640x480 with 1 Axes>"
      ]
     },
     "metadata": {},
     "output_type": "display_data"
    }
   ],
   "source": [
    "train_accuracy = []\n",
    "cv_accuracy = []\n",
    "\n",
    "for n_estimators in n_estimators_list:\n",
    "    model = RandomForestClassifier(\n",
    "        n_estimators=n_estimators, random_state=RANDOM_STATE\n",
    "    ).fit(X_train, y_train)\n",
    "    train = model.predict(X_train)\n",
    "    cv = model.predict(X_cv)\n",
    "    train_accuracy.append(accuracy_score(y_train, train))\n",
    "    cv_accuracy.append(accuracy_score(y_cv, cv))\n",
    "\n",
    "\n",
    "plt.title('Train x Validation metrics')\n",
    "plt.xlabel('Number of estimators')\n",
    "plt.ylabel('accuracy')\n",
    "plt.xticks(ticks = range(len(n_estimators_list)),labels=n_estimators_list) \n",
    "plt.plot(train_accuracy)\n",
    "plt.plot(cv_accuracy)\n",
    "plt.legend(['Train','Validation'])\n",
    "plt.show()"
   ]
  },
  {
   "cell_type": "code",
   "execution_count": 17,
   "metadata": {},
   "outputs": [],
   "source": [
    "random_forest_model = RandomForestClassifier(n_estimators = 100,\n",
    "                                             max_depth = 16, \n",
    "                                             min_samples_split = 10).fit(X_train,y_train)"
   ]
  },
  {
   "cell_type": "code",
   "execution_count": 18,
   "metadata": {},
   "outputs": [
    {
     "name": "stdout",
     "output_type": "stream",
     "text": [
      "Metrics train:\n",
      "\tAccuracy score: 0.9292\n",
      "Metrics test:\n",
      "\tAccuracy score: 0.8804\n"
     ]
    }
   ],
   "source": [
    "print(\n",
    "    f\"Metrics train:\\n\\tAccuracy score: {accuracy_score(random_forest_model.predict(X_train),y_train):.4f}\\nMetrics test:\\n\\tAccuracy score: {accuracy_score(random_forest_model.predict(X_cv),y_cv):.4f}\"\n",
    ")"
   ]
  },
  {
   "cell_type": "markdown",
   "metadata": {},
   "source": [
    "## XGBoost "
   ]
  },
  {
   "cell_type": "markdown",
   "metadata": {},
   "source": [
    "### Gradient Boosting Library\n",
    "\n",
    "- has learning rate -> how much to update weight of wrong answers (to emphasize how much?)\n",
    "- Also takes in evaluation dataset -> CV set and based on that performs readjustment => [(X_eval, y_eval)] list of eval sets with tuples of X_eval and y_eval\n",
    "- If validation metric does not improve a lot -> stops iterations = avoiding over-fitting"
   ]
  },
  {
   "cell_type": "code",
   "execution_count": 19,
   "metadata": {},
   "outputs": [],
   "source": [
    "n = int(len(X_train)*0.8) ## Let's use 80% to train and 20% to eval"
   ]
  },
  {
   "cell_type": "code",
   "execution_count": 21,
   "metadata": {},
   "outputs": [
    {
     "data": {
      "text/plain": [
       "1"
      ]
     },
     "execution_count": 21,
     "metadata": {},
     "output_type": "execute_result"
    }
   ],
   "source": [
    "X_train_fit, X_train_eval, y_train_fit, y_train_eval = X_train[:n], X_train[n:], y_train[:n], y_train[n:]\n",
    "len([(X_train_eval, y_train_eval)])"
   ]
  },
  {
   "cell_type": "code",
   "execution_count": null,
   "metadata": {},
   "outputs": [],
   "source": [
    "# Early stopping rounds = 10 (eg.)\n",
    "\"\"\"\n",
    "If the best iteration was iteration 16 then model will try to run for 10 more iterations and if none is better than 16th it will stop at iteration 26\n",
    "\"\"\""
   ]
  },
  {
   "cell_type": "code",
   "execution_count": 48,
   "metadata": {},
   "outputs": [
    {
     "name": "stdout",
     "output_type": "stream",
     "text": [
      "[0]\tvalidation_0-logloss:0.62067\n",
      "[1]\tvalidation_0-logloss:0.57283\n",
      "[2]\tvalidation_0-logloss:0.53489\n",
      "[3]\tvalidation_0-logloss:0.50079\n",
      "[4]\tvalidation_0-logloss:0.47058\n",
      "[5]\tvalidation_0-logloss:0.44497\n",
      "[6]\tvalidation_0-logloss:0.42131\n",
      "[7]\tvalidation_0-logloss:0.39863\n",
      "[8]\tvalidation_0-logloss:0.38083\n",
      "[9]\tvalidation_0-logloss:0.36343\n",
      "[10]\tvalidation_0-logloss:0.34824\n",
      "[11]\tvalidation_0-logloss:0.33303\n",
      "[12]\tvalidation_0-logloss:0.32032\n",
      "[13]\tvalidation_0-logloss:0.30888\n",
      "[14]\tvalidation_0-logloss:0.29739\n",
      "[15]\tvalidation_0-logloss:0.28721\n",
      "[16]\tvalidation_0-logloss:0.27793\n",
      "[17]\tvalidation_0-logloss:0.27097\n",
      "[18]\tvalidation_0-logloss:0.26219\n",
      "[19]\tvalidation_0-logloss:0.25442\n",
      "[20]\tvalidation_0-logloss:0.24462\n",
      "[21]\tvalidation_0-logloss:0.23717\n",
      "[22]\tvalidation_0-logloss:0.22979\n",
      "[23]\tvalidation_0-logloss:0.22254\n",
      "[24]\tvalidation_0-logloss:0.21989\n",
      "[25]\tvalidation_0-logloss:0.21414\n",
      "[26]\tvalidation_0-logloss:0.20983\n",
      "[27]\tvalidation_0-logloss:0.20590\n",
      "[28]\tvalidation_0-logloss:0.20054\n",
      "[29]\tvalidation_0-logloss:0.19642\n",
      "[30]\tvalidation_0-logloss:0.19115\n",
      "[31]\tvalidation_0-logloss:0.18801\n",
      "[32]\tvalidation_0-logloss:0.18609\n",
      "[33]\tvalidation_0-logloss:0.18188\n",
      "[34]\tvalidation_0-logloss:0.17845\n",
      "[35]\tvalidation_0-logloss:0.17488\n",
      "[36]\tvalidation_0-logloss:0.17185\n",
      "[37]\tvalidation_0-logloss:0.16909\n",
      "[38]\tvalidation_0-logloss:0.16469\n",
      "[39]\tvalidation_0-logloss:0.16123\n",
      "[40]\tvalidation_0-logloss:0.15823\n",
      "[41]\tvalidation_0-logloss:0.15561\n",
      "[42]\tvalidation_0-logloss:0.15162\n",
      "[43]\tvalidation_0-logloss:0.14859\n",
      "[44]\tvalidation_0-logloss:0.14577\n",
      "[45]\tvalidation_0-logloss:0.14304\n",
      "[46]\tvalidation_0-logloss:0.13976\n",
      "[47]\tvalidation_0-logloss:0.13649\n",
      "[48]\tvalidation_0-logloss:0.13343\n",
      "[49]\tvalidation_0-logloss:0.13119\n",
      "[50]\tvalidation_0-logloss:0.12895\n",
      "[51]\tvalidation_0-logloss:0.12655\n",
      "[52]\tvalidation_0-logloss:0.12451\n",
      "[53]\tvalidation_0-logloss:0.12286\n",
      "[54]\tvalidation_0-logloss:0.12069\n",
      "[55]\tvalidation_0-logloss:0.11906\n",
      "[56]\tvalidation_0-logloss:0.11746\n",
      "[57]\tvalidation_0-logloss:0.11593\n",
      "[58]\tvalidation_0-logloss:0.11445\n",
      "[59]\tvalidation_0-logloss:0.11323\n",
      "[60]\tvalidation_0-logloss:0.11159\n",
      "[61]\tvalidation_0-logloss:0.11041\n",
      "[62]\tvalidation_0-logloss:0.10826\n",
      "[63]\tvalidation_0-logloss:0.10738\n",
      "[64]\tvalidation_0-logloss:0.10594\n",
      "[65]\tvalidation_0-logloss:0.10441\n",
      "[66]\tvalidation_0-logloss:0.10374\n",
      "[67]\tvalidation_0-logloss:0.10207\n",
      "[68]\tvalidation_0-logloss:0.10044\n",
      "[69]\tvalidation_0-logloss:0.09913\n",
      "[70]\tvalidation_0-logloss:0.09861\n",
      "[71]\tvalidation_0-logloss:0.09705\n",
      "[72]\tvalidation_0-logloss:0.09564\n",
      "[73]\tvalidation_0-logloss:0.09435\n",
      "[74]\tvalidation_0-logloss:0.09355\n",
      "[75]\tvalidation_0-logloss:0.09250\n",
      "[76]\tvalidation_0-logloss:0.09192\n",
      "[77]\tvalidation_0-logloss:0.09066\n",
      "[78]\tvalidation_0-logloss:0.08981\n",
      "[79]\tvalidation_0-logloss:0.08812\n",
      "[80]\tvalidation_0-logloss:0.08629\n",
      "[81]\tvalidation_0-logloss:0.08518\n",
      "[82]\tvalidation_0-logloss:0.08440\n",
      "[83]\tvalidation_0-logloss:0.08352\n",
      "[84]\tvalidation_0-logloss:0.08289\n",
      "[85]\tvalidation_0-logloss:0.08186\n",
      "[86]\tvalidation_0-logloss:0.08063\n",
      "[87]\tvalidation_0-logloss:0.07945\n",
      "[88]\tvalidation_0-logloss:0.07903\n",
      "[89]\tvalidation_0-logloss:0.07801\n",
      "[90]\tvalidation_0-logloss:0.07714\n",
      "[91]\tvalidation_0-logloss:0.07624\n",
      "[92]\tvalidation_0-logloss:0.07499\n",
      "[93]\tvalidation_0-logloss:0.07388\n",
      "[94]\tvalidation_0-logloss:0.07282\n",
      "[95]\tvalidation_0-logloss:0.07198\n",
      "[96]\tvalidation_0-logloss:0.07091\n",
      "[97]\tvalidation_0-logloss:0.07028\n",
      "[98]\tvalidation_0-logloss:0.06999\n",
      "[99]\tvalidation_0-logloss:0.06930\n",
      "[100]\tvalidation_0-logloss:0.06850\n",
      "[101]\tvalidation_0-logloss:0.06748\n",
      "[102]\tvalidation_0-logloss:0.06661\n",
      "[103]\tvalidation_0-logloss:0.06553\n",
      "[104]\tvalidation_0-logloss:0.06508\n",
      "[105]\tvalidation_0-logloss:0.06426\n",
      "[106]\tvalidation_0-logloss:0.06363\n",
      "[107]\tvalidation_0-logloss:0.06279\n",
      "[108]\tvalidation_0-logloss:0.06213\n",
      "[109]\tvalidation_0-logloss:0.06124\n",
      "[110]\tvalidation_0-logloss:0.06072\n",
      "[111]\tvalidation_0-logloss:0.06037\n",
      "[112]\tvalidation_0-logloss:0.05952\n",
      "[113]\tvalidation_0-logloss:0.05890\n",
      "[114]\tvalidation_0-logloss:0.05826\n",
      "[115]\tvalidation_0-logloss:0.05831\n",
      "[116]\tvalidation_0-logloss:0.05773\n",
      "[117]\tvalidation_0-logloss:0.05667\n",
      "[118]\tvalidation_0-logloss:0.05620\n",
      "[119]\tvalidation_0-logloss:0.05596\n",
      "[120]\tvalidation_0-logloss:0.05566\n",
      "[121]\tvalidation_0-logloss:0.05520\n",
      "[122]\tvalidation_0-logloss:0.05472\n",
      "[123]\tvalidation_0-logloss:0.05414\n",
      "[124]\tvalidation_0-logloss:0.05369\n",
      "[125]\tvalidation_0-logloss:0.05314\n",
      "[126]\tvalidation_0-logloss:0.05262\n",
      "[127]\tvalidation_0-logloss:0.05238\n",
      "[128]\tvalidation_0-logloss:0.05192\n",
      "[129]\tvalidation_0-logloss:0.05138\n",
      "[130]\tvalidation_0-logloss:0.05104\n",
      "[131]\tvalidation_0-logloss:0.05078\n",
      "[132]\tvalidation_0-logloss:0.05034\n",
      "[133]\tvalidation_0-logloss:0.04974\n",
      "[134]\tvalidation_0-logloss:0.04936\n",
      "[135]\tvalidation_0-logloss:0.04880\n",
      "[136]\tvalidation_0-logloss:0.04874\n",
      "[137]\tvalidation_0-logloss:0.04848\n",
      "[138]\tvalidation_0-logloss:0.04817\n",
      "[139]\tvalidation_0-logloss:0.04769\n",
      "[140]\tvalidation_0-logloss:0.04733\n",
      "[141]\tvalidation_0-logloss:0.04694\n",
      "[142]\tvalidation_0-logloss:0.04656\n",
      "[143]\tvalidation_0-logloss:0.04625\n",
      "[144]\tvalidation_0-logloss:0.04582\n",
      "[145]\tvalidation_0-logloss:0.04528\n",
      "[146]\tvalidation_0-logloss:0.04510\n",
      "[147]\tvalidation_0-logloss:0.04475\n",
      "[148]\tvalidation_0-logloss:0.04440\n",
      "[149]\tvalidation_0-logloss:0.04399\n",
      "[150]\tvalidation_0-logloss:0.04379\n",
      "[151]\tvalidation_0-logloss:0.04367\n",
      "[152]\tvalidation_0-logloss:0.04349\n",
      "[153]\tvalidation_0-logloss:0.04321\n",
      "[154]\tvalidation_0-logloss:0.04265\n",
      "[155]\tvalidation_0-logloss:0.04233\n",
      "[156]\tvalidation_0-logloss:0.04211\n",
      "[157]\tvalidation_0-logloss:0.04196\n",
      "[158]\tvalidation_0-logloss:0.04160\n",
      "[159]\tvalidation_0-logloss:0.04140\n",
      "[160]\tvalidation_0-logloss:0.04082\n",
      "[161]\tvalidation_0-logloss:0.04060\n",
      "[162]\tvalidation_0-logloss:0.04042\n",
      "[163]\tvalidation_0-logloss:0.04016\n",
      "[164]\tvalidation_0-logloss:0.03980\n",
      "[165]\tvalidation_0-logloss:0.03962\n",
      "[166]\tvalidation_0-logloss:0.03954\n",
      "[167]\tvalidation_0-logloss:0.03931\n",
      "[168]\tvalidation_0-logloss:0.03918\n",
      "[169]\tvalidation_0-logloss:0.03894\n",
      "[170]\tvalidation_0-logloss:0.03870\n",
      "[171]\tvalidation_0-logloss:0.03858\n",
      "[172]\tvalidation_0-logloss:0.03834\n",
      "[173]\tvalidation_0-logloss:0.03802\n",
      "[174]\tvalidation_0-logloss:0.03793\n",
      "[175]\tvalidation_0-logloss:0.03771\n",
      "[176]\tvalidation_0-logloss:0.03740\n",
      "[177]\tvalidation_0-logloss:0.03720\n",
      "[178]\tvalidation_0-logloss:0.03683\n",
      "[179]\tvalidation_0-logloss:0.03668\n",
      "[180]\tvalidation_0-logloss:0.03657\n",
      "[181]\tvalidation_0-logloss:0.03646\n",
      "[182]\tvalidation_0-logloss:0.03623\n",
      "[183]\tvalidation_0-logloss:0.03602\n",
      "[184]\tvalidation_0-logloss:0.03593\n",
      "[185]\tvalidation_0-logloss:0.03575\n",
      "[186]\tvalidation_0-logloss:0.03557\n",
      "[187]\tvalidation_0-logloss:0.03531\n",
      "[188]\tvalidation_0-logloss:0.03515\n",
      "[189]\tvalidation_0-logloss:0.03504\n",
      "[190]\tvalidation_0-logloss:0.03497\n",
      "[191]\tvalidation_0-logloss:0.03472\n",
      "[192]\tvalidation_0-logloss:0.03448\n",
      "[193]\tvalidation_0-logloss:0.03429\n",
      "[194]\tvalidation_0-logloss:0.03414\n",
      "[195]\tvalidation_0-logloss:0.03376\n",
      "[196]\tvalidation_0-logloss:0.03356\n",
      "[197]\tvalidation_0-logloss:0.03321\n",
      "[198]\tvalidation_0-logloss:0.03293\n",
      "[199]\tvalidation_0-logloss:0.03281\n",
      "[200]\tvalidation_0-logloss:0.03250\n",
      "[201]\tvalidation_0-logloss:0.03232\n",
      "[202]\tvalidation_0-logloss:0.03213\n",
      "[203]\tvalidation_0-logloss:0.03193\n",
      "[204]\tvalidation_0-logloss:0.03180\n",
      "[205]\tvalidation_0-logloss:0.03162\n",
      "[206]\tvalidation_0-logloss:0.03132\n",
      "[207]\tvalidation_0-logloss:0.03107\n",
      "[208]\tvalidation_0-logloss:0.03089\n",
      "[209]\tvalidation_0-logloss:0.03070\n",
      "[210]\tvalidation_0-logloss:0.03057\n",
      "[211]\tvalidation_0-logloss:0.03045\n",
      "[212]\tvalidation_0-logloss:0.03040\n",
      "[213]\tvalidation_0-logloss:0.03022\n",
      "[214]\tvalidation_0-logloss:0.03010\n",
      "[215]\tvalidation_0-logloss:0.03004\n",
      "[216]\tvalidation_0-logloss:0.02996\n",
      "[217]\tvalidation_0-logloss:0.02984\n",
      "[218]\tvalidation_0-logloss:0.02974\n",
      "[219]\tvalidation_0-logloss:0.02961\n",
      "[220]\tvalidation_0-logloss:0.02947\n",
      "[221]\tvalidation_0-logloss:0.02934\n",
      "[222]\tvalidation_0-logloss:0.02912\n",
      "[223]\tvalidation_0-logloss:0.02902\n",
      "[224]\tvalidation_0-logloss:0.02887\n",
      "[225]\tvalidation_0-logloss:0.02861\n",
      "[226]\tvalidation_0-logloss:0.02849\n",
      "[227]\tvalidation_0-logloss:0.02847\n",
      "[228]\tvalidation_0-logloss:0.02834\n",
      "[229]\tvalidation_0-logloss:0.02825\n",
      "[230]\tvalidation_0-logloss:0.02796\n",
      "[231]\tvalidation_0-logloss:0.02780\n",
      "[232]\tvalidation_0-logloss:0.02779\n",
      "[233]\tvalidation_0-logloss:0.02771\n",
      "[234]\tvalidation_0-logloss:0.02774\n",
      "[235]\tvalidation_0-logloss:0.02766\n",
      "[236]\tvalidation_0-logloss:0.02740\n",
      "[237]\tvalidation_0-logloss:0.02727\n",
      "[238]\tvalidation_0-logloss:0.02717\n",
      "[239]\tvalidation_0-logloss:0.02698\n",
      "[240]\tvalidation_0-logloss:0.02690\n",
      "[241]\tvalidation_0-logloss:0.02674\n",
      "[242]\tvalidation_0-logloss:0.02667\n",
      "[243]\tvalidation_0-logloss:0.02662\n",
      "[244]\tvalidation_0-logloss:0.02649\n",
      "[245]\tvalidation_0-logloss:0.02637\n",
      "[246]\tvalidation_0-logloss:0.02614\n",
      "[247]\tvalidation_0-logloss:0.02608\n",
      "[248]\tvalidation_0-logloss:0.02599\n",
      "[249]\tvalidation_0-logloss:0.02590\n",
      "[250]\tvalidation_0-logloss:0.02575\n",
      "[251]\tvalidation_0-logloss:0.02569\n",
      "[252]\tvalidation_0-logloss:0.02560\n",
      "[253]\tvalidation_0-logloss:0.02545\n",
      "[254]\tvalidation_0-logloss:0.02537\n",
      "[255]\tvalidation_0-logloss:0.02532\n",
      "[256]\tvalidation_0-logloss:0.02516\n",
      "[257]\tvalidation_0-logloss:0.02511\n",
      "[258]\tvalidation_0-logloss:0.02494\n",
      "[259]\tvalidation_0-logloss:0.02487\n",
      "[260]\tvalidation_0-logloss:0.02485\n",
      "[261]\tvalidation_0-logloss:0.02480\n",
      "[262]\tvalidation_0-logloss:0.02476\n",
      "[263]\tvalidation_0-logloss:0.02469\n",
      "[264]\tvalidation_0-logloss:0.02460\n",
      "[265]\tvalidation_0-logloss:0.02453\n",
      "[266]\tvalidation_0-logloss:0.02440\n",
      "[267]\tvalidation_0-logloss:0.02426\n",
      "[268]\tvalidation_0-logloss:0.02417\n",
      "[269]\tvalidation_0-logloss:0.02407\n",
      "[270]\tvalidation_0-logloss:0.02401\n",
      "[271]\tvalidation_0-logloss:0.02393\n",
      "[272]\tvalidation_0-logloss:0.02387\n",
      "[273]\tvalidation_0-logloss:0.02387\n",
      "[274]\tvalidation_0-logloss:0.02375\n",
      "[275]\tvalidation_0-logloss:0.02368\n",
      "[276]\tvalidation_0-logloss:0.02363\n",
      "[277]\tvalidation_0-logloss:0.02359\n",
      "[278]\tvalidation_0-logloss:0.02351\n",
      "[279]\tvalidation_0-logloss:0.02343\n",
      "[280]\tvalidation_0-logloss:0.02340\n",
      "[281]\tvalidation_0-logloss:0.02334\n",
      "[282]\tvalidation_0-logloss:0.02327\n",
      "[283]\tvalidation_0-logloss:0.02319\n",
      "[284]\tvalidation_0-logloss:0.02310\n",
      "[285]\tvalidation_0-logloss:0.02307\n",
      "[286]\tvalidation_0-logloss:0.02304\n",
      "[287]\tvalidation_0-logloss:0.02295\n",
      "[288]\tvalidation_0-logloss:0.02286\n",
      "[289]\tvalidation_0-logloss:0.02280\n",
      "[290]\tvalidation_0-logloss:0.02278\n",
      "[291]\tvalidation_0-logloss:0.02273\n",
      "[292]\tvalidation_0-logloss:0.02264\n",
      "[293]\tvalidation_0-logloss:0.02263\n",
      "[294]\tvalidation_0-logloss:0.02248\n",
      "[295]\tvalidation_0-logloss:0.02240\n",
      "[296]\tvalidation_0-logloss:0.02243\n",
      "[297]\tvalidation_0-logloss:0.02235\n",
      "[298]\tvalidation_0-logloss:0.02231\n",
      "[299]\tvalidation_0-logloss:0.02217\n",
      "[300]\tvalidation_0-logloss:0.02205\n",
      "[301]\tvalidation_0-logloss:0.02200\n",
      "[302]\tvalidation_0-logloss:0.02186\n",
      "[303]\tvalidation_0-logloss:0.02177\n",
      "[304]\tvalidation_0-logloss:0.02173\n",
      "[305]\tvalidation_0-logloss:0.02171\n",
      "[306]\tvalidation_0-logloss:0.02162\n",
      "[307]\tvalidation_0-logloss:0.02154\n",
      "[308]\tvalidation_0-logloss:0.02142\n",
      "[309]\tvalidation_0-logloss:0.02140\n",
      "[310]\tvalidation_0-logloss:0.02133\n",
      "[311]\tvalidation_0-logloss:0.02130\n",
      "[312]\tvalidation_0-logloss:0.02122\n",
      "[313]\tvalidation_0-logloss:0.02116\n",
      "[314]\tvalidation_0-logloss:0.02113\n",
      "[315]\tvalidation_0-logloss:0.02109\n",
      "[316]\tvalidation_0-logloss:0.02104\n",
      "[317]\tvalidation_0-logloss:0.02092\n",
      "[318]\tvalidation_0-logloss:0.02092\n",
      "[319]\tvalidation_0-logloss:0.02090\n",
      "[320]\tvalidation_0-logloss:0.02086\n",
      "[321]\tvalidation_0-logloss:0.02074\n",
      "[322]\tvalidation_0-logloss:0.02064\n",
      "[323]\tvalidation_0-logloss:0.02063\n",
      "[324]\tvalidation_0-logloss:0.02061\n",
      "[325]\tvalidation_0-logloss:0.02057\n",
      "[326]\tvalidation_0-logloss:0.02054\n",
      "[327]\tvalidation_0-logloss:0.02049\n",
      "[328]\tvalidation_0-logloss:0.02045\n",
      "[329]\tvalidation_0-logloss:0.02032\n",
      "[330]\tvalidation_0-logloss:0.02025\n",
      "[331]\tvalidation_0-logloss:0.02022\n",
      "[332]\tvalidation_0-logloss:0.02017\n",
      "[333]\tvalidation_0-logloss:0.02009\n",
      "[334]\tvalidation_0-logloss:0.02006\n",
      "[335]\tvalidation_0-logloss:0.02001\n",
      "[336]\tvalidation_0-logloss:0.01997\n",
      "[337]\tvalidation_0-logloss:0.01992\n",
      "[338]\tvalidation_0-logloss:0.01990\n",
      "[339]\tvalidation_0-logloss:0.01983\n",
      "[340]\tvalidation_0-logloss:0.01976\n",
      "[341]\tvalidation_0-logloss:0.01975\n",
      "[342]\tvalidation_0-logloss:0.01968\n",
      "[343]\tvalidation_0-logloss:0.01958\n",
      "[344]\tvalidation_0-logloss:0.01959\n",
      "[345]\tvalidation_0-logloss:0.01958\n",
      "[346]\tvalidation_0-logloss:0.01955\n",
      "[347]\tvalidation_0-logloss:0.01949\n",
      "[348]\tvalidation_0-logloss:0.01939\n",
      "[349]\tvalidation_0-logloss:0.01933\n",
      "[350]\tvalidation_0-logloss:0.01930\n",
      "[351]\tvalidation_0-logloss:0.01926\n",
      "[352]\tvalidation_0-logloss:0.01919\n",
      "[353]\tvalidation_0-logloss:0.01912\n",
      "[354]\tvalidation_0-logloss:0.01908\n",
      "[355]\tvalidation_0-logloss:0.01907\n",
      "[356]\tvalidation_0-logloss:0.01904\n",
      "[357]\tvalidation_0-logloss:0.01902\n",
      "[358]\tvalidation_0-logloss:0.01895\n",
      "[359]\tvalidation_0-logloss:0.01891\n",
      "[360]\tvalidation_0-logloss:0.01889\n",
      "[361]\tvalidation_0-logloss:0.01887\n",
      "[362]\tvalidation_0-logloss:0.01881\n",
      "[363]\tvalidation_0-logloss:0.01878\n",
      "[364]\tvalidation_0-logloss:0.01873\n",
      "[365]\tvalidation_0-logloss:0.01869\n",
      "[366]\tvalidation_0-logloss:0.01864\n",
      "[367]\tvalidation_0-logloss:0.01859\n",
      "[368]\tvalidation_0-logloss:0.01854\n",
      "[369]\tvalidation_0-logloss:0.01856\n",
      "[370]\tvalidation_0-logloss:0.01851\n",
      "[371]\tvalidation_0-logloss:0.01847\n",
      "[372]\tvalidation_0-logloss:0.01838\n",
      "[373]\tvalidation_0-logloss:0.01833\n",
      "[374]\tvalidation_0-logloss:0.01831\n",
      "[375]\tvalidation_0-logloss:0.01827\n",
      "[376]\tvalidation_0-logloss:0.01816\n",
      "[377]\tvalidation_0-logloss:0.01812\n",
      "[378]\tvalidation_0-logloss:0.01809\n",
      "[379]\tvalidation_0-logloss:0.01805\n",
      "[380]\tvalidation_0-logloss:0.01801\n",
      "[381]\tvalidation_0-logloss:0.01797\n",
      "[382]\tvalidation_0-logloss:0.01786\n",
      "[383]\tvalidation_0-logloss:0.01784\n",
      "[384]\tvalidation_0-logloss:0.01779\n",
      "[385]\tvalidation_0-logloss:0.01779\n",
      "[386]\tvalidation_0-logloss:0.01776\n",
      "[387]\tvalidation_0-logloss:0.01769\n",
      "[388]\tvalidation_0-logloss:0.01767\n",
      "[389]\tvalidation_0-logloss:0.01766\n",
      "[390]\tvalidation_0-logloss:0.01764\n",
      "[391]\tvalidation_0-logloss:0.01761\n",
      "[392]\tvalidation_0-logloss:0.01760\n",
      "[393]\tvalidation_0-logloss:0.01754\n",
      "[394]\tvalidation_0-logloss:0.01751\n",
      "[395]\tvalidation_0-logloss:0.01748\n",
      "[396]\tvalidation_0-logloss:0.01743\n",
      "[397]\tvalidation_0-logloss:0.01740\n",
      "[398]\tvalidation_0-logloss:0.01738\n",
      "[399]\tvalidation_0-logloss:0.01734\n",
      "[400]\tvalidation_0-logloss:0.01734\n",
      "[401]\tvalidation_0-logloss:0.01731\n",
      "[402]\tvalidation_0-logloss:0.01725\n",
      "[403]\tvalidation_0-logloss:0.01722\n",
      "[404]\tvalidation_0-logloss:0.01721\n",
      "[405]\tvalidation_0-logloss:0.01718\n",
      "[406]\tvalidation_0-logloss:0.01713\n",
      "[407]\tvalidation_0-logloss:0.01708\n",
      "[408]\tvalidation_0-logloss:0.01704\n",
      "[409]\tvalidation_0-logloss:0.01702\n",
      "[410]\tvalidation_0-logloss:0.01696\n",
      "[411]\tvalidation_0-logloss:0.01694\n",
      "[412]\tvalidation_0-logloss:0.01685\n",
      "[413]\tvalidation_0-logloss:0.01683\n",
      "[414]\tvalidation_0-logloss:0.01681\n",
      "[415]\tvalidation_0-logloss:0.01678\n",
      "[416]\tvalidation_0-logloss:0.01675\n",
      "[417]\tvalidation_0-logloss:0.01675\n",
      "[418]\tvalidation_0-logloss:0.01673\n",
      "[419]\tvalidation_0-logloss:0.01671\n",
      "[420]\tvalidation_0-logloss:0.01666\n",
      "[421]\tvalidation_0-logloss:0.01663\n",
      "[422]\tvalidation_0-logloss:0.01660\n",
      "[423]\tvalidation_0-logloss:0.01656\n",
      "[424]\tvalidation_0-logloss:0.01654\n",
      "[425]\tvalidation_0-logloss:0.01652\n",
      "[426]\tvalidation_0-logloss:0.01652\n",
      "[427]\tvalidation_0-logloss:0.01649\n",
      "[428]\tvalidation_0-logloss:0.01649\n",
      "[429]\tvalidation_0-logloss:0.01648\n",
      "[430]\tvalidation_0-logloss:0.01644\n",
      "[431]\tvalidation_0-logloss:0.01642\n",
      "[432]\tvalidation_0-logloss:0.01641\n",
      "[433]\tvalidation_0-logloss:0.01638\n",
      "[434]\tvalidation_0-logloss:0.01634\n",
      "[435]\tvalidation_0-logloss:0.01633\n",
      "[436]\tvalidation_0-logloss:0.01633\n",
      "[437]\tvalidation_0-logloss:0.01630\n",
      "[438]\tvalidation_0-logloss:0.01628\n",
      "[439]\tvalidation_0-logloss:0.01625\n",
      "[440]\tvalidation_0-logloss:0.01621\n",
      "[441]\tvalidation_0-logloss:0.01613\n",
      "[442]\tvalidation_0-logloss:0.01611\n",
      "[443]\tvalidation_0-logloss:0.01607\n",
      "[444]\tvalidation_0-logloss:0.01605\n",
      "[445]\tvalidation_0-logloss:0.01603\n",
      "[446]\tvalidation_0-logloss:0.01600\n",
      "[447]\tvalidation_0-logloss:0.01601\n",
      "[448]\tvalidation_0-logloss:0.01598\n",
      "[449]\tvalidation_0-logloss:0.01596\n",
      "[450]\tvalidation_0-logloss:0.01592\n",
      "[451]\tvalidation_0-logloss:0.01588\n",
      "[452]\tvalidation_0-logloss:0.01580\n",
      "[453]\tvalidation_0-logloss:0.01581\n",
      "[454]\tvalidation_0-logloss:0.01578\n",
      "[455]\tvalidation_0-logloss:0.01576\n",
      "[456]\tvalidation_0-logloss:0.01576\n",
      "[457]\tvalidation_0-logloss:0.01574\n",
      "[458]\tvalidation_0-logloss:0.01573\n",
      "[459]\tvalidation_0-logloss:0.01569\n",
      "[460]\tvalidation_0-logloss:0.01569\n",
      "[461]\tvalidation_0-logloss:0.01568\n",
      "[462]\tvalidation_0-logloss:0.01565\n",
      "[463]\tvalidation_0-logloss:0.01561\n",
      "[464]\tvalidation_0-logloss:0.01559\n",
      "[465]\tvalidation_0-logloss:0.01556\n",
      "[466]\tvalidation_0-logloss:0.01555\n",
      "[467]\tvalidation_0-logloss:0.01552\n",
      "[468]\tvalidation_0-logloss:0.01549\n",
      "[469]\tvalidation_0-logloss:0.01547\n",
      "[470]\tvalidation_0-logloss:0.01544\n",
      "[471]\tvalidation_0-logloss:0.01542\n",
      "[472]\tvalidation_0-logloss:0.01542\n",
      "[473]\tvalidation_0-logloss:0.01543\n",
      "[474]\tvalidation_0-logloss:0.01543\n",
      "[475]\tvalidation_0-logloss:0.01535\n",
      "[476]\tvalidation_0-logloss:0.01534\n",
      "[477]\tvalidation_0-logloss:0.01533\n",
      "[478]\tvalidation_0-logloss:0.01532\n",
      "[479]\tvalidation_0-logloss:0.01530\n",
      "[480]\tvalidation_0-logloss:0.01529\n",
      "[481]\tvalidation_0-logloss:0.01529\n",
      "[482]\tvalidation_0-logloss:0.01528\n",
      "[483]\tvalidation_0-logloss:0.01528\n",
      "[484]\tvalidation_0-logloss:0.01527\n",
      "[485]\tvalidation_0-logloss:0.01524\n",
      "[486]\tvalidation_0-logloss:0.01522\n",
      "[487]\tvalidation_0-logloss:0.01519\n",
      "[488]\tvalidation_0-logloss:0.01517\n",
      "[489]\tvalidation_0-logloss:0.01517\n",
      "[490]\tvalidation_0-logloss:0.01513\n",
      "[491]\tvalidation_0-logloss:0.01509\n",
      "[492]\tvalidation_0-logloss:0.01507\n",
      "[493]\tvalidation_0-logloss:0.01505\n",
      "[494]\tvalidation_0-logloss:0.01502\n",
      "[495]\tvalidation_0-logloss:0.01495\n",
      "[496]\tvalidation_0-logloss:0.01493\n",
      "[497]\tvalidation_0-logloss:0.01489\n",
      "[498]\tvalidation_0-logloss:0.01485\n",
      "[499]\tvalidation_0-logloss:0.01484\n"
     ]
    },
    {
     "data": {
      "text/plain": [
       "499"
      ]
     },
     "execution_count": 48,
     "metadata": {},
     "output_type": "execute_result"
    }
   ],
   "source": [
    "from xgboost import XGBClassifier\n",
    "\n",
    "xgb_model = XGBClassifier(n_estimators=500, learning_rate=0.1, verbosity=1, random_state=RANDOM_STATE, early_stopping_rounds=10)\n",
    "xgb_model.fit(X_train, y_train, eval_set=[(X_train_eval, y_train_eval)])\n",
    "\n",
    "xgb_model.best_iteration"
   ]
  },
  {
   "cell_type": "code",
   "execution_count": 50,
   "metadata": {},
   "outputs": [
    {
     "name": "stdout",
     "output_type": "stream",
     "text": [
      "Metrics train:\n",
      "\tAccuracy score: 1.0000\n",
      "Metrics test:\n",
      "\tAccuracy score: 0.8804\n"
     ]
    }
   ],
   "source": [
    "print(f\"Metrics train:\\n\\tAccuracy score: {accuracy_score(xgb_model.predict(X_train),y_train):.4f}\\nMetrics test:\\n\\tAccuracy score: {accuracy_score(y_cv, xgb_model.predict(X_cv)):.4f}\")"
   ]
  }
 ],
 "metadata": {
  "kernelspec": {
   "display_name": "Python 3",
   "language": "python",
   "name": "python3"
  },
  "language_info": {
   "codemirror_mode": {
    "name": "ipython",
    "version": 3
   },
   "file_extension": ".py",
   "mimetype": "text/x-python",
   "name": "python",
   "nbconvert_exporter": "python",
   "pygments_lexer": "ipython3",
   "version": "3.12.2"
  }
 },
 "nbformat": 4,
 "nbformat_minor": 2
}
