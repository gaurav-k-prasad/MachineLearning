{
	"cells": [
		{
			"cell_type": "markdown",
			"metadata": {},
			"source": [
				"### Polynomial regression\n"
			]
		},
		{
			"cell_type": "code",
			"execution_count": 92,
			"metadata": {},
			"outputs": [],
			"source": [
				"import numpy as np\n",
				"import matplotlib.pyplot as plt\n",
				"\n",
				"np.set_printoptions(precision=2)"
			]
		},
		{
			"cell_type": "code",
			"execution_count": 96,
			"metadata": {},
			"outputs": [
				{
					"name": "stdout",
					"output_type": "stream",
					"text": [
						"[[0.00e+00 0.00e+00 0.00e+00 0.00e+00 0.00e+00 0.00e+00 0.00e+00 0.00e+00\n",
						"  0.00e+00 0.00e+00 0.00e+00 0.00e+00 0.00e+00]\n",
						" [1.00e+00 1.00e+00 1.00e+00 1.00e+00 1.00e+00 1.00e+00 1.00e+00 1.00e+00\n",
						"  1.00e+00 1.00e+00 1.00e+00 1.00e+00 1.00e+00]\n",
						" [2.00e+00 4.00e+00 8.00e+00 1.60e+01 3.20e+01 6.40e+01 1.28e+02 2.56e+02\n",
						"  5.12e+02 1.02e+03 2.05e+03 4.10e+03 8.19e+03]\n",
						" [3.00e+00 9.00e+00 2.70e+01 8.10e+01 2.43e+02 7.29e+02 2.19e+03 6.56e+03\n",
						"  1.97e+04 5.90e+04 1.77e+05 5.31e+05 1.59e+06]\n",
						" [4.00e+00 1.60e+01 6.40e+01 2.56e+02 1.02e+03 4.10e+03 1.64e+04 6.55e+04\n",
						"  2.62e+05 1.05e+06 4.19e+06 1.68e+07 6.71e+07]\n",
						" [5.00e+00 2.50e+01 1.25e+02 6.25e+02 3.12e+03 1.56e+04 7.81e+04 3.91e+05\n",
						"  1.95e+06 9.77e+06 4.88e+07 2.44e+08 1.22e+09]\n",
						" [6.00e+00 3.60e+01 2.16e+02 1.30e+03 7.78e+03 4.67e+04 2.80e+05 1.68e+06\n",
						"  1.01e+07 6.05e+07 3.63e+08 2.18e+09 1.31e+10]\n",
						" [7.00e+00 4.90e+01 3.43e+02 2.40e+03 1.68e+04 1.18e+05 8.24e+05 5.76e+06\n",
						"  4.04e+07 2.82e+08 1.98e+09 1.38e+10 9.69e+10]\n",
						" [8.00e+00 6.40e+01 5.12e+02 4.10e+03 3.28e+04 2.62e+05 2.10e+06 1.68e+07\n",
						"  1.34e+08 1.07e+09 8.59e+09 6.87e+10 5.50e+11]\n",
						" [9.00e+00 8.10e+01 7.29e+02 6.56e+03 5.90e+04 5.31e+05 4.78e+06 4.30e+07\n",
						"  3.87e+08 3.49e+09 3.14e+10 2.82e+11 2.54e+12]\n",
						" [1.00e+01 1.00e+02 1.00e+03 1.00e+04 1.00e+05 1.00e+06 1.00e+07 1.00e+08\n",
						"  1.00e+09 1.00e+10 1.00e+11 1.00e+12 1.00e+13]\n",
						" [1.10e+01 1.21e+02 1.33e+03 1.46e+04 1.61e+05 1.77e+06 1.95e+07 2.14e+08\n",
						"  2.36e+09 2.59e+10 2.85e+11 3.14e+12 3.45e+13]\n",
						" [1.20e+01 1.44e+02 1.73e+03 2.07e+04 2.49e+05 2.99e+06 3.58e+07 4.30e+08\n",
						"  5.16e+09 6.19e+10 7.43e+11 8.92e+12 1.07e+14]\n",
						" [1.30e+01 1.69e+02 2.20e+03 2.86e+04 3.71e+05 4.83e+06 6.27e+07 8.16e+08\n",
						"  1.06e+10 1.38e+11 1.79e+12 2.33e+13 3.03e+14]\n",
						" [1.40e+01 1.96e+02 2.74e+03 3.84e+04 5.38e+05 7.53e+06 1.05e+08 1.48e+09\n",
						"  2.07e+10 2.89e+11 4.05e+12 5.67e+13 7.94e+14]\n",
						" [1.50e+01 2.25e+02 3.38e+03 5.06e+04 7.59e+05 1.14e+07 1.71e+08 2.56e+09\n",
						"  3.84e+10 5.77e+11 8.65e+12 1.30e+14 1.95e+15]\n",
						" [1.60e+01 2.56e+02 4.10e+03 6.55e+04 1.05e+06 1.68e+07 2.68e+08 4.29e+09\n",
						"  6.87e+10 1.10e+12 1.76e+13 2.81e+14 4.50e+15]\n",
						" [1.70e+01 2.89e+02 4.91e+03 8.35e+04 1.42e+06 2.41e+07 4.10e+08 6.98e+09\n",
						"  1.19e+11 2.02e+12 3.43e+13 5.83e+14 9.90e+15]\n",
						" [1.80e+01 3.24e+02 5.83e+03 1.05e+05 1.89e+06 3.40e+07 6.12e+08 1.10e+10\n",
						"  1.98e+11 3.57e+12 6.43e+13 1.16e+15 2.08e+16]\n",
						" [1.90e+01 3.61e+02 6.86e+03 1.30e+05 2.48e+06 4.70e+07 8.94e+08 1.70e+10\n",
						"  3.23e+11 6.13e+12 1.16e+14 2.21e+15 4.21e+16]]\n"
					]
				}
			],
			"source": [
				"x = np.arange(20, dtype=np.longdouble)\n",
				"y = np.cos(x / 2)\n",
				"\n",
				"X = np.c_[x, x**2, x**3,x**4, x**5, x**6, x**7, x**8, x**9, x**10, x**11, x**12, x**13]\n",
				"print(X)"
			]
		},
		{
			"cell_type": "code",
			"execution_count": null,
			"metadata": {},
			"outputs": [
				{
					"name": "stdout",
					"output_type": "stream",
					"text": [
						"[ 0.03  0.03  0.03  0.03  0.03  0.03  0.03  0.03  0.02  0.01 -0.28 -3.33\n",
						"  0.08] -0.22879089218401005\n",
						"[ 1.    0.88  0.54  0.07 -0.42 -0.8  -0.99 -0.94 -0.65 -0.21  0.28  0.71\n",
						"  0.96  0.98  0.75  0.35 -0.15 -0.6  -0.91 -1.  ]\n",
						"[ 0.13  0.13  0.13  0.13  0.13  0.13  0.13  0.13  0.13  0.13  0.13  0.13\n",
						"  0.13  0.12  0.09  0.04 -0.06 -0.25 -0.6  -1.21]\n",
						"83.91960352654061\n"
					]
				},
				{
					"data": {
						"image/png": "[encoded data removed]",
						"text/plain": [
							"<Figure size 640x480 with 1 Axes>"
						]
					},
					"metadata": {},
					"output_type": "display_data"
				}
			],
			"source": [
				"def normalize_z_score(X):\n",
				"    mean = X.mean()\n",
				"    std = X.std()\n",
				"\n",
				"    return (X - mean) / std, mean, std\n",
				"\n",
				"\n",
				"def calc_cost(x_train, y_train, w, b) -> float:\n",
				"    m: int = len(x_train)\n",
				"    cost: float = 0\n",
				"\n",
				"    for i in range(m):\n",
				"        diff: float = (w @ x_train[i]) + b - y_train[i]\n",
				"        cost += diff * diff\n",
				"\n",
				"    return cost / 2 * m\n",
				"\n",
				"\n",
				"def find_gradient(x_train, y_train, w, b):\n",
				"    m: int = len(x_train)\n",
				"    n: int = len(x_train[0])\n",
				"\n",
				"    diff_b: float = 0\n",
				"    diff_w = np.zeros(n, dtype=np.longdouble)\n",
				"    cost: float = 0\n",
				"\n",
				"    for i in range(m):\n",
				"        diff: float = (w @ x_train[i]) + b - y_train[i]\n",
				"\n",
				"        diff_b += diff\n",
				"        cost += diff * diff\n",
				"\n",
				"        for j in range(n):\n",
				"            diff_w[j] += diff * x_train[i, j]\n",
				"\n",
				"    return diff_w / m, diff_b / m, cost / (2 * m)\n",
				"\n",
				"\n",
				"def gradient_descent(x_train, y_train, iterations: int, learning_rate: float):\n",
				"    m: int = len(x_train)\n",
				"    n: int = len(x_train[0])\n",
				"\n",
				"    w = np.zeros(n, dtype=np.longdouble)\n",
				"    b: float = 0\n",
				"    allCosts = []\n",
				"\n",
				"    for _ in range(iterations):\n",
				"        diff_w, diff_b, cost = find_gradient(x_train, y_train, w, b)\n",
				"        w -= learning_rate * diff_w\n",
				"        b -= learning_rate * diff_b\n",
				"        allCosts.append(cost)\n",
				"\n",
				"    return w, b, allCosts\n",
				"\n",
				"\n",
				"def predict(data, w, b):\n",
				"    return (data @ w) + b\n",
				"\n",
				"\n",
				"def test(x_train, y_train):\n",
				"    m: int = len(x_train)\n",
				"    pred = np.zeros(m, dtype=np.longdouble)\n",
				"    iterations: int = 100000\n",
				"    learning_rate: float = 1e-1\n",
				"\n",
				"    w, b, allCosts = gradient_descent(x_train, y_train, iterations, learning_rate)\n",
				"\n",
				"    for i in range(m):\n",
				"        pred[i] = predict(x_train[i], w, b)\n",
				"\n",
				"    print(w, b)\n",
				"\n",
				"    print(y_train)\n",
				"    print(pred)\n",
				"\n",
				"    cost = calc_cost(x_train, y_train, w, b)\n",
				"    print(cost)\n",
				"    \n",
				"    plt.plot(np.arange(m), y_train)\n",
				"    plt.plot(np.arange(m), pred)\n",
				"\n",
				"\n",
				"X, mean, std = normalize_z_score(X)\n",
				"\n",
				"test(X, y)"
			]
		}
	],
	"metadata": {
		"kernelspec": {
			"display_name": "Python 3",
			"language": "python",
			"name": "python3"
		},
		"language_info": {
			"codemirror_mode": {
				"name": "ipython",
				"version": 3
			},
			"file_extension": ".py",
			"mimetype": "text/x-python",
			"name": "python",
			"nbconvert_exporter": "python",
			"pygments_lexer": "ipython3",
			"version": "3.12.2"
		}
	},
	"nbformat": 4,
	"nbformat_minor": 2
}
