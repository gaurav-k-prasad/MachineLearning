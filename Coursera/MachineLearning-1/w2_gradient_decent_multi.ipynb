{
 "cells": [
  {
   "cell_type": "code",
   "execution_count": 2,
   "metadata": {},
   "outputs": [],
   "source": [
    "import numpy as np\n",
    "import matplotlib.pyplot as plt"
   ]
  },
  {
   "cell_type": "code",
   "execution_count": 3,
   "metadata": {},
   "outputs": [],
   "source": [
    "x_train = np.array([[2104, 5, 1, 45], [1416, 3, 2, 40], [852, 2, 1, 35]])\n",
    "y_train = np.array([460, 232, 178])"
   ]
  },
  {
   "cell_type": "code",
   "execution_count": 4,
   "metadata": {},
   "outputs": [],
   "source": [
    "def calc_cost(x_train, y_train, w, b) -> float:\n",
    "    m: int = len(x_train)\n",
    "    res: float = 0\n",
    "    \n",
    "    for i in range(m):\n",
    "        f_wb: float = np.dot(w, x_train[i]) + b\n",
    "        res += (f_wb - y_train[i]) ** 2\n",
    "\n",
    "    return res / (2 * m)"
   ]
  },
  {
   "cell_type": "code",
   "execution_count": 5,
   "metadata": {},
   "outputs": [],
   "source": [
    "def dj_dw(x_train, y_train, w, b: float):\n",
    "    m: int = len(x_train)\n",
    "    n: int = len(x_train[0])\n",
    "    \n",
    "    diff_w = np.zeros(n)\n",
    "    diff_b: float = 0\n",
    "\n",
    "    for i in range(m):\n",
    "        f_wb: float = np.dot(w, x_train[i]) + b\n",
    "        diff: float = f_wb - y_train[i]\n",
    "\n",
    "        diff_b += diff\n",
    "\n",
    "        for j in range(n):\n",
    "            diff_w[j] += (diff) * x_train[i, j]\n",
    "\n",
    "    return (diff_w / m, diff_b / m)"
   ]
  },
  {
   "cell_type": "code",
   "execution_count": 6,
   "metadata": {},
   "outputs": [],
   "source": [
    "def gradient_descent(x_train, y_train, learning_rate: float, it: int):\n",
    "    m: int = len(x_train)\n",
    "    n: int = len(x_train[0])\n",
    "\n",
    "    w = np.zeros(n)\n",
    "    b = 0.\n",
    "\n",
    "    for _ in range(it):\n",
    "        diff_w, diff_b = dj_dw(x_train, y_train, w, b)\n",
    "        \n",
    "        w -= learning_rate * diff_w\n",
    "        b -= learning_rate * diff_b\n",
    "        # print(w, b)\n",
    "\n",
    "    return (w, b)"
   ]
  },
  {
   "cell_type": "code",
   "execution_count": 11,
   "metadata": {},
   "outputs": [
    {
     "name": "stdout",
     "output_type": "stream",
     "text": [
      "prediction: 430.50, target value: 460\n",
      "prediction: 283.93, target value: 232\n",
      "prediction: 164.52, target value: 178\n"
     ]
    }
   ],
   "source": [
    "b_init = 785.1811367994083\n",
    "w_init = np.array([ 0.39133535, 18.75376741, -53.36032453, -26.42131618])\n",
    "\n",
    "w, b = gradient_descent(x_train, y_train, learning_rate=5.0e-7, it=10000)\n",
    "\n",
    "m: int = len(x_train)\n",
    "\n",
    "for i in range(m):\n",
    "    print(f\"prediction: {np.dot(x_train[i], w) + b:0.2f}, target value: {y_train[i]}\")"
   ]
  }
 ],
 "metadata": {
  "kernelspec": {
   "display_name": "Python 3",
   "language": "python",
   "name": "python3"
  },
  "language_info": {
   "codemirror_mode": {
    "name": "ipython",
    "version": 3
   },
   "file_extension": ".py",
   "mimetype": "text/x-python",
   "name": "python",
   "nbconvert_exporter": "python",
   "pygments_lexer": "ipython3",
   "version": "3.12.2"
  }
 },
 "nbformat": 4,
 "nbformat_minor": 2
}
