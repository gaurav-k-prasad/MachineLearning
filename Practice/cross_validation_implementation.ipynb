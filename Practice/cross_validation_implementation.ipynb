{
 "cells": [
  {
   "metadata": {},
   "cell_type": "markdown",
   "source": "## Implementation of Cross-validation",
   "id": "669e11152b99a7c7"
  },
  {
   "metadata": {
    "ExecuteTime": {
     "end_time": "2025-06-04T07:00:18.410637Z",
     "start_time": "2025-06-04T07:00:18.395870Z"
    }
   },
   "cell_type": "code",
   "source": [
    "from sklearn.linear_model import SGDClassifier\n",
    "from sklearn.model_selection import StratifiedKFold\n",
    "from sklearn.datasets import make_classification\n",
    "from sklearn.model_selection import train_test_split\n",
    "from sklearn.base import clone\n",
    "\n",
    "skfolds = StratifiedKFold(n_splits=4)\n",
    "X_train, y_train = make_classification(n_samples=1000, n_features=4, n_classes=2)\n",
    "sdg_clr = SGDClassifier()\n",
    "\n",
    "for train_index, test_index in skfolds.split(X_train, y_train):\n",
    "    curr_model = clone(sdg_clr)\n",
    "    curr_model.fit(X_train[train_index], y_train[train_index])\n",
    "\n",
    "    pred = curr_model.predict(X_train[test_index])\n",
    "    n_correct = sum(pred == y_train[test_index])\n",
    "    acc = n_correct / len(test_index)\n",
    "    print(acc)\n"
   ],
   "id": "d5f10518f53cca80",
   "outputs": [
    {
     "name": "stdout",
     "output_type": "stream",
     "text": [
      "0.88\n",
      "0.92\n",
      "0.908\n",
      "0.88\n"
     ]
    }
   ],
   "execution_count": 73
  }
 ],
 "metadata": {
  "kernelspec": {
   "display_name": "Python 3",
   "language": "python",
   "name": "python3"
  },
  "language_info": {
   "codemirror_mode": {
    "name": "ipython",
    "version": 2
   },
   "file_extension": ".py",
   "mimetype": "text/x-python",
   "name": "python",
   "nbconvert_exporter": "python",
   "pygments_lexer": "ipython2",
   "version": "2.7.6"
  }
 },
 "nbformat": 4,
 "nbformat_minor": 5
}
