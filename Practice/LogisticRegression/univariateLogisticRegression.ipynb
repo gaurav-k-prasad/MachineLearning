{
 "cells": [
  {
   "cell_type": "markdown",
   "metadata": {},
   "source": [
    "# Logistic Regression"
   ]
  },
  {
   "cell_type": "code",
   "execution_count": 2,
   "metadata": {},
   "outputs": [],
   "source": [
    "import numpy as np\n",
    "import matplotlib.pyplot as plt"
   ]
  },
  {
   "cell_type": "code",
   "execution_count": 3,
   "metadata": {},
   "outputs": [],
   "source": [
    "w, b = 0, 0"
   ]
  },
  {
   "cell_type": "code",
   "execution_count": 6,
   "metadata": {},
   "outputs": [
    {
     "name": "stdout",
     "output_type": "stream",
     "text": [
      "9.50512428150334 -23.587112280916873\n",
      "[0 1 2 3 4 5] [5.70489023e-11 7.66072698e-07 1.01823620e-02 9.92812943e-01\n",
      " 9.99999461e-01 1.00000000e+00]\n"
     ]
    },
    {
     "data": {
      "image/png": "[encoded data removed]",
      "text/plain": [
       "<Figure size 640x480 with 1 Axes>"
      ]
     },
     "metadata": {},
     "output_type": "display_data"
    }
   ],
   "source": [
    "def sigmoid(x, w: float, b: float):\n",
    "    val = 1 / (1 + np.exp(-(x * w + b)))\n",
    "    return val\n",
    "\n",
    "\n",
    "def calc_cost(x_train, y_train, w, b) -> float:\n",
    "    m: int = len(x_train)\n",
    "    return (1 / (2 * m)) * sum(((x_train * w + b) - y_train) ** 2)\n",
    "\n",
    "\n",
    "def gradient(x_train, y_train, w: float, b: float) -> tuple[float, float]:\n",
    "    m: int = len(x_train)\n",
    "    y_pred = sigmoid(x_train, w, b)\n",
    "\n",
    "    dj_dw = (1 / m) * np.sum((y_pred - y_train) * x_train)\n",
    "    dj_db = (1 / m) * np.sum(y_pred - y_train)\n",
    "\n",
    "    return dj_dw, dj_db\n",
    "\n",
    "\n",
    "def gradient_descent(x_train, y_train):\n",
    "    w: float = 0\n",
    "    b: float = 0\n",
    "\n",
    "    iterations: int = 100000\n",
    "    learning_rate = 1e-1\n",
    "\n",
    "    for _ in range(iterations):\n",
    "        dj_dw, dj_db = gradient(x_train, y_train, w, b)\n",
    "        w -= learning_rate * dj_dw\n",
    "        b -= learning_rate * dj_db\n",
    "\n",
    "    return w, b\n",
    "\n",
    "\n",
    "def plot_sigmoid(x_train, y_train, w, b):\n",
    "    x = np.arange(6)\n",
    "    y = sigmoid(x, w, b)\n",
    "\n",
    "    print(x, y)\n",
    "    plt.plot(x, y)\n",
    "    plt.scatter(x_train, y_train)\n",
    "\n",
    "    plt.xticks(x)\n",
    "    plt.legend(\"Sigmoid function\")\n",
    "    plt.xlabel(\"X\")\n",
    "    plt.ylabel(\"Sigmoid\")\n",
    "    plt.axhline(y=0.5, color=\"r\", linestyle=\"--\")\n",
    "    plt.show()\n",
    "\n",
    "\n",
    "def test():\n",
    "    global w, b\n",
    "\n",
    "    x_train = np.array([0., 1, 2, 3, 4, 5])\n",
    "    y_train = np.array([0,  0, 0, 1, 1, 1])\n",
    "\n",
    "    w, b = gradient_descent(x_train, y_train)\n",
    "\n",
    "    print(w, b)\n",
    "    plot_sigmoid(x_train, y_train, w, b)\n",
    "\n",
    "\n",
    "test()"
   ]
  }
 ],
 "metadata": {
  "kernelspec": {
   "display_name": "Python 3",
   "language": "python",
   "name": "python3"
  },
  "language_info": {
   "codemirror_mode": {
    "name": "ipython",
    "version": 3
   },
   "file_extension": ".py",
   "mimetype": "text/x-python",
   "name": "python",
   "nbconvert_exporter": "python",
   "pygments_lexer": "ipython3",
   "version": "3.12.2"
  }
 },
 "nbformat": 4,
 "nbformat_minor": 2
}
